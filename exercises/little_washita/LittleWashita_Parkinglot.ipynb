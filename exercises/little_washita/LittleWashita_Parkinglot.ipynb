{
 "cells": [
  {
   "cell_type": "markdown",
   "id": "d83ae938-1c52-479f-80cc-dcbc779ef166",
   "metadata": {
    "tags": []
   },
   "source": [
    "# Little Washita Parking Lot Test Example\n",
    "This workbook illustrates how to setup and parking lot simulation when you are building and testing your domain. In a \"Parking lot\" simualtion we set the permeability of the subsurface very low and rain on the domain to check that our topographic slopes are setup the way we want and our drainage networks are where we expect them to be. This is a good initial step to do when building a watershed model before you add all the complexity of the subsurface and the land surface model.   \n",
    "\n",
    "We provide comments here on the steps that are unique to a parking lot simulation. For a more thoroughly documented script refer to the [Little Washita Annoated ParFlow-CLM simulation script](https://github.com/hydroframe/parflow_python_shortcourse/blob/main/exercises/little_washita/LittleWashita_ParFlowCLM_AnnotatedExample%20copy.ipynb). \n",
    "\n",
    "For additional resources on ParFlow Keys and input scripts refer to the [ParFlow Manual](https://parflow-docs.readthedocs.io/en/latest/keys.html#)\n",
    "\n",
    "**Requriements** \n",
    "Before you can run this workbook you will need to make sure that you have parflow and pftools installed. Refer to the main readme of this repo for instructions on getting your modeling environment setup. if you haven't do so already.\n",
    "\n",
    "**Simulation Inputs**\n",
    "All input files can be found in the `model_inputs` folder. Here we will be using:\n",
    "1. Solid file: used to define the shape of the domain \n",
    "3. Slope files: slope x and slope y files define the topographic slopes of each grid cell in the x and y directions"
   ]
  },
  {
   "cell_type": "markdown",
   "id": "86e82b0d-9959-4722-850f-8450d7b71d39",
   "metadata": {},
   "source": [
    "### 1. Import required libraries and functions "
   ]
  },
  {
   "cell_type": "code",
   "execution_count": 1,
   "id": "f0754238-fc6d-43e5-9f18-de1b8b97325f",
   "metadata": {},
   "outputs": [],
   "source": [
    "import os\n",
    "import numpy as np\n",
    "from parflow import Run \n",
    "import shutil\n",
    "from parflow.tools.fs import mkdir, cp, get_absolute_path, exists\n",
    "from parflow.tools.settings import set_working_directory"
   ]
  },
  {
   "cell_type": "markdown",
   "id": "a85ca856-a2fa-48b0-8923-24517b40f981",
   "metadata": {
    "tags": []
   },
   "source": [
    "## 2. Setup your run directory and initialize your model object\n",
    "Note we are are just copying in the slope files and the solid file. We don't need the CLM inputs, presure file or indicator file for this run. "
   ]
  },
  {
   "cell_type": "code",
   "execution_count": 2,
   "id": "c8ce6c81-f3b7-4ed3-8336-afc2e2549a8f",
   "metadata": {},
   "outputs": [
    {
     "name": "stdout",
     "output_type": "stream",
     "text": [
      "/Users/reed/Projects/parflow_python_shortcourse/exercises/little_washita/outputs/LW_ParkingLot\n"
     ]
    }
   ],
   "source": [
    "# Name your ParFLow run -- note that all of your output files will have this prefix\n",
    "runname = 'LW_ParkingLot'\n",
    "\n",
    "# Create a directory in the outputs folder for this run\n",
    "run_dir = get_absolute_path(f'outputs/{runname}')\n",
    "mkdir(run_dir)\n",
    "print(run_dir)\n",
    "\n",
    "# create your Parflow model object. For starters we are just goin to set the file version and the run directory we'll add more later\n",
    "# note that the model will run from the run_dir so all input files should be in the run dir or paths should be specified relative to run_dir\n",
    "model = Run(runname, run_dir)\n",
    "model.FileVersion = 4\n",
    "\n",
    "#copy the model inputs for the simulation into the run directory\n",
    "#NOTE: you dont have to copy everything into the run directory if you don't want, you can also point to input files in other directories in a simulation if you prefer\n",
    "input_dir= os.path.join(os.getcwd(), 'model_inputs')\n",
    "files = ['slopex_LW.pfb', 'slopey_LW.pfb', 'LW.pfsol']\n",
    "for fname in files:\n",
    "    shutil.copy(os.path.join(input_dir,fname), run_dir)"
   ]
  },
  {
   "cell_type": "markdown",
   "id": "84dc1cf7-242d-4a76-9d1d-d1825c6b4096",
   "metadata": {
    "tags": []
   },
   "source": [
    "## 3. Setup the computational grid\n",
    "We are going to go ahead and setup the grid they way we would when we are running full simulations here. Alghough the subsurface properties are not going to matter because we will make it all impermeable. If you prefer you can run your parking lot test with just one layer."
   ]
  },
  {
   "cell_type": "code",
   "execution_count": 3,
   "id": "f39fd2c8-2220-4b8c-9522-89256acfc85b",
   "metadata": {},
   "outputs": [],
   "source": [
    "# Processor topology: This is the way that the problem will be split across processors if you want to run in parallel\n",
    "# The domain is divided in x,y and z dimensions by P, Q and R. The total number of processors is P*Q*R.\n",
    "model.Process.Topology.P = 1\n",
    "model.Process.Topology.Q = 1\n",
    "model.Process.Topology.R = 1\n",
    "\n",
    "#Locate the origin in the domain.\n",
    "model.ComputationalGrid.Lower.X = 0.0\n",
    "model.ComputationalGrid.Lower.Y = 0.0\n",
    "model.ComputationalGrid.Lower.Z = 0.0\n",
    "\n",
    "# Define the size of each grid cell. The length units are the same as those on hydraulic conductivity, here that is meters.\n",
    "model.ComputationalGrid.DX = 1000.0\n",
    "model.ComputationalGrid.DY = 1000.0\n",
    "model.ComputationalGrid.DZ = 200.0\n",
    "\n",
    "# Define the number of grid blocks in the domain.\n",
    "model.ComputationalGrid.NX = 64\n",
    "model.ComputationalGrid.NY = 32\n",
    "model.ComputationalGrid.NZ = 10"
   ]
  },
  {
   "cell_type": "markdown",
   "id": "89d20ce8-fb7d-485c-9f37-3e33a34799df",
   "metadata": {},
   "source": [
    "### 3.2 Geometries\n",
    "\n",
    "In our main simulations we willuse an indicator to define units in the subsurface. here we will make everything uniformly impermable so we just have a solid file input. "
   ]
  },
  {
   "cell_type": "code",
   "execution_count": 4,
   "id": "25504f97-c613-4751-9e26-21f4e6181ff2",
   "metadata": {},
   "outputs": [],
   "source": [
    "#Declare the geometries that you will use for the problem\n",
    "model.GeomInput.Names = \"solid_input\"\n",
    "\n",
    "#Define the solid_input geometry.  \n",
    "#Note the naming convention here GeomInput.{GeomName}.key\n",
    "model.GeomInput.solid_input.InputType = \"SolidFile\"\n",
    "model.GeomInput.solid_input.GeomNames = \"domain\"\n",
    "model.GeomInput.solid_input.FileName = \"LW.pfsol\"\n",
    "\n",
    "#First set the name for your `Domain` and setup the patches for this domain\n",
    "model.Domain.GeomName = \"domain\"\n",
    "model.Geom.domain.Patches = \"top bottom side\""
   ]
  },
  {
   "cell_type": "markdown",
   "id": "7956e350-e316-402e-8c1f-9ff6a6358280",
   "metadata": {},
   "source": [
    "### 3.3 Variable ${\\Delta z}$ \n",
    "Here too we don't really need this for our test because we are focusing on the surface but we are keeping our full 3D grid so that we have it setup when we move to more complicated problems."
   ]
  },
  {
   "cell_type": "code",
   "execution_count": 5,
   "id": "de40ec18-e53e-4437-8263-eb8ae490233a",
   "metadata": {},
   "outputs": [],
   "source": [
    "model.Solver.Nonlinear.VariableDz = True\n",
    "model.dzScale.GeomNames = \"domain\"\n",
    "model.dzScale.Type = \"nzList\"\n",
    "model.dzScale.nzListNumber = 10\n",
    "\n",
    "model.Cell._0.dzScale.Value = 5\n",
    "model.Cell._1.dzScale.Value = 0.5\n",
    "model.Cell._2.dzScale.Value = 0.25\n",
    "model.Cell._3.dzScale.Value = 0.125\n",
    "model.Cell._4.dzScale.Value = 0.05\n",
    "model.Cell._5.dzScale.Value = 0.025\n",
    "model.Cell._6.dzScale.Value = 0.005\n",
    "model.Cell._7.dzScale.Value = 0.003\n",
    "model.Cell._8.dzScale.Value = 0.0015\n",
    "model.Cell._9.dzScale.Value = 0.0005"
   ]
  },
  {
   "cell_type": "markdown",
   "id": "557bf4be-eda5-4155-b67a-50aa897b7568",
   "metadata": {},
   "source": [
    "### 3.4 Topographic slopes \n",
    "Next we define topographic slopes and values. This is the main input that we want to test with this script.  Slope files are derived from elevaiton maps and this processing, as well as the resolution of the underlying elevation map, can lead to local sinks and inconsitencies in the drainage network that are non-physical.  "
   ]
  },
  {
   "cell_type": "code",
   "execution_count": 6,
   "id": "95b46b9e-835a-4b0e-8555-8e4d38c99e33",
   "metadata": {},
   "outputs": [],
   "source": [
    "model.TopoSlopesX.Type = \"PFBFile\"\n",
    "model.TopoSlopesX.GeomNames = \"domain\"\n",
    "model.TopoSlopesX.FileName = \"slopex_LW.pfb\"\n",
    "\n",
    "model.TopoSlopesY.Type = \"PFBFile\"\n",
    "model.TopoSlopesY.GeomNames = \"domain\"\n",
    "model.TopoSlopesY.FileName = \"slopey_LW.pfb\""
   ]
  },
  {
   "cell_type": "markdown",
   "id": "3423c545-1793-4c97-a4e0-feffb684e6fb",
   "metadata": {},
   "source": [
    "## 4. Setup the surface and subsurface properties \n",
    "We will treat the subsurface as homogenous for this test. The key here is that we want a very low permeability subsurface so that the rain we apply will runoff and we can evaluate our surface drainage network. \n"
   ]
  },
  {
   "cell_type": "code",
   "execution_count": 7,
   "id": "3e0f8afb-cb47-411d-8bf5-b8dcf463a91a",
   "metadata": {},
   "outputs": [],
   "source": [
    "# Permeability \n",
    "model.Geom.Perm.Names = \"domain\"\n",
    "model.Geom.domain.Perm.Type = \"Constant\"\n",
    "model.Geom.domain.Perm.Value = 0.000001\n",
    "\n",
    "# Permeability tensor\n",
    "model.Perm.TensorType = \"TensorByGeom\"\n",
    "model.Geom.Perm.TensorByGeom.Names = \"domain\"\n",
    "model.Geom.domain.Perm.TensorValX = 1.0\n",
    "model.Geom.domain.Perm.TensorValY = 1.0\n",
    "model.Geom.domain.Perm.TensorValZ = 1.0\n",
    "\n",
    "# Specific Storage\n",
    "model.SpecificStorage.Type = \"Constant\"\n",
    "model.SpecificStorage.GeomNames = \"domain\"\n",
    "model.Geom.domain.SpecificStorage.Value = 1.0e-5\n",
    "\n",
    "# Porosity\n",
    "model.Geom.Porosity.GeomNames = \"domain\"\n",
    "model.Geom.domain.Porosity.Type = \"Constant\"\n",
    "model.Geom.domain.Porosity.Value = 0.01\n",
    "\n",
    "# Relative Permeability\n",
    "model.Phase.RelPerm.Type =              \"VanGenuchten\"\n",
    "model.Phase.RelPerm.GeomNames =     \"domain\"\n",
    "model.Geom.domain.RelPerm.Alpha =    1.0\n",
    "model.Geom.domain.RelPerm.N =        2.0\n",
    "\n",
    "# Saturation\n",
    "model.Phase.Saturation.Type =             \"VanGenuchten\"\n",
    "model.Phase.Saturation.GeomNames =         \"domain\"\n",
    "model.Geom.domain.Saturation.Alpha =        1.0\n",
    "model.Geom.domain.Saturation.N =            3.0\n",
    "model.Geom.domain.Saturation.SRes =         0.001\n",
    "model.Geom.domain.Saturation.SSat =         1.0\n",
    "\n",
    "#Mannings\n",
    "model.Mannings.Type = \"Constant\"\n",
    "model.Mannings.GeomNames = \"domain\"\n",
    "model.Mannings.Geom.domain.Value = 0.0000044"
   ]
  },
  {
   "cell_type": "markdown",
   "id": "f65db868-d054-461b-aee5-c1f7794af89f",
   "metadata": {},
   "source": [
    "## 5. Phases contaminants, gravity and wells"
   ]
  },
  {
   "cell_type": "code",
   "execution_count": 8,
   "id": "20dd45e6-6f8d-4b7f-8169-f50e8faf061c",
   "metadata": {},
   "outputs": [],
   "source": [
    "# Phases\n",
    "model.Phase.Names = \"water\"\n",
    "model.Phase.water.Density.Type = \"Constant\"\n",
    "model.Phase.water.Density.Value = 1.0\n",
    "model.Phase.water.Viscosity.Type = \"Constant\"\n",
    "model.Phase.water.Viscosity.Value = 1.0\n",
    "model.Phase.water.Mobility.Type = \"Constant\"\n",
    "model.Phase.water.Mobility.Value = 1.0\n",
    "\n",
    "# Contaminants\n",
    "model.Contaminants.Names = \"\"\n",
    "\n",
    "# Gravity\n",
    "model.Gravity = 1.0\n",
    "\n",
    "#Wells\n",
    "model.Wells.Names = \"\"\n",
    "\n",
    "# Phase Sources\n",
    "model.PhaseSources.water.Type = \"Constant\"\n",
    "model.PhaseSources.water.GeomNames = \"domain\"\n",
    "model.PhaseSources.water.Geom.domain.Value = 0.0"
   ]
  },
  {
   "cell_type": "markdown",
   "id": "61d7a32f-485f-4189-a3f4-6202848702b7",
   "metadata": {},
   "source": [
    "## 6. Timing\n",
    "The units of time are set by the *hydraulic conductivity*, $K$ units $[LT-1]$, in the case our units are *hours*. \n",
    "\n",
    "Here we want to simulate a simple rainstorm where we can turn rain on for x hours and off for y hours. \n",
    "\n",
    "To do this we setup two time cycles: `constant` and `rainrec`. \n",
    "- `constant` is a cycle that repeats for the entire simulation and we use this for any varialbes that we don't want to be changing with time. \n",
    "- `rainrec` is our time varying rainfall and recession tye cycle.  We give it two periods `rain` and `rec` and we define the length of `rain` to be 5 and the length of `rec` to be 20 and give it a repeat value of -1 indicating that this cycle should repeat for for as long as the simulation goes. \n",
    "\n",
    "In this exampe our `StopTime` is 20 hours so we will have 5 hours of the `rain` period and `15` hours of the `rec` period. \n",
    "\n",
    "NOTE: Our choice of naming the periods in this cycle `rain` and `rec` is just for our own purposes. The names do not have any inherent meaning here. We could have named them `cat` and `dog` if we wanted. What matters is that later on when we define the boundary conditions we use these names and associate fluxes with them. "
   ]
  },
  {
   "cell_type": "code",
   "execution_count": 9,
   "id": "27a7cee8-552b-4d0a-b8ed-a6f37fedeaca",
   "metadata": {},
   "outputs": [],
   "source": [
    "model.TimingInfo.BaseUnit = 1.0\n",
    "model.TimingInfo.StartCount = 0\n",
    "model.TimingInfo.StartTime = 0.0\n",
    "model.TimingInfo.StopTime = 20.0\n",
    "model.TimingInfo.DumpInterval = 1.0\n",
    "model.TimeStep.Type = \"Constant\"\n",
    "model.TimeStep.Value = 1.0\n",
    "\n",
    "#Time cycles\n",
    "model.Cycle.Names =\"constant rainrec\"\n",
    "\n",
    "model.Cycle.constant.Names = \"alltime\"\n",
    "model.Cycle.constant.alltime.Length = 1\n",
    "model.Cycle.constant.Repeat = -1\n",
    "\n",
    "model.Cycle.rainrec.Names = \"rain rec\"\n",
    "model.Cycle.rainrec.rain.Length = 5\n",
    "model.Cycle.rainrec.rec.Length = 20\n",
    "model.Cycle.rainrec.Repeat = -1"
   ]
  },
  {
   "cell_type": "markdown",
   "id": "16dc8ec8-b40d-474b-9ca6-0bdf472511f2",
   "metadata": {},
   "source": [
    "## 7. Boundary and intial conditions\n",
    "\n",
    "### 7.1 Boundary conditions\n",
    "Now, we assign Boundary Conditions for each face (each of the Patches in the domain defined before). Recall the previously stated Patches and associate them with the boundary conditions that follow. The bottom and sides of our domain are all set to no-flow (i.e. constant flux of 0) boundaries. \n",
    "\n",
    "For the top boundary we are going to use the `rainrec` time cycle we defines above and apply a flux of -0.05 [m/hr] over the `rain` period and 0 over the `rec` period.  Note that we must use the period names that were defined for our time clcye. Also note that the flux value for `rain` is negative. This is beacause the z axix in parflow points up so if we want to rain on the domain we need a flux that is pointing down into the domain (i.e. in the negative z direction). \n",
    "\n",
    "NOTE: The units of this flux should be [1/T] so if you have a flux that is [L/T] remember to divide by the thickness of the layer you are applying it to (in this case our top layer)"
   ]
  },
  {
   "cell_type": "code",
   "execution_count": 10,
   "id": "e4521562-775c-48a8-bc29-137cdae6d5bd",
   "metadata": {},
   "outputs": [],
   "source": [
    "model.BCPressure.PatchNames = \"top bottom side\"\n",
    "\n",
    "model.Patch.bottom.BCPressure.Type = \"FluxConst\"\n",
    "model.Patch.bottom.BCPressure.Cycle = \"constant\"\n",
    "model.Patch.bottom.BCPressure.alltime.Value = 0.0\n",
    "\n",
    "model.Patch.side.BCPressure.Type = \"FluxConst\"\n",
    "model.Patch.side.BCPressure.Cycle = \"constant\"\n",
    "model.Patch.side.BCPressure.alltime.Value = 0.0\n",
    "\n",
    "model.Patch.top.BCPressure.Type = \"OverlandKinematic\"\n",
    "model.Patch.top.BCPressure.Cycle = \"rainrec\"\n",
    "model.Patch.top.BCPressure.rain.Value = -0.05\n",
    "model.Patch.top.BCPressure.rec.Value = 0.0"
   ]
  },
  {
   "cell_type": "markdown",
   "id": "1a3e3f30-8ace-4c5c-9a5f-64aa403b5edf",
   "metadata": {},
   "source": [
    "### 7.2 Initial conditions: water pressure\n",
    "Again our focus is on the respons of the land surface to precipitaiton here so we are not concerned about our groundwater configuration. To make things simple we will start with a pressure head of 1 relative to the bottom of the domain everywhere. "
   ]
  },
  {
   "cell_type": "code",
   "execution_count": 11,
   "id": "6bc01bfd-21a1-4583-91cb-7307a68c89e4",
   "metadata": {},
   "outputs": [],
   "source": [
    "model.ICPressure.Type = \"HydroStaticPatch\"\n",
    "model.ICPressure.GeomNames = \"domain\"\n",
    "model.Geom.domain.ICPressure.Value = 1.005\n",
    "model.Geom.domain.ICPressure.RefGeom = \"domain\"\n",
    "model.Geom.domain.ICPressure.RefPatch = \"bottom\""
   ]
  },
  {
   "cell_type": "markdown",
   "id": "78b5231d-01e3-41ca-829f-16e835423558",
   "metadata": {},
   "source": [
    "## 8. Solver settings\n",
    "\n",
    "### 8.1 Outputs:\n",
    "Now we specify what outputs we would like written. In this example we specify that we would like to write out CLM variables as well as Pressure and Saturation. However, there are many options for this and you should change these options according to what type of analysis you will be performing on your results. A complete list of print options is provided in § 6.1.32."
   ]
  },
  {
   "cell_type": "code",
   "execution_count": 12,
   "id": "cf3b7c91-c6db-43f7-8ac6-846edc44c4d2",
   "metadata": {},
   "outputs": [],
   "source": [
    "model.Solver.PrintSubsurfData = True\n",
    "model.Solver.PrintPressure = True\n",
    "model.Solver.PrintSaturation = True\n",
    "model.Solver.PrintMask = True\n",
    "model.Solver.PrintVelocities = False"
   ]
  },
  {
   "cell_type": "markdown",
   "id": "0c9adf8a-dd90-43ae-aaf7-ee572240f133",
   "metadata": {},
   "source": [
    "### 8.2 Solver parameters"
   ]
  },
  {
   "cell_type": "code",
   "execution_count": 13,
   "id": "44103377-0ca2-47a8-a6dd-3d61684c059c",
   "metadata": {},
   "outputs": [],
   "source": [
    "# Solver types\n",
    "model.Solver = \"Richards\"\n",
    "model.Solver.TerrainFollowingGrid = True\n",
    "model.Solver.Linear.Preconditioner = \"PFMG\"\n",
    "model.Solver.Linear.Preconditioner.PCMatrixType = \"FullJacobian\"\n",
    "\n",
    "# Exact solution\n",
    "model.KnownSolution = \"NoKnownSolution\"\n",
    "\n",
    "# Solver settings\n",
    "model.Solver.MaxIter = 25000\n",
    "model.Solver.Drop = 1e-20\n",
    "model.Solver.AbsTol = 1e-8\n",
    "\n",
    "model.Solver.MaxConvergenceFailures = 8\n",
    "model.Solver.Nonlinear.MaxIter = 1000\n",
    "model.Solver.Nonlinear.ResidualTol = 1e-6\n",
    "model.Solver.Nonlinear.EtaChoice =  \"EtaConstant\"\n",
    "model.Solver.Nonlinear.EtaValue = 0.001\n",
    "model.Solver.Nonlinear.UseJacobian = True\n",
    "model.Solver.Nonlinear.DerivativeEpsilon = 1e-16\n",
    "model.Solver.Nonlinear.StepTol = 1e-15\n",
    "model.Solver.Nonlinear.Globalization = \"LineSearch\"\n",
    "\n",
    "model.Solver.Linear.KrylovDimension = 70\n",
    "model.Solver.Linear.MaxRestarts = 2\n"
   ]
  },
  {
   "cell_type": "markdown",
   "id": "d9c002d2-2e5f-4a96-98e2-3069aa33070e",
   "metadata": {},
   "source": [
    "## 9.  Distribute files, write the model and run the simulation"
   ]
  },
  {
   "cell_type": "code",
   "execution_count": 14,
   "id": "e1fbef16-b142-4c84-8341-17a93655e0b7",
   "metadata": {},
   "outputs": [
    {
     "name": "stdout",
     "output_type": "stream",
     "text": [
      "\n",
      "# ==============================================================================\n",
      "# ParFlow directory\n",
      "#  - /Users/reed/parflow/parflow.v3.10.0\n",
      "# ParFlow version\n",
      "#  - 3.10.0\n",
      "# Working directory\n",
      "#  - /Users/reed/Projects/parflow_python_shortcourse/exercises/little_washita/outputs/LW_ParkingLot\n",
      "# ParFlow database\n",
      "#  - LW_ParkingLot.pfidb\n",
      "# ==============================================================================\n",
      "\n",
      "\n",
      "# ==============================================================================\n",
      "# ParFlow ran successfully 💦 💦 💦 \n",
      "# ==============================================================================\n",
      "\n"
     ]
    }
   ],
   "source": [
    "# Distribute input files\n",
    "# slope files are 2D (i.e. they only have one layer) so you need to set NZ to 1 before you distribute them\n",
    "# Make sure to set it back to your actual NZ before distributing 3D files or running your model\n",
    "model.ComputationalGrid.NZ =1\n",
    "model.dist(\"slopex_LW.pfb\")\n",
    "model.dist(\"slopey_LW.pfb\")\n",
    "model.ComputationalGrid.NZ =10\n",
    "\n",
    "# write\n",
    "model.write()\n",
    "model.write(file_format='yaml')\n",
    "model.write(file_format='json')\n",
    "\n",
    "#run\n",
    "model.run()"
   ]
  }
 ],
 "metadata": {
  "interpreter": {
   "hash": "bfd746d4848bf981c82532630a55f3a74e1446f086dd0b6f2fbf64277693fa68"
  },
  "kernelspec": {
   "display_name": "Python 3.9.12",
   "language": "python",
   "name": "python3"
  },
  "language_info": {
   "codemirror_mode": {
    "name": "ipython",
    "version": 3
   },
   "file_extension": ".py",
   "mimetype": "text/x-python",
   "name": "python",
   "nbconvert_exporter": "python",
   "pygments_lexer": "ipython3",
   "version": "3.9.12"
  }
 },
 "nbformat": 4,
 "nbformat_minor": 5
}
