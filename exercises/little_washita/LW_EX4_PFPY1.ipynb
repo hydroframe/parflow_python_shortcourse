{
 "cells": [
  {
   "cell_type": "markdown",
   "id": "d83ae938-1c52-479f-80cc-dcbc779ef166",
   "metadata": {
    "tags": []
   },
   "source": [
    "# Little Washita watershed simulation example\n",
    "This workbook illustrates how to setup and run a watershed simulation. The test problem we are running is of the Little Washita watershed. \n",
    "\n",
    "We will be setting up the domain using a terrain following grid and a solid file.  The subsurface extends more than 1000 m deep using layers of increasing thickness ranging from 0.1 m to 1000 m created using the variable dz option. \n",
    "\n",
    "This simulation is running with the land surface model CLM and is set to run for 72 hours using meteorological forcing files provided in this repo. \n",
    "\n",
    "Note that the simulation starts from an initial pressure file. This pressure file is derived using a spin up simulation that determines the steady state groundwater configuration that this run will start from. \n",
    "\n",
    "**Simulation Inputs**\n",
    "1. Solid file: used to define the shape of the domain \n",
    "2. Indicator file: used to define where the different geologic units are in the grid\n",
    "3. Slope files: slope x and slope y files define the topographic slopes of each grid cell in the x and y directions\n",
    "4. Initial pressure:  a pressure file created from a spinup run of the model (refer to other Little Washita exercises for spinup)"
   ]
  },
  {
   "cell_type": "markdown",
   "id": "86e82b0d-9959-4722-850f-8450d7b71d39",
   "metadata": {},
   "source": [
    "### 1. Import required libraries and functions \n",
    "Before you can run this workbook you will need to make sure that you have parflow and pftools installed. PFtools is the python package that you need in order to build a ParFlow run through python and ParFlow is the actual simulation code. \n",
    "\n",
    "Refer to the main readme of this repo for instructions on getting your modeling environment setup."
   ]
  },
  {
   "cell_type": "code",
   "execution_count": 1,
   "id": "f0754238-fc6d-43e5-9f18-de1b8b97325f",
   "metadata": {},
   "outputs": [],
   "source": [
    "import os\n",
    "import numpy as np\n",
    "from parflow import Run \n",
    "import shutil\n",
    "from parflow.tools.fs import mkdir, cp, get_absolute_path, exists\n",
    "from parflow.tools.settings import set_working_directory"
   ]
  },
  {
   "cell_type": "markdown",
   "id": "a85ca856-a2fa-48b0-8923-24517b40f981",
   "metadata": {
    "tags": []
   },
   "source": [
    "## 2. Setup your run directory and initialize your model object"
   ]
  },
  {
   "cell_type": "code",
   "execution_count": 2,
   "id": "c8ce6c81-f3b7-4ed3-8336-afc2e2549a8f",
   "metadata": {},
   "outputs": [
    {
     "name": "stdout",
     "output_type": "stream",
     "text": [
      "/data/exercises/little_washita/outputs/LW_CLM_EX4\n"
     ]
    }
   ],
   "source": [
    "# Name your ParFLow run -- note that all of your output files will have this prefix\n",
    "runname = 'LW_CLM_EX4'\n",
    "\n",
    "# Create a directory in the outputs folder for this run\n",
    "run_dir = get_absolute_path(f'outputs/{runname}')\n",
    "mkdir(run_dir)\n",
    "print(run_dir)\n",
    "\n",
    "# create your Parflow model object. For starters we are just goin to set the file version and the run directory we'll add more later\n",
    "# note that the model will run from the run_dir so all input files should be in the run dir or paths should be specified relative to run_dir\n",
    "model = Run(runname, run_dir)\n",
    "model.FileVersion = 4\n",
    "\n",
    "#copy the model inputs for the simulation into the run directory\n",
    "#NOTE: you dont have to copy everything into the run directory if you don't want, you can also point to input files in other directories in a simulation if you prefer\n",
    "input_dir= os.path.join(os.getcwd(), 'model_inputs')\n",
    "files=os.listdir(input_dir)\n",
    "for fname in files:\n",
    "    shutil.copy(os.path.join(input_dir,fname), run_dir)"
   ]
  },
  {
   "cell_type": "markdown",
   "id": "84dc1cf7-242d-4a76-9d1d-d1825c6b4096",
   "metadata": {
    "tags": []
   },
   "source": [
    "## 3. Setup the computational grid\n",
    "Notes:\n",
    "1. In this step and the subsequent steps we are doing all of this by adding ParFlow keys to the `model` object that we created above.  \n",
    "2. When you run this cell nothing is actually runing in your model, we are just building up a database of keys that define the model we will be running. \n",
    "\n",
    "### 3.1 processor toppology and computational grid"
   ]
  },
  {
   "cell_type": "code",
   "execution_count": 3,
   "id": "f39fd2c8-2220-4b8c-9522-89256acfc85b",
   "metadata": {},
   "outputs": [],
   "source": [
    "# Processor topology: This is the way that the problem will be split across processors if you want to run in parallel\n",
    "# The domain is divided in x,y and z dimensions by P, Q and R. The total number of processors is P*Q*R.\n",
    "model.Process.Topology.P = 1\n",
    "model.Process.Topology.Q = 1\n",
    "model.Process.Topology.R = 1\n",
    "\n",
    "#Locate the origin in the domain.\n",
    "model.ComputationalGrid.Lower.X = 0.0\n",
    "model.ComputationalGrid.Lower.Y = 0.0\n",
    "model.ComputationalGrid.Lower.Z = 0.0\n",
    "\n",
    "# Define the size of each grid cell. The length units are the same as those on hydraulic conductivity, here that is meters.\n",
    "model.ComputationalGrid.DX = 1000.0\n",
    "model.ComputationalGrid.DY = 1000.0\n",
    "model.ComputationalGrid.DZ = 200.0\n",
    "\n",
    "# Define the number of grid blocks in the domain.\n",
    "model.ComputationalGrid.NX = 64\n",
    "model.ComputationalGrid.NY = 32\n",
    "model.ComputationalGrid.NZ = 10"
   ]
  },
  {
   "cell_type": "markdown",
   "id": "89d20ce8-fb7d-485c-9f37-3e33a34799df",
   "metadata": {},
   "source": [
    "### 3.2 Geometries\n",
    "In ParFlow we use `geometries` to define our problem space. \n",
    "\n",
    "First, we declear the names of the `geometries` we plan to define. In this case we have two: `solid_input` (used to define our watershed boundary) and `indi_input` (used to define the subsurface units). \n",
    "\n",
    "Next, for each of the declared `geometries` we specify a type and setup names within the geometry. \n",
    "\n",
    "**Solid File Geometry:** Our first geomety is a solid file."
   ]
  },
  {
   "cell_type": "code",
   "execution_count": 4,
   "id": "25504f97-c613-4751-9e26-21f4e6181ff2",
   "metadata": {},
   "outputs": [],
   "source": [
    "#Declare the geometries that you will use for the problem\n",
    "model.GeomInput.Names = \"solid_input indi_input\"\n",
    "\n",
    "#Define the solid_input geometry.  \n",
    "#Note the naming convention here GeomInput.{GeomName}.key\n",
    "model.GeomInput.solid_input.InputType = \"SolidFile\"\n",
    "model.GeomInput.solid_input.GeomNames = \"domain\"\n",
    "model.GeomInput.solid_input.FileName = \"LW.pfsol\"\n",
    "\n",
    "#First set the name for your `Domain` and setup the patches for this domain\n",
    "model.Domain.GeomName = \"domain\"\n",
    "model.Geom.domain.Patches = \"top bottom side\""
   ]
  },
  {
   "cell_type": "markdown",
   "id": "bd370796-0d46-49cf-9f18-50fb7f8c92b8",
   "metadata": {},
   "source": [
    "**Indicator Geometry**\n",
    "Now we setup the indicator file. The indicator file is a gridded input that has an integer value for every grid cell in the domain designating what geologic unit it belongs to. \n",
    "\n",
    "The GeomNames list should include a name for every integer value in your indicator file. In this example we have thirteen soil units (s1-s13) and ten geologic units (g1-g13). The FileName points to the indicator file that ParFlow will read. Recall that this file is copied into the run directory at the start of the script.\n",
    "\n",
    "For every name in the GeomNames list we define the corresponding value in the indicator file. \n",
    "or example, here we are saying that our first soil unit (s1) is represented by the number “1\" in the indicator file, while the first geologic unit (g1) is represented by the number “19\". Note: that the integers used in the indicator file do not need to be consecutive. "
   ]
  },
  {
   "cell_type": "code",
   "execution_count": 5,
   "id": "82d60658-ad91-4e26-89c9-39701157a4b6",
   "metadata": {
    "tags": []
   },
   "outputs": [],
   "source": [
    "model.GeomInput.indi_input.InputType =   \"IndicatorField\"\n",
    "model.GeomInput.indi_input.GeomNames = \"s1 s2 s3 s4 s5 s6 s7 s8 s9 s10 s11 s12 s13 g1 g2 g3 g4 g5 g6 g7 g8 g9 g10\"\n",
    "model.Geom.indi_input.FileName = \"Indicator_LW_USGS_Bedrock.pfb\"\n",
    "\n",
    "model.GeomInput.s1.Value =    1\n",
    "model.GeomInput.s2.Value =    2\n",
    "model.GeomInput.s3.Value =    3\n",
    "model.GeomInput.s4.Value =    4\n",
    "model.GeomInput.s5.Value =    5\n",
    "model.GeomInput.s6.Value =    6\n",
    "model.GeomInput.s7.Value =    7\n",
    "model.GeomInput.s8.Value =    8\n",
    "model.GeomInput.s9.Value =    9\n",
    "model.GeomInput.s10.Value =   10\n",
    "model.GeomInput.s11.Value =   11\n",
    "model.GeomInput.s12.Value =   12\n",
    "model.GeomInput.s13.Value =   13\n",
    "\n",
    "model.GeomInput.g1.Value =    19\n",
    "model.GeomInput.g2.Value =    20\n",
    "model.GeomInput.g3.Value =    21\n",
    "model.GeomInput.g4.Value =    22\n",
    "model.GeomInput.g5.Value =    23\n",
    "model.GeomInput.g6.Value =    24\n",
    "model.GeomInput.g7.Value =    25\n",
    "model.GeomInput.g8.Value =    26\n",
    "model.GeomInput.g9.Value =    27\n",
    "model.GeomInput.g10.Value =    28"
   ]
  },
  {
   "cell_type": "markdown",
   "id": "7956e350-e316-402e-8c1f-9ff6a6358280",
   "metadata": {},
   "source": [
    "### 3.3 Variable Dz\n",
    "Variable Dz allows you to change the thickness of each of your z-layers, the default is a uniform thickness.  In this example, the DZ is 200 and the NZ is 10, meaning the default is 10 layers, which are 200m in thickness each. \n",
    "\n",
    "The .dzscale.Value lines are numbers by which is uniform 200m will be scaled for each layer. Layer 0 refers to the bottom layer which means that the bottom layer will have a thickness of 1000m (200 * 5).  and the The top layer (9) with a scalar of .0005 will have a thickness of 0.1m (.0005 * 200m)"
   ]
  },
  {
   "cell_type": "code",
   "execution_count": 6,
   "id": "de40ec18-e53e-4437-8263-eb8ae490233a",
   "metadata": {},
   "outputs": [],
   "source": [
    "model.Solver.Nonlinear.VariableDz = True\n",
    "model.dzScale.GeomNames = \"domain\"\n",
    "model.dzScale.Type = \"nzList\"\n",
    "model.dzScale.nzListNumber = 10\n",
    "\n",
    "model.Cell._0.dzScale.Value = 5\n",
    "model.Cell._1.dzScale.Value = 0.5\n",
    "model.Cell._2.dzScale.Value = 0.25\n",
    "model.Cell._3.dzScale.Value = 0.125\n",
    "model.Cell._4.dzScale.Value = 0.05\n",
    "model.Cell._5.dzScale.Value = 0.025\n",
    "model.Cell._6.dzScale.Value = 0.005\n",
    "model.Cell._7.dzScale.Value = 0.003\n",
    "model.Cell._8.dzScale.Value = 0.0015\n",
    "model.Cell._9.dzScale.Value = 0.0005"
   ]
  },
  {
   "cell_type": "markdown",
   "id": "557bf4be-eda5-4155-b67a-50aa897b7568",
   "metadata": {},
   "source": [
    "### 3.4 Topographic slopes \n",
    "Next we define topographic slopes and values. These slope values were derived from a digital elevation model of the domain following the workflow in the PriorityFlow github package.  In this example we read the slope files in from .pfb files that were copied into the run directory at the start of this script."
   ]
  },
  {
   "cell_type": "code",
   "execution_count": 7,
   "id": "95b46b9e-835a-4b0e-8555-8e4d38c99e33",
   "metadata": {},
   "outputs": [],
   "source": [
    "model.TopoSlopesX.Type = \"PFBFile\"\n",
    "model.TopoSlopesX.GeomNames = \"domain\"\n",
    "model.TopoSlopesX.FileName = \"slopex_LW.pfb\"\n",
    "\n",
    "model.TopoSlopesY.Type = \"PFBFile\"\n",
    "model.TopoSlopesY.GeomNames = \"domain\"\n",
    "model.TopoSlopesY.FileName = \"slopey_LW.pfb\""
   ]
  },
  {
   "cell_type": "markdown",
   "id": "3423c545-1793-4c97-a4e0-feffb684e6fb",
   "metadata": {},
   "source": [
    "## 4. Setup the surface and subsurface properties \n",
    "Next we will assign properties to the subsurface. Note that if a value is assignned more than once only the last assignment will be used.\n",
    "\n",
    "Also, note that you do not need values to all of the geometries names, as long a value is assigned to every active cell in the domain.  However, every geometry listed in Porosity.GeomNames must have values assigned.  If you assign a domain value then any grid cell not included in another geomety will take the domain value. \n",
    "\n",
    "### 4.1 Permeability\n",
    "Here we add permeability (k) data to the domain using the geometries from the indicator file. Note that there are no units in the script but the units you use for K define the length and time units for the rest of the problem.  For this problem we are expressing values as [m/hr]"
   ]
  },
  {
   "cell_type": "code",
   "execution_count": 8,
   "id": "3e0f8afb-cb47-411d-8bf5-b8dcf463a91a",
   "metadata": {},
   "outputs": [],
   "source": [
    "model.Geom.Perm.Names = \"domain s1 s2 s3 s4 s5 s6 s7 s8 s9 s10 s11 s12 s13 g1 g2 g3 g4 g5 g6 g7 g8 g9 g10\"\n",
    "\n",
    "model.Geom.domain.Perm.Type = \"Constant\"\n",
    "model.Geom.domain.Perm.Value = 0.02\n",
    "\n",
    "model.Geom.s1.Perm.Type = \"Constant\"\n",
    "model.Geom.s1.Perm.Value = 0.269022595\n",
    "\n",
    "model.Geom.s2.Perm.Type = \"Constant\"\n",
    "model.Geom.s2.Perm.Value = 0.043630356\n",
    "\n",
    "model.Geom.s3.Perm.Type = \"Constant\"\n",
    "model.Geom.s3.Perm.Value = 0.015841225\n",
    "\n",
    "model.Geom.s4.Perm.Type = \"Constant\"\n",
    "model.Geom.s4.Perm.Value = 0.007582087\n",
    "\n",
    "model.Geom.s5.Perm.Type = \"Constant\"\n",
    "model.Geom.s5.Perm.Value = 0.01818816\n",
    "\n",
    "model.Geom.s6.Perm.Type = \"Constant\"\n",
    "model.Geom.s6.Perm.Value = 0.005009435\n",
    "\n",
    "model.Geom.s7.Perm.Type = \"Constant\"\n",
    "model.Geom.s7.Perm.Value = 0.005492736\n",
    "\n",
    "model.Geom.s8.Perm.Type = \"Constant\"\n",
    "model.Geom.s8.Perm.Value = 0.004675077\n",
    "\n",
    "model.Geom.s9.Perm.Type = \"Constant\"\n",
    "model.Geom.s9.Perm.Value = 0.003386794\n",
    "\n",
    "model.Geom.s10.Perm.Type = \"Constant\"\n",
    "model.Geom.s10.Perm.Value = 0.004783973\n",
    "\n",
    "model.Geom.s11.Perm.Type = \"Constant\"\n",
    "model.Geom.s11.Perm.Value = 0.003979136\n",
    "\n",
    "model.Geom.s12.Perm.Type = \"Constant\"\n",
    "model.Geom.s12.Perm.Value = 0.006162952\n",
    "\n",
    "model.Geom.s13.Perm.Type = \"Constant\"\n",
    "model.Geom.s13.Perm.Value = 0.005009435\n",
    "\n",
    "model.Geom.g1.Perm.Type = \"Constant\"\n",
    "model.Geom.g1.Perm.Value = 5e-3\n",
    "\n",
    "model.Geom.g2.Perm.Type = \"Constant\"\n",
    "model.Geom.g2.Perm.Value = 1e-2\n",
    "\n",
    "model.Geom.g3.Perm.Type = \"Constant\"\n",
    "model.Geom.g3.Perm.Value = 2e-2\n",
    "\n",
    "model.Geom.g4.Perm.Type = \"Constant\"\n",
    "model.Geom.g4.Perm.Value = 3e-2\n",
    "\n",
    "model.Geom.g5.Perm.Type = \"Constant\"\n",
    "model.Geom.g5.Perm.Value = 4e-2\n",
    "\n",
    "model.Geom.g6.Perm.Type = \"Constant\"\n",
    "model.Geom.g6.Perm.Value = 5e-2\n",
    "\n",
    "model.Geom.g7.Perm.Type = \"Constant\"\n",
    "model.Geom.g7.Perm.Value = 6e-2\n",
    "\n",
    "model.Geom.g8.Perm.Type = \"Constant\"\n",
    "model.Geom.g8.Perm.Value = 8e-2\n",
    "\n",
    "model.Geom.g9.Perm.Type = \"Constant\"\n",
    "model.Geom.g9.Perm.Value = 0.1\n",
    "\n",
    "model.Geom.g10.Perm.Type = \"Constant\"\n",
    "model.Geom.g10.Perm.Value = 0.2"
   ]
  },
  {
   "cell_type": "markdown",
   "id": "619766e6-c918-4b15-b8cc-01d55c8d8a83",
   "metadata": {},
   "source": [
    "### 4.2 Permeability tensor\n",
    "The following section allows you to specify the permeability tensor. In the case below, permeability is symmetric in all directions (x, y, and z) and therefore each is set to 1.0. Also note that we just specify this once for the whole domain because we want isotropic permeability everywhere. You can specify different tensors for different units by repeating these lines with different Geom.Names."
   ]
  },
  {
   "cell_type": "code",
   "execution_count": 9,
   "id": "c027801b-3d20-471c-b7f1-ba3972e72461",
   "metadata": {},
   "outputs": [],
   "source": [
    "model.Perm.TensorType = \"TensorByGeom\"\n",
    "model.Geom.Perm.TensorByGeom.Names = \"domain\"\n",
    "model.Geom.domain.Perm.TensorValX = 1.0\n",
    "model.Geom.domain.Perm.TensorValY = 1.0\n",
    "model.Geom.domain.Perm.TensorValZ = 1.0"
   ]
  },
  {
   "cell_type": "markdown",
   "id": "c4b4775d-8fac-4e8c-a419-718a9877277a",
   "metadata": {},
   "source": [
    "### 4.3  Specific Storage\n",
    "Next we set the specific storage. Here again we specify one value for the whole domain but these lines can be easily repeated to set different values for different units."
   ]
  },
  {
   "cell_type": "code",
   "execution_count": 10,
   "id": "be86b830-878c-40a4-9d1e-4c40bc45e174",
   "metadata": {},
   "outputs": [],
   "source": [
    "model.SpecificStorage.Type = \"Constant\"\n",
    "model.SpecificStorage.GeomNames = \"domain\"\n",
    "model.Geom.domain.SpecificStorage.Value = 0.0001"
   ]
  },
  {
   "cell_type": "markdown",
   "id": "609738bf-0968-41e5-bb1b-18dab9035d8c",
   "metadata": {},
   "source": [
    "### 4.4 Porosity\n",
    "Next, we assign the porosity (see § 6.1.12). As with the permeability we assign different values for different indicator geometries. Here we assign values for all of our soil units but not for the geologic units, they will default to the domain value of 0.33. Note that every geometry listed in Porosity.GeomNames must have values assigned which is why we do not list the geologic named units."
   ]
  },
  {
   "cell_type": "code",
   "execution_count": 11,
   "id": "3c752d39-1e32-4bd4-b211-a429d2ba36db",
   "metadata": {},
   "outputs": [],
   "source": [
    "model.Geom.Porosity.GeomNames = \"domain s1 s2 s3 s4 s5 s6 s7 s8 s9 s10 s11 s12 s13\"\n",
    "\n",
    "model.Geom.domain.Porosity.Type = \"Constant\"\n",
    "model.Geom.domain.Porosity.Value = 0.33\n",
    "\n",
    "model.Geom.s1.Porosity.Type = \"Constant\"\n",
    "model.Geom.s1.Porosity.Value = 0.375\n",
    "\n",
    "model.Geom.s2.Porosity.Type = \"Constant\"\n",
    "model.Geom.s2.Porosity.Value = 0.39\n",
    "\n",
    "model.Geom.s3.Porosity.Type = \"Constant\"\n",
    "model.Geom.s3.Porosity.Value = 0.387\n",
    "\n",
    "model.Geom.s4.Porosity.Type = \"Constant\"\n",
    "model.Geom.s4.Porosity.Value = 0.439\n",
    "\n",
    "model.Geom.s5.Porosity.Type = \"Constant\"\n",
    "model.Geom.s5.Porosity.Value = 0.489\n",
    "\n",
    "model.Geom.s6.Porosity.Type = \"Constant\"\n",
    "model.Geom.s6.Porosity.Value = 0.399\n",
    "\n",
    "model.Geom.s7.Porosity.Type = \"Constant\"\n",
    "model.Geom.s7.Porosity.Value = 0.384\n",
    "\n",
    "model.Geom.s8.Porosity.Type = \"Constant\"\n",
    "model.Geom.s8.Porosity.Value = 0.482\n",
    "\n",
    "model.Geom.s9.Porosity.Type = \"Constant\"\n",
    "model.Geom.s9.Porosity.Value = 0.442\n",
    "\n",
    "model.Geom.s10.Porosity.Type = \"Constant\"\n",
    "model.Geom.s10.Porosity.Value = 0.385\n",
    "\n",
    "model.Geom.s11.Porosity.Type = \"Constant\"\n",
    "model.Geom.s11.Porosity.Value = 0.481\n",
    "\n",
    "model.Geom.s12.Porosity.Type = \"Constant\"\n",
    "model.Geom.s12.Porosity.Value = 0.459\n",
    "\n",
    "model.Geom.s13.Porosity.Type = \"Constant\"\n",
    "model.Geom.s13.Porosity.Value = 0.399"
   ]
  },
  {
   "cell_type": "markdown",
   "id": "d05b3aba-5b46-4d02-9ce9-e41bec8dab1e",
   "metadata": {},
   "source": [
    "### 4.5 Relative Permeability\n",
    "Following the same approach as we did for Porosity we define the relative permeability inputs that will be used for Richards’ equation implementation (§ 6.1.20). Here we use VanGenuchten parameters. Note that every geometry listed in Porosity.GeomNames must have values assigned. Unnamed units will get the background domain value of 1.0 and 3.0"
   ]
  },
  {
   "cell_type": "code",
   "execution_count": 12,
   "id": "13e13383-13ac-4398-84c6-611f2a528a5c",
   "metadata": {},
   "outputs": [],
   "source": [
    "model.Phase.RelPerm.Type =              \"VanGenuchten\"\n",
    "model.Phase.RelPerm.GeomNames =     \"domain s1 s2 s3 s4 s5 s6 s7 s8 s9 s10 s11 s12 s13\"\n",
    "\n",
    "model.Geom.domain.RelPerm.Alpha =    1.0\n",
    "model.Geom.domain.RelPerm.N =        3.0\n",
    "\n",
    "model.Geom.s1.RelPerm.Alpha =        3.548\n",
    "model.Geom.s1.RelPerm.N =            4.162\n",
    "\n",
    "model.Geom.s2.RelPerm.Alpha =        3.467\n",
    "model.Geom.s2.RelPerm.N =            2.738\n",
    "\n",
    "model.Geom.s3.RelPerm.Alpha =        2.692\n",
    "model.Geom.s3.RelPerm.N =            2.445\n",
    "\n",
    "model.Geom.s4.RelPerm.Alpha =        0.501\n",
    "model.Geom.s4.RelPerm.N =            2.659\n",
    "\n",
    "model.Geom.s5.RelPerm.Alpha =        0.661\n",
    "model.Geom.s5.RelPerm.N =            2.659\n",
    "\n",
    "model.Geom.s6.RelPerm.Alpha =        1.122\n",
    "model.Geom.s6.RelPerm.N =            2.479\n",
    "\n",
    "model.Geom.s7.RelPerm.Alpha =        2.089\n",
    "model.Geom.s7.RelPerm.N =            2.318\n",
    "\n",
    "model.Geom.s8.RelPerm.Alpha =        0.832\n",
    "model.Geom.s8.RelPerm.N =            2.514\n",
    "\n",
    "model.Geom.s9.RelPerm.Alpha =        1.585\n",
    "model.Geom.s9.RelPerm.N =            2.413\n",
    "\n",
    "model.Geom.s10.RelPerm.Alpha =        3.311\n",
    "model.Geom.s10.RelPerm.N =            2.202\n",
    "\n",
    "model.Geom.s11.RelPerm.Alpha =        1.622\n",
    "model.Geom.s11.RelPerm.N =            2.318\n",
    "\n",
    "model.Geom.s12.RelPerm.Alpha =        1.514\n",
    "model.Geom.s12.RelPerm.N =            2.259\n",
    "\n",
    "model.Geom.s13.RelPerm.Alpha =        1.122\n",
    "model.Geom.s13.RelPerm.N =            2.479"
   ]
  },
  {
   "cell_type": "markdown",
   "id": "5e0c41a5-820d-4188-8353-18383543dd6d",
   "metadata": {
    "tags": []
   },
   "source": [
    "### 4.6 Saturation\n",
    "Next we do the same thing for saturation (§ 6.1.23) again using the VanGenuchten parameters Note that every geometry listed in Porosity.GeomNames must have values assigned. Unnamed units will get the background domain values assigned"
   ]
  },
  {
   "cell_type": "code",
   "execution_count": 13,
   "id": "9f9fe856-a948-47c7-a839-1cbcecf3003f",
   "metadata": {},
   "outputs": [],
   "source": [
    "model.Phase.Saturation.Type =             \"VanGenuchten\"\n",
    "model.Phase.Saturation.GeomNames =         \"domain s1 s2 s3 s4 s5 s6 s7 s8 s9 s10 s11 s12 s13\"\n",
    "\n",
    "model.Geom.domain.Saturation.Alpha =        1.0\n",
    "model.Geom.domain.Saturation.N =            3.0\n",
    "model.Geom.domain.Saturation.SRes =         0.001\n",
    "model.Geom.domain.Saturation.SSat =         1.0\n",
    "\n",
    "model.Geom.s1.Saturation.Alpha =        3.548\n",
    "model.Geom.s1.Saturation.N =            4.162\n",
    "model.Geom.s1.Saturation.SRes =         0.0001\n",
    "model.Geom.s1.Saturation.SSat =         1.0\n",
    "\n",
    "model.Geom.s2.Saturation.Alpha =        3.467\n",
    "model.Geom.s2.Saturation.N =            2.738\n",
    "model.Geom.s2.Saturation.SRes =         0.0001\n",
    "model.Geom.s2.Saturation.SSat =         1.0\n",
    "\n",
    "model.Geom.s3.Saturation.Alpha =        2.692\n",
    "model.Geom.s3.Saturation.N =            2.445\n",
    "model.Geom.s3.Saturation.SRes =         0.0001\n",
    "model.Geom.s3.Saturation.SSat =         1.0\n",
    "\n",
    "model.Geom.s4.Saturation.Alpha =        0.501\n",
    "model.Geom.s4.Saturation.N =            2.659\n",
    "model.Geom.s4.Saturation.SRes =         0.1\n",
    "model.Geom.s4.Saturation.SSat =         1.0\n",
    "\n",
    "model.Geom.s5.Saturation.Alpha =        0.661\n",
    "model.Geom.s5.Saturation.N =            2.659\n",
    "model.Geom.s5.Saturation.SRes =         0.0001\n",
    "model.Geom.s5.Saturation.SSat =         1.0\n",
    "\n",
    "model.Geom.s6.Saturation.Alpha =        1.122\n",
    "model.Geom.s6.Saturation.N =            2.479\n",
    "model.Geom.s6.Saturation.SRes =         0.0001\n",
    "model.Geom.s6.Saturation.SSat =         1.0\n",
    "\n",
    "model.Geom.s7.Saturation.Alpha =        2.089\n",
    "model.Geom.s7.Saturation.N =            2.318\n",
    "model.Geom.s7.Saturation.SRes =         0.0001\n",
    "model.Geom.s7.Saturation.SSat =         1.0\n",
    "\n",
    "model.Geom.s8.Saturation.Alpha =        0.832\n",
    "model.Geom.s8.Saturation.N =            2.514\n",
    "model.Geom.s8.Saturation.SRes =         0.0001\n",
    "model.Geom.s8.Saturation.SSat =         1.0\n",
    "\n",
    "model.Geom.s9.Saturation.Alpha =        1.585\n",
    "model.Geom.s9.Saturation.N =            2.413\n",
    "model.Geom.s9.Saturation.SRes =         0.0001\n",
    "model.Geom.s9.Saturation.SSat =         1.0\n",
    "\n",
    "model.Geom.s10.Saturation.Alpha =        3.311\n",
    "model.Geom.s10.Saturation.N =            2.202\n",
    "model.Geom.s10.Saturation.SRes =         0.0001\n",
    "model.Geom.s10.Saturation.SSat =         1.0\n",
    "\n",
    "model.Geom.s11.Saturation.Alpha =        1.622\n",
    "model.Geom.s11.Saturation.N =            2.318\n",
    "model.Geom.s11.Saturation.SRes =         0.0001\n",
    "model.Geom.s11.Saturation.SSat =         1.0\n",
    "\n",
    "model.Geom.s12.Saturation.Alpha =        1.514\n",
    "model.Geom.s12.Saturation.N =            2.259\n",
    "model.Geom.s12.Saturation.SRes =         0.0001\n",
    "model.Geom.s12.Saturation.SSat =         1.0\n",
    "\n",
    "model.Geom.s13.Saturation.Alpha =        1.122\n",
    "model.Geom.s13.Saturation.N =            2.479\n",
    "model.Geom.s13.Saturation.SRes =         0.0001\n",
    "model.Geom.s13.Saturation.SSat =         1.0"
   ]
  },
  {
   "cell_type": "markdown",
   "id": "9e66c9d0-22a0-4af6-914c-820fb31175fa",
   "metadata": {},
   "source": [
    "### 4.7 Mannings coefficient\n",
    "And now we define the Mannings n, just one value for the whole domain in this example."
   ]
  },
  {
   "cell_type": "code",
   "execution_count": 14,
   "id": "7832c942-8403-463d-9ce7-9fc6360573f2",
   "metadata": {},
   "outputs": [],
   "source": [
    "model.Mannings.Type = \"Constant\"\n",
    "model.Mannings.GeomNames = \"domain\"\n",
    "model.Mannings.Geom.domain.Value = 0.0000044"
   ]
  },
  {
   "cell_type": "markdown",
   "id": "f65db868-d054-461b-aee5-c1f7794af89f",
   "metadata": {},
   "source": [
    "## 5. Phases contaminants, gravity and wells\n",
    "**Phases:** ParFlow has the capability to deal with a multiphase system, but we only have one (water) in this example. As we stated earlier, we set density and viscosity artificially (and later gravity) both to 1.0.  Again, this is merely a trick to solve for hydraulic conductivity and pressure head. If you were to set density and viscosity to their true values, the code would calculate k (permeability). By using the normalized values instead, you effectively embed the conversion of k to K (hydraulic conductivity). So this way, we get hydraulic conductivity, which is what we want for this problem.\n",
    "\n",
    "**Contaminants:** This example does not include the ParFlow grid based transport scheme. Therefore we leave contaminants blank.\n",
    "\n",
    "**Gravity:** As with density and viscosity, gravity is normalized here. If we used the true value (in the [L] and [T] units of hydraulic conductivity) the code would be calculating permeability (k). Instead, we normalize so that the code calculates hydraulic conductivity (K).\n",
    "\n",
    "**Wells:** Again, ParFlow has more capabilities than we are using here in this example. Note that since there are no well names listed here, ParFlow assumes we have no wells. If we had pumping wells, we would have to include them here, because they would affect the head distribution throughout our domain. See § 3.6.1 for an example of how to include pumping wells in this script.\n",
    "\n",
    "**Phase sources:** Phase sources allows you to add sources other than wells and boundaries, but we do not have any so this key is constant, 0.0 over entire domain."
   ]
  },
  {
   "cell_type": "code",
   "execution_count": 15,
   "id": "20dd45e6-6f8d-4b7f-8169-f50e8faf061c",
   "metadata": {},
   "outputs": [],
   "source": [
    "# Phases\n",
    "model.Phase.Names = \"water\"\n",
    "model.Phase.water.Density.Type = \"Constant\"\n",
    "model.Phase.water.Density.Value = 1.0\n",
    "model.Phase.water.Viscosity.Type = \"Constant\"\n",
    "model.Phase.water.Viscosity.Value = 1.0\n",
    "model.Phase.water.Mobility.Type = \"Constant\"\n",
    "model.Phase.water.Mobility.Value = 1.0\n",
    "\n",
    "# Contaminants\n",
    "model.Contaminants.Names = \"\"\n",
    "\n",
    "# Gravity\n",
    "model.Gravity = 1.0\n",
    "\n",
    "#Wells\n",
    "model.Wells.Names = \"\"\n",
    "\n",
    "# Phase Sources\n",
    "model.PhaseSources.water.Type = \"Constant\"\n",
    "model.PhaseSources.water.GeomNames = \"domain\"\n",
    "model.PhaseSources.water.Geom.domain.Value = 0.0"
   ]
  },
  {
   "cell_type": "markdown",
   "id": "61d7a32f-485f-4189-a3f4-6202848702b7",
   "metadata": {},
   "source": [
    "## 6. Timing\n",
    "The units of time are set by the K values, in the case our units are hours. \n",
    "\n",
    "\n",
    "**Base Unit:** This specifies the base unit of time for all time values entered. All time should be expressed as multiples of this value. To keep things simple here we set it to 1. Because we expressed our permeability in units of m/hr in this example this means that our base unit of time is 1hr.\n",
    "\n",
    "**Start Count:** The time step number that will be associated with the first advection cycle of the transient problem.  Because we are starting from scratch we set this to 0. If we were restarting a run we would set this to the last time step of your previous simulation.\n",
    "\n",
    "**Start and Stop times:**  StartTime and StopTime specify the start and stop times for the simulation. These values should correspond with the forcing files you are using. Here the stop time is set to 72 hours or three days. \n",
    "\n",
    "**Dump Interval:** This key specifies the timing interval at which ParFlow time dependent outputs will be written.  Here we have a base unit of 1hr so a dump interval of 24 means that we are writing daily outputs. Note that this key only controls the ParFlow output interval and not the interval that CLM outputs will be written out at.\n",
    "\n",
    "**Time Step:** Here we use a constant time step of 1hr.\n",
    "\n",
    "**Time Cycles:**  You can give certain periods of time names if you want. For example if you aren’t running with CLM and you would like to have periods with rain and periods without. Here, however we have only one time cycle because CLM will handle the variable forcings. Therefore, we specify one time cycle and it’s constant for the duration of the simulation. We accomplish this by giving it a repeat value of -1, which repeats indefinitely. The length of the cycle is the length specified below (an integer) multiplied by the base unit value we specified earlier."
   ]
  },
  {
   "cell_type": "code",
   "execution_count": 16,
   "id": "27a7cee8-552b-4d0a-b8ed-a6f37fedeaca",
   "metadata": {},
   "outputs": [],
   "source": [
    "model.TimingInfo.BaseUnit = 1.0\n",
    "model.TimingInfo.StartCount = 0\n",
    "model.TimingInfo.StartTime = 0\n",
    "model.TimingInfo.StopTime = 72.0\n",
    "model.TimingInfo.DumpInterval = 1.0\n",
    "model.TimeStep.Type = \"Constant\"\n",
    "model.TimeStep.Value = 1.0\n",
    "\n",
    "#Time cycles\n",
    "model.Cycle.Names =\"constant\"\n",
    "model.Cycle.constant.Names = \"alltime\"\n",
    "model.Cycle.constant.alltime.Length = 1\n",
    "model.Cycle.constant.Repeat = -1\n",
    "\n",
    "# An alternate approach defining rainfall and recession time periods are defined here\n",
    "# rain for 1 hour, recession for 2 hours\n",
    "# model.Cycle.Names =\"constant rainrec\"\n",
    "# model.Cycle.rainrec.Names = \"rain rec\"\n",
    "# model.Cycle.rainrec.rain.Length = 1\n",
    "# model.Cycle.rainrec.rec.Length = 5000000\n",
    "# model.Cycle.rainrec.Repeat = -1"
   ]
  },
  {
   "cell_type": "markdown",
   "id": "16dc8ec8-b40d-474b-9ca6-0bdf472511f2",
   "metadata": {},
   "source": [
    "## 7. Boundary and intial conditions\n",
    "\n",
    "### 7.1 Boundary conditions\n",
    "Now, we assign Boundary Conditions for each face (each of the Patches in the domain defined before). Recall the previously stated Patches and associate them with the boundary conditions that follow. The bottom and sides of our domain are all set to no-flow (i.e. constant flux of 0) boundaries. The top is set to an OverlandFLow boundary to turn on the fully-coupled overland flow routing, in this case, overland kinematic wave approximation."
   ]
  },
  {
   "cell_type": "code",
   "execution_count": 17,
   "id": "e4521562-775c-48a8-bc29-137cdae6d5bd",
   "metadata": {},
   "outputs": [],
   "source": [
    "model.BCPressure.PatchNames = \"top bottom side\"\n",
    "\n",
    "model.Patch.bottom.BCPressure.Type = \"FluxConst\"\n",
    "model.Patch.bottom.BCPressure.Cycle = \"constant\"\n",
    "model.Patch.bottom.BCPressure.alltime.Value = 0.0\n",
    "\n",
    "model.Patch.side.BCPressure.Type = \"FluxConst\"\n",
    "model.Patch.side.BCPressure.Cycle = \"constant\"\n",
    "model.Patch.side.BCPressure.alltime.Value = 0.0\n",
    "\n",
    "model.Patch.top.BCPressure.Type = \"OverlandKinematic\"\n",
    "model.Patch.top.BCPressure.Cycle = \"constant\"\n",
    "model.Patch.top.BCPressure.alltime.Value = 0.0"
   ]
  },
  {
   "cell_type": "markdown",
   "id": "1a3e3f30-8ace-4c5c-9a5f-64aa403b5edf",
   "metadata": {},
   "source": [
    "### 7.2 Initial conditions: water pressure\n",
    "Next we set the initial conditions for the domain. In this example we are using a pressure .pfb file that was obtained by spinning up the model in the workflow outlined in § 3.1.2.  Alternatively, the water table can be set to a constant value by changing the ICPressure.Type and setting a reference patch. Again, the input file that is referenced here was was copied into the run directory at the top of this script."
   ]
  },
  {
   "cell_type": "code",
   "execution_count": 18,
   "id": "6bc01bfd-21a1-4583-91cb-7307a68c89e4",
   "metadata": {},
   "outputs": [],
   "source": [
    "model.ICPressure.Type = \"PFBFile\"\n",
    "model.ICPressure.GeomNames = \"domain\"\n",
    "model.Geom.domain.ICPressure.RefPatch = \"top\"\n",
    "model.Geom.domain.ICPressure.FileName = \"press.init.pfb\""
   ]
  },
  {
   "cell_type": "markdown",
   "id": "aecb39a3-1fe9-4440-8ea4-3a3cfdb8a6d1",
   "metadata": {},
   "source": [
    "## 8. CLM Settings\n",
    "In this example we are using ParFlow CLM so we must provide some parameters for CLM (§ 6.1.36). Note that CLM will also require some additional inputs file specific to the model (in this case`drv_climin.dat`, `drv_vegm.alluv.dat` and `drv_vegp.dat`)\n",
    "\n",
    "**Outputs:** First we specify that we will be using CLM as the land surface model and provide the name of a directory that outputs will be written to.  For this example we do not need outputs for each processor or a binary output directory.  We set the dump interval to 1, indicating that we will be writing outputs for every time step. Note that this does not have to match the dump interval for ParFlow outputs. \n",
    "\n",
    "**Forcings:** Next we specify the details of the meteorological forcing files that clm will read.  First we provide the name of the files and the directory they can be found in. Next we specify that we are using 3D forcing files meaning that we have spatially distributed forcing with multiple time steps in every file. Therefore we must also specify the number of times steps (MetFileNT) in every file, in this case 24. Finally, we specify the initial value for the CLM counter.\n",
    "\n",
    "**Pysical properties:** This last set of CLM parameters refers to the physical properties of the system. Refer to § 6.1.36 for details."
   ]
  },
  {
   "cell_type": "code",
   "execution_count": 19,
   "id": "6d68abfd-c15a-4be0-b878-5b2fca5b5a8e",
   "metadata": {},
   "outputs": [
    {
     "name": "stdout",
     "output_type": "stream",
     "text": [
      "Solver: Field BinaryOutDir is not part of the expected schema <class 'parflow.tools.database.generated.Solver'>\n"
     ]
    }
   ],
   "source": [
    "model.Solver.LSM = \"CLM\"\n",
    "\n",
    "# outputs\n",
    "model.Solver.CLM.CLMFileDir = \"clm_output/\"\n",
    "model.Solver.CLM.Print1dOut = False\n",
    "model.Solver.BinaryOutDir = False #Solver: Field BinaryOutDir is not part of the expected schema <class 'parflow.tools.database.generated.Solver'>\n",
    "model.Solver.CLM.DailyRST = True\n",
    "model.Solver.CLM.SingleFile = True\n",
    "model.Solver.CLM.CLMDumpInterval = 1\n",
    "\n",
    "# forcing files\n",
    "model.Solver.CLM.MetFileName = \"NLDAS\"\n",
    "model.Solver.CLM.MetFilePath = \"../../NLDAS\"\n",
    "model.Solver.CLM.MetForcing = \"3D\"\n",
    "model.Solver.CLM.MetFileNT = 24\n",
    "model.Solver.CLM.IstepStart = 1\n",
    "\n",
    "# physical properties\n",
    "model.Solver.CLM.EvapBeta = \"Linear\"\n",
    "model.Solver.CLM.VegWaterStress = \"Saturation\"\n",
    "model.Solver.CLM.ResSat = 0.1\n",
    "model.Solver.CLM.WiltingPoint = 0.12\n",
    "model.Solver.CLM.FieldCapacity = 0.98\n",
    "model.Solver.CLM.IrrigationType = \"none\"\n",
    "model.Solver.CLM.RootZoneNZ = 4\n",
    "model.Solver.CLM.SoiLayer = 4\n"
   ]
  },
  {
   "cell_type": "markdown",
   "id": "78b5231d-01e3-41ca-829f-16e835423558",
   "metadata": {},
   "source": [
    "## 9. Solver settings\n",
    "\n",
    "### 9.1 Outputs:\n",
    "Now we specify what outputs we would like written. In this example we specify that we would like to write out CLM variables as well as Pressure and Saturation. However, there are many options for this and you should change these options according to what type of analysis you will be performing on your results. A complete list of print options is provided in § 6.1.32."
   ]
  },
  {
   "cell_type": "code",
   "execution_count": 20,
   "id": "cf3b7c91-c6db-43f7-8ac6-846edc44c4d2",
   "metadata": {},
   "outputs": [],
   "source": [
    "model.Solver.PrintSubsurfData = True\n",
    "model.Solver.PrintPressure = True\n",
    "model.Solver.PrintSaturation = False\n",
    "model.Solver.PrintMask = True\n",
    "model.Solver.PrintVelocities = False\n",
    "model.Solver.PrintEvapTrans = False\n",
    "model.Solver.CLM.SingleFile = False\n",
    "\n",
    "model.Solver.WriteCLMBinary = False\n",
    "model.Solver.PrintCLM = True\n",
    "model.Solver.WriteSiloSpecificStorage = False\n",
    "model.Solver.WriteSiloMannings = False\n",
    "#model.Solver.WriteSiloMask = False\n",
    "model.Solver.WriteSiloSlopes = False\n",
    "model.Solver.WriteSiloSubsurfData = False\n",
    "model.Solver.WriteSiloPressure = False\n",
    "model.Solver.WriteSiloSaturation = False\n",
    "model.Solver.WriteSiloEvapTrans = False\n",
    "model.Solver.WriteSiloEvapTransSum = False\n",
    "model.Solver.WriteSiloOverlandSum = False\n",
    "#model.Solver.WriteSiloCLM = False"
   ]
  },
  {
   "cell_type": "markdown",
   "id": "0c9adf8a-dd90-43ae-aaf7-ee572240f133",
   "metadata": {},
   "source": [
    "### 9.2 Solver parameters\n",
    "Next we specify the solver settings for the ParFlow (§ 6.1.34). \n",
    "\n",
    "**Solver:** First we turn on solver Richards and the terrain following grid.\n",
    "\n",
    "**Exact solution:** We don't have one here. Exact solution specification for error calculations\n",
    "\n",
    "**Solver settings:** We then set the max solver settings and linear and nonlinear convergence tolerance settings. The linear system will be solved to a norm of 1e−8 and the nonlinear system will be solved to less than 1e−6. Also of note is the EtaChoice of EtaConstant and that we use the analytical Jacobian (UseJacobian=True). We are also using the PFMG preconditioner.\n",
    "\n"
   ]
  },
  {
   "cell_type": "code",
   "execution_count": 21,
   "id": "44103377-0ca2-47a8-a6dd-3d61684c059c",
   "metadata": {},
   "outputs": [],
   "source": [
    "# Solver types\n",
    "model.Solver = \"Richards\"\n",
    "model.Solver.TerrainFollowingGrid = True\n",
    "model.Solver.Linear.Preconditioner = \"PFMG\"\n",
    "#model.Solver.Linear.Preconditioner.PCMatrixType = \"FullJacobian\"\n",
    "\n",
    "# Exact solution\n",
    "model.KnownSolution = \"NoKnownSolution\"\n",
    "\n",
    "# Solver settings\n",
    "model.Solver.MaxIter = 25000\n",
    "model.Solver.Drop = 1e-20\n",
    "model.Solver.AbsTol = 1e-8\n",
    "model.Solver.MaxConvergenceFailures = 8\n",
    "model.Solver.Nonlinear.MaxIter = 1000\n",
    "model.Solver.Nonlinear.ResidualTol = 1e-6\n",
    "model.Solver.Nonlinear.EtaChoice =  \"EtaConstant\"\n",
    "model.Solver.Nonlinear.EtaValue = 0.001\n",
    "model.Solver.Nonlinear.UseJacobian = True\n",
    "model.Solver.Nonlinear.DerivativeEpsilon = 1e-16\n",
    "model.Solver.Nonlinear.StepTol = 1e-15\n",
    "model.Solver.Nonlinear.Globalization = \"LineSearch\"\n",
    "model.Solver.Linear.KrylovDimension = 70\n",
    "model.Solver.Linear.MaxRestarts = 2\n"
   ]
  },
  {
   "cell_type": "markdown",
   "id": "d9c002d2-2e5f-4a96-98e2-3069aa33070e",
   "metadata": {},
   "source": [
    "## 10.  Distribute files, write the model and run the simulation\n",
    "\n",
    "**Distribute:** Next we distribute all the inputs over our domain geometry. Note the slopes are 2D files, so we need to set our NZ to one and then back to 10 for the rest of the ParFlow inputs which are 3D. Note that this is an action that is taken and will result in the dist files being created. \n",
    "\n",
    "**Write:** The main modl.write command writes the ParFlow database that is used to run the model.  Here we are also writing yaml and json files. These files are not neceessary to run the model but can be used as metadata with model simulations and to load simulations for analysis in Python. \n",
    "\n",
    "**Run:** Finally we actually run the model!  Note this is the step at which outputs will be generated in your outputs folder. "
   ]
  },
  {
   "cell_type": "code",
   "execution_count": null,
   "id": "e1fbef16-b142-4c84-8341-17a93655e0b7",
   "metadata": {},
   "outputs": [
    {
     "name": "stdout",
     "output_type": "stream",
     "text": [
      "\n",
      "# ==============================================================================\n",
      "# ParFlow directory\n",
      "#  - /usr/local\n",
      "# ParFlow version\n",
      "#  - 3.10.0\n",
      "# Working directory\n",
      "#  - /data/exercises/little_washita/outputs/LW_CLM_EX4\n",
      "# ParFlow database\n",
      "#  - LW_CLM_EX4.pfidb\n",
      "# ==============================================================================\n",
      "\n",
      "\n"
     ]
    }
   ],
   "source": [
    "#distribute\n",
    "model.ComputationalGrid.NZ =1\n",
    "model.dist(\"slopex_LW.pfb\")\n",
    "model.dist(\"slopey_LW.pfb\")\n",
    "#model.dist(\"MANN_PFB\") #if you have a Mannings pfb, it should be distributed over nz = 1\n",
    "\n",
    "model.ComputationalGrid.NZ = 10 #the rest of the inputs shoul dbe distributed over 3D space\n",
    "model.dist(\"Indicator_LW_USGS_Bedrock.pfb\")\n",
    "model.dist(\"press.init.pfb\")\n",
    "\n",
    "# write\n",
    "model.write()\n",
    "model.write(file_format='yaml')\n",
    "model.write(file_format='json')\n",
    "\n",
    "#run\n",
    "model.run()"
   ]
  }
 ],
 "metadata": {
  "kernelspec": {
   "display_name": "Python 3",
   "language": "python",
   "name": "python3"
  },
  "language_info": {
   "codemirror_mode": {
    "name": "ipython",
    "version": 3
   },
   "file_extension": ".py",
   "mimetype": "text/x-python",
   "name": "python",
   "nbconvert_exporter": "python",
   "pygments_lexer": "ipython3",
   "version": "3.6.8"
  }
 },
 "nbformat": 4,
 "nbformat_minor": 5
}
