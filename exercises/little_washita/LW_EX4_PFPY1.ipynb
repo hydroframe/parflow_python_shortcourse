{
 "cells": [
  {
   "cell_type": "markdown",
   "id": "d83ae938-1c52-479f-80cc-dcbc779ef166",
   "metadata": {},
   "source": [
    "# Little Washita Worked Example\n",
    "## ParFlow Shortcourse June 2022\n",
    "This notebook translates the tcl for exercise four of the ParFlow shortcourse to the newest parflow-python integration. \n",
    "<br /> The end result is 72 hourly outputs from the X forcing year for the Little Washita domain. "
   ]
  },
  {
   "cell_type": "markdown",
   "id": "86e82b0d-9959-4722-850f-8450d7b71d39",
   "metadata": {},
   "source": [
    "Import required libraries and functions to run ParFlow in Python. \n",
    "<br />Documentation for pftools can be found at https://github.com/parflow/parflow/tree/master/pftools/python"
   ]
  },
  {
   "cell_type": "code",
   "execution_count": 35,
   "id": "f0754238-fc6d-43e5-9f18-de1b8b97325f",
   "metadata": {},
   "outputs": [],
   "source": [
    "import sys\n",
    "import os\n",
    "import numpy as np\n",
    "from parflow import Run \n",
    "import shutil\n",
    "from parflow.tools.fs import mkdir, get_absolute_path\n",
    "from parflow.tools.fs import mkdir, cp, get_absolute_path, exists\n",
    "from parflow.tools.settings import set_working_directory"
   ]
  },
  {
   "cell_type": "markdown",
   "id": "3ae2b662-f8fc-4d26-aed1-3110fe7fe5bc",
   "metadata": {},
   "source": [
    "Initialize paths in order to read input and write output files. \n",
    "<br />Additionally, set the runname and initialize the model object whose attribute we will set in following cells. "
   ]
  },
  {
   "cell_type": "code",
   "execution_count": 36,
   "id": "c8ce6c81-f3b7-4ed3-8336-afc2e2549a8f",
   "metadata": {},
   "outputs": [],
   "source": [
    "PROJECT_PATH = os.getcwd() #there is some un-optimability with how the wd is beigng set, when i move around this can change sometimes and cause unexpected behavior\n",
    "os.chdir(PROJECT_PATH)\n",
    "PFINPUT_DIRECTORY = f\"{PROJECT_PATH}/LW/parflow_input\"\n",
    "CLMINPUT_DIRECTORY = f\"{PROJECT_PATH}/LW/clm_input\"\n",
    "DOMAIN_DIRECTORY = f\"{PROJECT_PATH}/LW/outputs\"\n",
    "model = Run(\"LW_CLM_Ex4\", DOMAIN_DIRECTORY )\n",
    "model.FileVersion = 4"
   ]
  },
  {
   "cell_type": "markdown",
   "id": "911cc28e-5cd7-4aaa-9f68-6ee22311dc33",
   "metadata": {},
   "source": [
    "Before we really get started, copy all of the required input files into the run directory. \n",
    "<br />These files will be described in detail later as they get used."
   ]
  },
  {
   "cell_type": "code",
   "execution_count": 37,
   "id": "f6e0b34a-420f-4773-b7db-424913414e67",
   "metadata": {},
   "outputs": [],
   "source": [
    "#Copy Parflow inputs\n",
    "files=os.listdir(PFINPUT_DIRECTORY)\n",
    "# iterating over all the files parflow_inputs dir\n",
    "for fname in files:\n",
    "    # copying the files to the destination directory\n",
    "    shutil.copy(os.path.join(PFINPUT_DIRECTORY,fname), DOMAIN_DIRECTORY)\n",
    "    \n",
    "#Copy clm inputs\n",
    "files=os.listdir(CLMINPUT_DIRECTORY)\n",
    "# iterating over all the files parflow_inputs dir\n",
    "for fname in files:\n",
    "    # copying the files to the destination directory\n",
    "    shutil.copy(os.path.join(CLMINPUT_DIRECTORY,fname), DOMAIN_DIRECTORY)  "
   ]
  },
  {
   "cell_type": "markdown",
   "id": "84dc1cf7-242d-4a76-9d1d-d1825c6b4096",
   "metadata": {},
   "source": [
    "#### Parallel Process Topology. \n",
    "The domain is divided in x,y and z by P, Q and R. The total number of processors is P*Q*R."
   ]
  },
  {
   "cell_type": "code",
   "execution_count": 38,
   "id": "f39fd2c8-2220-4b8c-9522-89256acfc85b",
   "metadata": {},
   "outputs": [],
   "source": [
    "model.Process.Topology.P = 1\n",
    "model.Process.Topology.Q = 1\n",
    "model.Process.Topology.R = 1"
   ]
  },
  {
   "cell_type": "markdown",
   "id": "0bbe5d7a-2036-41c2-9282-487c2cca61cf",
   "metadata": {},
   "source": [
    "#### Computational Grid:"
   ]
  },
  {
   "cell_type": "code",
   "execution_count": 39,
   "id": "c4598377-8a3a-476f-982f-e9af3416f2fe",
   "metadata": {},
   "outputs": [],
   "source": [
    "#Locate the origin in the domain.\n",
    "model.ComputationalGrid.Lower.X = 0.0\n",
    "model.ComputationalGrid.Lower.Y = 0.0\n",
    "model.ComputationalGrid.Lower.Z = 0.0\n",
    "# Define the size of the domain grid block. Length units, same as those on hydraulic conductivity, here that is meters.\n",
    "model.ComputationalGrid.DX = 1000.0\n",
    "model.ComputationalGrid.DY = 1000.0\n",
    "model.ComputationalGrid.DZ = 200.0\n",
    "# Define the number of grid blocks in the domain.\n",
    "model.ComputationalGrid.NX = 64\n",
    "model.ComputationalGrid.NY = 32\n",
    "model.ComputationalGrid.NZ = 10"
   ]
  },
  {
   "cell_type": "markdown",
   "id": "89d20ce8-fb7d-485c-9f37-3e33a34799df",
   "metadata": {},
   "source": [
    "#### The Names of the GeomInputs\n",
    "This next piece is comparable to a pre-declaration of variables. These will be areas in our domain geometry. \n",
    "<br />The regions themselves will be defined later. You must always have one that is the name of your entire domain. \n",
    "<br />If you want subsections within your domain, you may declare these as well. \n",
    "<br />Here we define two geometries one is the domain, here solid_input because we will use a solid file to represent the domain \n",
    "<br />and one is for the indicator file (which will also span the entire domain)."
   ]
  },
  {
   "cell_type": "code",
   "execution_count": 40,
   "id": "25504f97-c613-4751-9e26-21f4e6181ff2",
   "metadata": {},
   "outputs": [],
   "source": [
    "model.GeomInput.Names = \"solid_input indi_input\""
   ]
  },
  {
   "cell_type": "markdown",
   "id": "7e6078bf-6bd2-473a-929d-1e4be5d94c50",
   "metadata": {},
   "source": [
    "#### Domain Geometry Input\n",
    "Now you characterize the domain that you just pre-declared to be solid file input, with file extension .pfsol. "
   ]
  },
  {
   "cell_type": "code",
   "execution_count": 41,
   "id": "31acde13-2cef-4c3c-84a9-e323623a777d",
   "metadata": {},
   "outputs": [],
   "source": [
    "model.GeomInput.Names = \"solid_input indi_input\"\n",
    "model.GeomInput.solid_input.InputType = \"SolidFile\"\n",
    "model.GeomInput.solid_input.GeomNames = \"domain\"\n",
    "model.GeomInput.solid_input.FileName = \"LW.pfsol\"\n"
   ]
  },
  {
   "cell_type": "markdown",
   "id": "62823c16-d2fe-4857-8047-85d537889d0c",
   "metadata": {},
   "source": [
    "#### Domain Geometry\n",
    "Here, you would usually set the limits in space for your entire domain, but it is not necessary to explicitly do this as we are using a solid file. \n",
    "<br />The Patches key assigns names to the outside edges, because the domain is the limit of the problem in space. Each patch refers to a different value region in the solid file."
   ]
  },
  {
   "cell_type": "code",
   "execution_count": 42,
   "id": "08e56a2c-184b-4a79-bfa5-898876507112",
   "metadata": {},
   "outputs": [],
   "source": [
    "model.Geom.domain.Patches = \"top bottom side\""
   ]
  },
  {
   "cell_type": "markdown",
   "id": "7956e350-e316-402e-8c1f-9ff6a6358280",
   "metadata": {},
   "source": [
    "#### Variable Dz\n",
    "Variable Dz allows you to change the thickness of each of your z-layers, the default is a uniform thickness. \n",
    "<br />In this example, the DZ is 200 and the NZ is 10, meaning the default is 10 layers, which are 200m in thickness each. \n",
    "<br />The .dzscale.Value lines are numbers by which is uniform 200m will be scaled for each layer. \n",
    "<br />For ParFlow, 0 refers to the bottom layer which means that the bottom layer will have a thickness of 1000m (200 * 5). \n",
    "<br />The top layer (9) with a scalar of .0005 will have a thickness of 0.1m (.0005 * 200m)"
   ]
  },
  {
   "cell_type": "code",
   "execution_count": 43,
   "id": "de40ec18-e53e-4437-8263-eb8ae490233a",
   "metadata": {},
   "outputs": [],
   "source": [
    "model.Solver.Nonlinear.VariableDz = True\n",
    "model.dzScale.GeomNames = \"domain\"\n",
    "model.dzScale.Type = \"nzList\"\n",
    "model.dzScale.nzListNumber = 10\n",
    "\n",
    "model.Cell._0.dzScale.Value = 5\n",
    "model.Cell._1.dzScale.Value = 0.5\n",
    "model.Cell._2.dzScale.Value = 0.25\n",
    "model.Cell._3.dzScale.Value = 0.125\n",
    "model.Cell._4.dzScale.Value = 0.05\n",
    "model.Cell._5.dzScale.Value = 0.025\n",
    "model.Cell._6.dzScale.Value = 0.005\n",
    "model.Cell._7.dzScale.Value = 0.003\n",
    "model.Cell._8.dzScale.Value = 0.0015\n",
    "model.Cell._9.dzScale.Value = 0.0005"
   ]
  },
  {
   "cell_type": "markdown",
   "id": "bd370796-0d46-49cf-9f18-50fb7f8c92b8",
   "metadata": {},
   "source": [
    "#### Indicator Geometry Input\n",
    "Now we setup the indicator file. As noted above, the indicator file has integer values for every grid cell in the domain designating what geologic unit it belongs to. \n",
    "<br />The GeomNames list should include a name for every unit in your indicator file. \n",
    "<br />In this example we have thirteen soil units (s1-s13) and ten geologic units (g1-g13). \n",
    "<br />The FileName points to the indicator file that ParFlow will read. \n",
    "<br />Recall that this file is copied into the run directory at the start of the script."
   ]
  },
  {
   "cell_type": "code",
   "execution_count": 44,
   "id": "82d60658-ad91-4e26-89c9-39701157a4b6",
   "metadata": {},
   "outputs": [],
   "source": [
    "model.GeomInput.indi_input.InputType =   \"IndicatorField\"\n",
    "model.GeomInput.indi_input.GeomNames = \"s1 s2 s3 s4 s5 s6 s7 s8 s9 s10 s11 s12 s13 g1 g2 g3 g4 g5 g6 g7 g8 g9 g10\"\n",
    "model.Geom.indi_input.FileName = \"Indicator_LW_USGS_Bedrock.pfb\""
   ]
  },
  {
   "cell_type": "markdown",
   "id": "82bd1926-24af-4f74-a635-c321016ab930",
   "metadata": {},
   "source": [
    "For every name in the GeomNames list we define the corresponding value in the indicator file. \n",
    "<br />For example, here we are saying that our first soil unit (s1) is represented by the number “1\" in the indicator file, while the first geologic unit (g1) is represented by the number “19\". <br />Note: that the integers used in the indicator file do not need to be consecutive. "
   ]
  },
  {
   "cell_type": "code",
   "execution_count": 45,
   "id": "5b1e5a99-9e2f-4cb4-ad7c-7f1a582038ee",
   "metadata": {},
   "outputs": [],
   "source": [
    "model.GeomInput.s1.Value =    1\n",
    "model.GeomInput.s2.Value =    2\n",
    "model.GeomInput.s3.Value =    3\n",
    "model.GeomInput.s4.Value =    4\n",
    "model.GeomInput.s5.Value =    5\n",
    "model.GeomInput.s6.Value =    6\n",
    "model.GeomInput.s7.Value =    7\n",
    "model.GeomInput.s8.Value =    8\n",
    "model.GeomInput.s9.Value =    9\n",
    "model.GeomInput.s10.Value =   10\n",
    "model.GeomInput.s11.Value =   11\n",
    "model.GeomInput.s12.Value =   12\n",
    "model.GeomInput.s13.Value =   13\n",
    "\n",
    "model.GeomInput.g1.Value =    19\n",
    "model.GeomInput.g2.Value =    20\n",
    "model.GeomInput.g3.Value =    21\n",
    "model.GeomInput.g4.Value =    22\n",
    "model.GeomInput.g5.Value =    23\n",
    "model.GeomInput.g6.Value =    24\n",
    "model.GeomInput.g7.Value =    25\n",
    "model.GeomInput.g8.Value =    26\n",
    "model.GeomInput.g9.Value =    27\n",
    "model.GeomInput.g10.Value =    28\n"
   ]
  },
  {
   "cell_type": "markdown",
   "id": "3423c545-1793-4c97-a4e0-feffb684e6fb",
   "metadata": {},
   "source": [
    "#### Permeability (values in m/hr)\n",
    "Now you add permeability (k) data to the domain sections defined above. \n",
    "<br />You can reassign values simply by re-stating them – there is no need to comment out or delete the previous version – the final statement is the only one that counts. \n",
    "<br />Also, note that you do not need to assign permeability values to all of the geometries names. \n",
    "<br />Any geometry that is not assigned its own permeability value will take the domain value. \n",
    "<br />However, every geometry listed in Porosity.GeomNames must have values assigned."
   ]
  },
  {
   "cell_type": "code",
   "execution_count": 46,
   "id": "3e0f8afb-cb47-411d-8bf5-b8dcf463a91a",
   "metadata": {},
   "outputs": [],
   "source": [
    "model.Geom.Perm.Names = \"domain s1 s2 s3 s4 s5 s6 s7 s8 s9 s10 s11 s12 s13 g1 g2 g3 g4 g5 g6 g7 g8 g9 g10\"\n",
    "\n",
    "model.Geom.domain.Perm.Type = \"Constant\"\n",
    "model.Geom.domain.Perm.Value = 0.02\n",
    "\n",
    "model.Geom.s1.Perm.Type = \"Constant\"\n",
    "model.Geom.s1.Perm.Value = 0.269022595\n",
    "\n",
    "model.Geom.s2.Perm.Type = \"Constant\"\n",
    "model.Geom.s2.Perm.Value = 0.043630356\n",
    "\n",
    "model.Geom.s3.Perm.Type = \"Constant\"\n",
    "model.Geom.s3.Perm.Value = 0.015841225\n",
    "\n",
    "model.Geom.s4.Perm.Type = \"Constant\"\n",
    "model.Geom.s4.Perm.Value = 0.007582087\n",
    "\n",
    "model.Geom.s5.Perm.Type = \"Constant\"\n",
    "model.Geom.s5.Perm.Value = 0.01818816\n",
    "\n",
    "model.Geom.s6.Perm.Type = \"Constant\"\n",
    "model.Geom.s6.Perm.Value = 0.005009435\n",
    "\n",
    "model.Geom.s7.Perm.Type = \"Constant\"\n",
    "model.Geom.s7.Perm.Value = 0.005492736\n",
    "\n",
    "model.Geom.s8.Perm.Type = \"Constant\"\n",
    "model.Geom.s8.Perm.Value = 0.004675077\n",
    "\n",
    "model.Geom.s9.Perm.Type = \"Constant\"\n",
    "model.Geom.s9.Perm.Value = 0.003386794\n",
    "\n",
    "model.Geom.s10.Perm.Type = \"Constant\"\n",
    "model.Geom.s10.Perm.Value = 0.004783973\n",
    "\n",
    "model.Geom.s11.Perm.Type = \"Constant\"\n",
    "model.Geom.s11.Perm.Value = 0.003979136\n",
    "\n",
    "model.Geom.s12.Perm.Type = \"Constant\"\n",
    "model.Geom.s12.Perm.Value = 0.006162952\n",
    "\n",
    "model.Geom.s13.Perm.Type = \"Constant\"\n",
    "model.Geom.s13.Perm.Value = 0.005009435\n",
    "\n",
    "model.Geom.g1.Perm.Type = \"Constant\"\n",
    "model.Geom.g1.Perm.Value = 5e-3\n",
    "\n",
    "model.Geom.g2.Perm.Type = \"Constant\"\n",
    "model.Geom.g2.Perm.Value = 1e-2\n",
    "\n",
    "model.Geom.g3.Perm.Type = \"Constant\"\n",
    "model.Geom.g3.Perm.Value = 2e-2\n",
    "\n",
    "model.Geom.g4.Perm.Type = \"Constant\"\n",
    "model.Geom.g4.Perm.Value = 3e-2\n",
    "\n",
    "model.Geom.g5.Perm.Type = \"Constant\"\n",
    "model.Geom.g5.Perm.Value = 4e-2\n",
    "\n",
    "model.Geom.g6.Perm.Type = \"Constant\"\n",
    "model.Geom.g6.Perm.Value = 5e-2\n",
    "\n",
    "model.Geom.g7.Perm.Type = \"Constant\"\n",
    "model.Geom.g7.Perm.Value = 6e-2\n",
    "\n",
    "model.Geom.g8.Perm.Type = \"Constant\"\n",
    "model.Geom.g8.Perm.Value = 8e-2\n",
    "\n",
    "model.Geom.g9.Perm.Type = \"Constant\"\n",
    "model.Geom.g9.Perm.Value = 0.1\n",
    "\n",
    "model.Geom.g10.Perm.Type = \"Constant\"\n",
    "model.Geom.g10.Perm.Value = 0.2"
   ]
  },
  {
   "cell_type": "markdown",
   "id": "619766e6-c918-4b15-b8cc-01d55c8d8a83",
   "metadata": {},
   "source": [
    "The following section allows you to specify the permeability tensor. In the case below, permeability is symmetric in all directions (x, y, and z) and therefore each is set to 1.0. \n",
    "<br />Also note that we just specify this once for the whole domain because we want isotropic permeability everywhere. \n",
    "<br />You can specify different tensors for different units by repeating these lines with different Geom.Names."
   ]
  },
  {
   "cell_type": "code",
   "execution_count": 47,
   "id": "c027801b-3d20-471c-b7f1-ba3972e72461",
   "metadata": {},
   "outputs": [],
   "source": [
    "model.Perm.TensorType = \"TensorByGeom\"\n",
    "model.Geom.Perm.TensorByGeom.Names = \"domain\"\n",
    "model.Geom.domain.Perm.TensorValX = 1.0\n",
    "model.Geom.domain.Perm.TensorValY = 1.0\n",
    "model.Geom.domain.Perm.TensorValZ = 1.0"
   ]
  },
  {
   "cell_type": "markdown",
   "id": "c4b4775d-8fac-4e8c-a419-718a9877277a",
   "metadata": {},
   "source": [
    "#### Specific Storage\n",
    "Next we set the specific storage. Here again we specify one value for the whole domain but these lines can be easily repeated to set different values for different units."
   ]
  },
  {
   "cell_type": "code",
   "execution_count": 48,
   "id": "be86b830-878c-40a4-9d1e-4c40bc45e174",
   "metadata": {},
   "outputs": [],
   "source": [
    "model.SpecificStorage.Type = \"Constant\"\n",
    "model.SpecificStorage.GeomNames = \"domain\"\n",
    "model.Geom.domain.SpecificStorage.Value = 0.0001"
   ]
  },
  {
   "cell_type": "markdown",
   "id": "f65db868-d054-461b-aee5-c1f7794af89f",
   "metadata": {},
   "source": [
    "#### Phases\n",
    "ParFlow has the capability to deal with a multiphase system, but we only have one (water) in this example. \n",
    "<br />As we stated earlier, we set density and viscosity artificially (and later gravity) both to 1.0. \n",
    "<br />Again, this is merely a trick to solve for hydraulic conductivity and pressure head. \n",
    "<br />If you were to set density and viscosity to their true values, the code would calculate k (permeability). \n",
    "<br />By using the normalized values instead, you effectively embed the conversion of k to K (hydraulic conductivity). \n",
    "<br />So this way, we get hydraulic conductivity, which is what we want for this problem."
   ]
  },
  {
   "cell_type": "code",
   "execution_count": 49,
   "id": "20dd45e6-6f8d-4b7f-8169-f50e8faf061c",
   "metadata": {},
   "outputs": [],
   "source": [
    "model.Phase.Names = \"water\"\n",
    "model.Phase.water.Density.Type = \"Constant\"\n",
    "model.Phase.water.Density.Value = 1.0\n",
    "model.Phase.water.Viscosity.Type = \"Constant\"\n",
    "model.Phase.water.Viscosity.Value = 1.0"
   ]
  },
  {
   "cell_type": "markdown",
   "id": "93962019-a57f-4ffa-a7f0-240282cbe563",
   "metadata": {},
   "source": [
    "#### Contaminants\n",
    "This example does not include the ParFlow grid based transport scheme. Therefore we leave contaminants blank."
   ]
  },
  {
   "cell_type": "code",
   "execution_count": 50,
   "id": "4baf97ed-818a-4292-84d1-8bd6951309d7",
   "metadata": {},
   "outputs": [],
   "source": [
    "model.Contaminants.Names = \"\""
   ]
  },
  {
   "cell_type": "markdown",
   "id": "ee82b27a-25c4-4f5a-b1a3-9001cfc2df1f",
   "metadata": {},
   "source": [
    "#### Gravity\n",
    "As with density and viscosity, gravity is normalized here. If we used the true value (in the [L] and [T] units of hydraulic conductivity) the code would be calculating permeability (k). \n",
    "<br />Instead, we normalize so that the code calculates hydraulic conductivity (K)."
   ]
  },
  {
   "cell_type": "code",
   "execution_count": 51,
   "id": "ff2be663-bed5-4880-aca0-10a428f2bb62",
   "metadata": {},
   "outputs": [],
   "source": [
    "model.Gravity = 1.0"
   ]
  },
  {
   "cell_type": "markdown",
   "id": "61d7a32f-485f-4189-a3f4-6202848702b7",
   "metadata": {},
   "source": [
    "#### Timing (time units is set by units of permeability)\n",
    "This specifies the base unit of time for all time values entered. All time should be expressed as multiples of this value. \n",
    "<br />To keep things simple here we set it to 1. Because we expressed our permeability in units of m/hr in this example this means that our base unit of time is 1hr."
   ]
  },
  {
   "cell_type": "code",
   "execution_count": 52,
   "id": "27a7cee8-552b-4d0a-b8ed-a6f37fedeaca",
   "metadata": {},
   "outputs": [],
   "source": [
    "model.TimingInfo.BaseUnit = 1.0"
   ]
  },
  {
   "cell_type": "markdown",
   "id": "463e2066-97bb-4e7a-8e0d-d8eb86618f9f",
   "metadata": {},
   "source": [
    "This key specifies the time step number that will be associated with the first advection cycle of the transient problem. \n",
    "<br />Because we are starting from scratch we set this to 0. If we were restarting a run we would set this to the last time step of your previous simulation. \n",
    "<br />Refer to § 3.3 for additional instructions on restarting a run."
   ]
  },
  {
   "cell_type": "code",
   "execution_count": 53,
   "id": "0aa3086b-a3e6-4668-8000-98e738a4adb4",
   "metadata": {},
   "outputs": [],
   "source": [
    "model.TimingInfo.StartCount = 0"
   ]
  },
  {
   "cell_type": "markdown",
   "id": "eafe839b-5602-45c1-b940-170937d8b33b",
   "metadata": {},
   "source": [
    "StartTime and StopTime specify the start and stop times for the simulation. These values should correspond with the forcing files you are using.\n",
    "Here the stop time is set to 72 hours or three days. "
   ]
  },
  {
   "cell_type": "code",
   "execution_count": 54,
   "id": "78d46207-1154-46e9-91b9-6f6f3cd0ba99",
   "metadata": {},
   "outputs": [],
   "source": [
    "model.TimingInfo.StartTime = 0\n",
    "model.TimingInfo.StopTime = 72.0"
   ]
  },
  {
   "cell_type": "markdown",
   "id": "b412802b-954c-4518-96ec-375a0c9fde5d",
   "metadata": {},
   "source": [
    "This key specifies the timing interval at which ParFlow time dependent outputs will be written. \n",
    "<br />Here we have a base unit of 1hr so a dump interval of 24 means that we are writing daily outputs. \n",
    "<br />Note that this key only controls the ParFlow output interval and not the interval that CLM outputs will be written out at."
   ]
  },
  {
   "cell_type": "code",
   "execution_count": 55,
   "id": "28e72e4d-f7ef-4a3f-8eaf-469d2b896ff6",
   "metadata": {},
   "outputs": [],
   "source": [
    "model.TimingInfo.DumpInterval = 1.0"
   ]
  },
  {
   "cell_type": "markdown",
   "id": "8989c6ee-dc79-4da1-85ad-ee6de4061640",
   "metadata": {},
   "source": [
    "Here we set the time step value. For this example we use a constant time step of 1hr."
   ]
  },
  {
   "cell_type": "code",
   "execution_count": 56,
   "id": "a3e0b13a-154f-4370-8861-c8a7568b292d",
   "metadata": {},
   "outputs": [],
   "source": [
    "model.TimeStep.Type = \"Constant\"\n",
    "model.TimeStep.Value = 1.0"
   ]
  },
  {
   "cell_type": "markdown",
   "id": "609738bf-0968-41e5-bb1b-18dab9035d8c",
   "metadata": {},
   "source": [
    "#### Porosity\n",
    "Next, we assign the porosity (see § 6.1.12). As with the permeability we assign different values for different indicator geometries. \n",
    "<br />Here we assign values for all of our soil units but not for the geologic units, they will default to the domain value of 0.33. \n",
    "<br />Note that every geometry listed in Porosity.GeomNames must have values assigned which is why we do not list the geologic named units."
   ]
  },
  {
   "cell_type": "code",
   "execution_count": 57,
   "id": "3c752d39-1e32-4bd4-b211-a429d2ba36db",
   "metadata": {},
   "outputs": [],
   "source": [
    "model.Geom.Porosity.GeomNames = \"domain s1 s2 s3 s4 s5 s6 s7 s8 s9 s10 s11 s12 s13\"\n",
    "\n",
    "model.Geom.domain.Porosity.Type = \"Constant\"\n",
    "model.Geom.domain.Porosity.Value = 0.33\n",
    "\n",
    "model.Geom.s1.Porosity.Type = \"Constant\"\n",
    "model.Geom.s1.Porosity.Value = 0.375\n",
    "\n",
    "model.Geom.s2.Porosity.Type = \"Constant\"\n",
    "model.Geom.s2.Porosity.Value = 0.39\n",
    "\n",
    "model.Geom.s3.Porosity.Type = \"Constant\"\n",
    "model.Geom.s3.Porosity.Value = 0.387\n",
    "\n",
    "model.Geom.s4.Porosity.Type = \"Constant\"\n",
    "model.Geom.s4.Porosity.Value = 0.439\n",
    "\n",
    "model.Geom.s5.Porosity.Type = \"Constant\"\n",
    "model.Geom.s5.Porosity.Value = 0.489\n",
    "\n",
    "model.Geom.s6.Porosity.Type = \"Constant\"\n",
    "model.Geom.s6.Porosity.Value = 0.399\n",
    "\n",
    "model.Geom.s7.Porosity.Type = \"Constant\"\n",
    "model.Geom.s7.Porosity.Value = 0.384\n",
    "\n",
    "model.Geom.s8.Porosity.Type = \"Constant\"\n",
    "model.Geom.s8.Porosity.Value = 0.482\n",
    "\n",
    "model.Geom.s9.Porosity.Type = \"Constant\"\n",
    "model.Geom.s9.Porosity.Value = 0.442\n",
    "\n",
    "model.Geom.s10.Porosity.Type = \"Constant\"\n",
    "model.Geom.s10.Porosity.Value = 0.385\n",
    "\n",
    "model.Geom.s11.Porosity.Type = \"Constant\"\n",
    "model.Geom.s11.Porosity.Value = 0.481\n",
    "\n",
    "model.Geom.s12.Porosity.Type = \"Constant\"\n",
    "model.Geom.s12.Porosity.Value = 0.459\n",
    "\n",
    "model.Geom.s13.Porosity.Type = \"Constant\"\n",
    "model.Geom.s13.Porosity.Value = 0.399\n",
    "\n",
    "# model.Geom.g1.Porosity.Type =           \"Constant\"\n",
    "# model.Geom.g1.Porosity.Value =           0.33\n",
    "\n",
    "# model.Geom.g2.Porosity.Type =           \"Constant\"\n",
    "# model.Geom.g2.Porosity.Value =           0.33\n",
    "\n",
    "# model.Geom.g3.Porosity.Type =           \"Constant\"\n",
    "# model.Geom.g3.Porosity.Value =           0.30\n",
    "\n",
    "# model.Geom.g4.Porosity.Type =           \"Constant\"\n",
    "# model.Geom.g4.Porosity.Value =           0.30\n",
    "\n",
    "# model.Geom.g5.Porosity.Type =           \"Constant\"\n",
    "# model.Geom.g5.Porosity.Value =           0.10\n",
    "\n",
    "# model.Geom.g6.Porosity.Type =           \"Constant\"\n",
    "# model.Geom.g6.Porosity.Value =           0.30\n",
    "\n",
    "# model.Geom.g7.Porosity.Type =           \"Constant\"\n",
    "# model.Geom.g7.Porosity.Value =           0.30\n",
    "\n",
    "# model.Geom.g8.Porosity.Type =           \"Constant\"\n",
    "# model.Geom.g8.Porosity.Value =           0.30"
   ]
  },
  {
   "cell_type": "markdown",
   "id": "418ccd90-ecec-486f-8414-09d109b28064",
   "metadata": {},
   "source": [
    "#### Domain\n",
    "Having defined the geometry of our problem before and named it domain, we are now ready to report/upload that problem, which we do here."
   ]
  },
  {
   "cell_type": "code",
   "execution_count": 58,
   "id": "66724c30-b7a3-479c-974e-d8fffe5c07f3",
   "metadata": {},
   "outputs": [],
   "source": [
    "model.Domain.GeomName = \"domain\""
   ]
  },
  {
   "cell_type": "markdown",
   "id": "fde596b0-4cc1-4f40-860e-9c2086a04d71",
   "metadata": {},
   "source": [
    "#### Mobility\n",
    "Mobility between phases is set to 1.0 because we only have one phase (water)."
   ]
  },
  {
   "cell_type": "code",
   "execution_count": 59,
   "id": "59d66c4c-3c9b-479f-a801-7fa3477ffacd",
   "metadata": {},
   "outputs": [],
   "source": [
    "model.Phase.water.Mobility.Type = \"Constant\"\n",
    "model.Phase.water.Mobility.Value = 1.0"
   ]
  },
  {
   "cell_type": "markdown",
   "id": "26c3a556-36f0-468e-8910-d60567d4dac2",
   "metadata": {},
   "source": [
    "#### Wells\n",
    "Again, ParFlow has more capabilities than we are using here in this example. Note that since there are no well names listed here, ParFlow assumes we have no wells. \n",
    "<br />If we had pumping wells, we would have to include them here, because they would affect the head distribution throughout our domain. \n",
    "<br />See § 3.6.1 for an example of how to include pumping wells in this script."
   ]
  },
  {
   "cell_type": "code",
   "execution_count": 60,
   "id": "3fa95b27-0a0b-4f2f-ad00-7021f86ba43e",
   "metadata": {},
   "outputs": [],
   "source": [
    "model.Wells.Names = \"\""
   ]
  },
  {
   "cell_type": "markdown",
   "id": "b59b845e-d900-449f-9be7-a145eda38e04",
   "metadata": {},
   "source": [
    "#### Time Cycles\n",
    "You can give certain periods of time names if you want. For example if you aren’t running with CLM and you would like to have periods with rain and periods without. \n",
    "<br />Here, however we have only one time cycle because CLM will handle the variable forcings. \n",
    "<br />Therefore, we specify one time cycle and it’s constant for the duration of the simulation.\n",
    "<br />We accomplish this by giving it a repeat value of -1, which repeats indefinitely. \n",
    "<br />The length of the cycle is the length specified below (an integer) multiplied by the base unit value we specified earlier."
   ]
  },
  {
   "cell_type": "code",
   "execution_count": 61,
   "id": "2cd0d9d1-7ecf-4da4-aa20-c8dd5af86b79",
   "metadata": {},
   "outputs": [],
   "source": [
    "# model.Cycle.Names =\"constant rainrec\"\n",
    "model.Cycle.Names =\"constant\"\n",
    "model.Cycle.constant.Names = \"alltime\"\n",
    "model.Cycle.constant.alltime.Length = 1\n",
    "model.Cycle.constant.Repeat = -1\n",
    "\n",
    "# rainfall and recession time periods are defined here\n",
    "# rain for 1 hour, recession for 2 hours\n",
    "# model.Cycle.rainrec.Names = \"rain rec\"\n",
    "# model.Cycle.rainrec.rain.Length = 1\n",
    "# model.Cycle.rainrec.rec.Length = 5000000\n",
    "# model.Cycle.rainrec.Repeat = -1"
   ]
  },
  {
   "cell_type": "markdown",
   "id": "16dc8ec8-b40d-474b-9ca6-0bdf472511f2",
   "metadata": {},
   "source": [
    "#### Boundary Conditions\n",
    "Now, we assign Boundary Conditions for each face (each of the Patches in the domain defined before). \n",
    "<br />Recall the previously stated Patches and associate them with the boundary conditions that follow.\n",
    "<br />The bottom and sides of our domain are all set to no-flow (i.e. constant flux of 0) boundaries.\n",
    "<br />The top is set to an OverlandFLow boundary to turn on the fully-coupled overland flow routing, in this case, overland kinematic wave approximation."
   ]
  },
  {
   "cell_type": "code",
   "execution_count": 62,
   "id": "e4521562-775c-48a8-bc29-137cdae6d5bd",
   "metadata": {},
   "outputs": [],
   "source": [
    "model.BCPressure.PatchNames = \"top bottom side\"\n",
    "\n",
    "model.Patch.bottom.BCPressure.Type = \"FluxConst\"\n",
    "model.Patch.bottom.BCPressure.Cycle = \"constant\"\n",
    "model.Patch.bottom.BCPressure.alltime.Value = 0.0\n",
    "\n",
    "model.Patch.side.BCPressure.Type = \"FluxConst\"\n",
    "model.Patch.side.BCPressure.Cycle = \"constant\"\n",
    "model.Patch.side.BCPressure.alltime.Value = 0.0\n",
    "\n",
    "model.Patch.top.BCPressure.Type = \"OverlandKinematic\"\n",
    "model.Patch.top.BCPressure.Cycle = \"constant\"\n",
    "model.Patch.top.BCPressure.alltime.Value = 0.0"
   ]
  },
  {
   "cell_type": "markdown",
   "id": "557bf4be-eda5-4155-b67a-50aa897b7568",
   "metadata": {},
   "source": [
    "#### Topo slopes in x- and y- direction\n",
    "Next we define topographic slopes and values. These slope values were derived from a digital elevation model of the domain following the workflow in the PriorityFlow github package.\n",
    "<br />In this example we read the slope files in from .pfb files that were copied into the run directory at the start of this script."
   ]
  },
  {
   "cell_type": "code",
   "execution_count": 63,
   "id": "95b46b9e-835a-4b0e-8555-8e4d38c99e33",
   "metadata": {},
   "outputs": [],
   "source": [
    "model.TopoSlopesX.Type = \"PFBFile\"\n",
    "model.TopoSlopesX.GeomNames = \"domain\"\n",
    "model.TopoSlopesX.FileName = \"slopex_LW.pfb\"\n",
    "\n",
    "model.TopoSlopesY.Type = \"PFBFile\"\n",
    "model.TopoSlopesY.GeomNames = \"domain\"\n",
    "model.TopoSlopesY.FileName = \"slopey_LW.pfb\""
   ]
  },
  {
   "cell_type": "markdown",
   "id": "9e66c9d0-22a0-4af6-914c-820fb31175fa",
   "metadata": {},
   "source": [
    "#### Mannings coefficient\n",
    "And now we define the Mannings n, just one value for the whole domain in this example."
   ]
  },
  {
   "cell_type": "code",
   "execution_count": 64,
   "id": "7832c942-8403-463d-9ce7-9fc6360573f2",
   "metadata": {},
   "outputs": [],
   "source": [
    "model.Mannings.Type = \"Constant\"\n",
    "model.Mannings.GeomNames = \"domain\"\n",
    "model.Mannings.Geom.domain.Value = 0.0000044"
   ]
  },
  {
   "cell_type": "markdown",
   "id": "d05b3aba-5b46-4d02-9ce9-e41bec8dab1e",
   "metadata": {},
   "source": [
    "#### Relative Permeability\n",
    "Following the same approach as we did for Porosity we define the relative permeability inputs that will be used for Richards’ equation implementation (§ 6.1.20). \n",
    "<br />Here we use VanGenuchten parameters. Note that every geometry listed in Porosity.GeomNames must have values assigned.\n",
    "<br />Unnamed units will get the background domain value of 1.0 and 3.0"
   ]
  },
  {
   "cell_type": "code",
   "execution_count": 65,
   "id": "13e13383-13ac-4398-84c6-611f2a528a5c",
   "metadata": {},
   "outputs": [],
   "source": [
    "model.Phase.RelPerm.Type =              \"VanGenuchten\"\n",
    "model.Phase.RelPerm.GeomNames =     \"domain s1 s2 s3 s4 s5 s6 s7 s8 s9 s10 s11 s12 s13\"\n",
    "\n",
    "model.Geom.domain.RelPerm.Alpha =    1.0\n",
    "model.Geom.domain.RelPerm.N =        3.0\n",
    "\n",
    "model.Geom.s1.RelPerm.Alpha =        3.548\n",
    "model.Geom.s1.RelPerm.N =            4.162\n",
    "\n",
    "model.Geom.s2.RelPerm.Alpha =        3.467\n",
    "model.Geom.s2.RelPerm.N =            2.738\n",
    "\n",
    "model.Geom.s3.RelPerm.Alpha =        2.692\n",
    "model.Geom.s3.RelPerm.N =            2.445\n",
    "\n",
    "model.Geom.s4.RelPerm.Alpha =        0.501\n",
    "model.Geom.s4.RelPerm.N =            2.659\n",
    "\n",
    "model.Geom.s5.RelPerm.Alpha =        0.661\n",
    "model.Geom.s5.RelPerm.N =            2.659\n",
    "\n",
    "model.Geom.s6.RelPerm.Alpha =        1.122\n",
    "model.Geom.s6.RelPerm.N =            2.479\n",
    "\n",
    "model.Geom.s7.RelPerm.Alpha =        2.089\n",
    "model.Geom.s7.RelPerm.N =            2.318\n",
    "\n",
    "model.Geom.s8.RelPerm.Alpha =        0.832\n",
    "model.Geom.s8.RelPerm.N =            2.514\n",
    "\n",
    "model.Geom.s9.RelPerm.Alpha =        1.585\n",
    "model.Geom.s9.RelPerm.N =            2.413\n",
    "\n",
    "model.Geom.s10.RelPerm.Alpha =        3.311\n",
    "model.Geom.s10.RelPerm.N =            2.202\n",
    "\n",
    "model.Geom.s11.RelPerm.Alpha =        1.622\n",
    "model.Geom.s11.RelPerm.N =            2.318\n",
    "\n",
    "model.Geom.s12.RelPerm.Alpha =        1.514\n",
    "model.Geom.s12.RelPerm.N =            2.259\n",
    "\n",
    "model.Geom.s13.RelPerm.Alpha =        1.122\n",
    "model.Geom.s13.RelPerm.N =            2.479"
   ]
  },
  {
   "cell_type": "markdown",
   "id": "5e0c41a5-820d-4188-8353-18383543dd6d",
   "metadata": {},
   "source": [
    "#### Saturation\n",
    "Next we do the same thing for saturation (§ 6.1.23) again using the VanGenuchten parameters \n",
    "<br />Note that every geometry listed in Porosity.GeomNames must have values assigned.\n",
    "<br />Unnamed units will get the background domain values assigned"
   ]
  },
  {
   "cell_type": "code",
   "execution_count": 66,
   "id": "9f9fe856-a948-47c7-a839-1cbcecf3003f",
   "metadata": {},
   "outputs": [],
   "source": [
    "model.Phase.Saturation.Type =             \"VanGenuchten\"\n",
    "model.Phase.Saturation.GeomNames =         \"domain s1 s2 s3 s4 s5 s6 s7 s8 s9 s10 s11 s12 s13\"\n",
    "\n",
    "model.Geom.domain.Saturation.Alpha =        1.0\n",
    "model.Geom.domain.Saturation.N =            3.0\n",
    "model.Geom.domain.Saturation.SRes =         0.001\n",
    "model.Geom.domain.Saturation.SSat =         1.0\n",
    "\n",
    "model.Geom.s1.Saturation.Alpha =        3.548\n",
    "model.Geom.s1.Saturation.N =            4.162\n",
    "model.Geom.s1.Saturation.SRes =         0.0001\n",
    "model.Geom.s1.Saturation.SSat =         1.0\n",
    "\n",
    "model.Geom.s2.Saturation.Alpha =        3.467\n",
    "model.Geom.s2.Saturation.N =            2.738\n",
    "model.Geom.s2.Saturation.SRes =         0.0001\n",
    "model.Geom.s2.Saturation.SSat =         1.0\n",
    "\n",
    "model.Geom.s3.Saturation.Alpha =        2.692\n",
    "model.Geom.s3.Saturation.N =            2.445\n",
    "model.Geom.s3.Saturation.SRes =         0.0001\n",
    "model.Geom.s3.Saturation.SSat =         1.0\n",
    "\n",
    "model.Geom.s4.Saturation.Alpha =        0.501\n",
    "model.Geom.s4.Saturation.N =            2.659\n",
    "model.Geom.s4.Saturation.SRes =         0.1\n",
    "model.Geom.s4.Saturation.SSat =         1.0\n",
    "\n",
    "model.Geom.s5.Saturation.Alpha =        0.661\n",
    "model.Geom.s5.Saturation.N =            2.659\n",
    "model.Geom.s5.Saturation.SRes =         0.0001\n",
    "model.Geom.s5.Saturation.SSat =         1.0\n",
    "\n",
    "model.Geom.s6.Saturation.Alpha =        1.122\n",
    "model.Geom.s6.Saturation.N =            2.479\n",
    "model.Geom.s6.Saturation.SRes =         0.0001\n",
    "model.Geom.s6.Saturation.SSat =         1.0\n",
    "\n",
    "model.Geom.s7.Saturation.Alpha =        2.089\n",
    "model.Geom.s7.Saturation.N =            2.318\n",
    "model.Geom.s7.Saturation.SRes =         0.0001\n",
    "model.Geom.s7.Saturation.SSat =         1.0\n",
    "\n",
    "model.Geom.s8.Saturation.Alpha =        0.832\n",
    "model.Geom.s8.Saturation.N =            2.514\n",
    "model.Geom.s8.Saturation.SRes =         0.0001\n",
    "model.Geom.s8.Saturation.SSat =         1.0\n",
    "\n",
    "model.Geom.s9.Saturation.Alpha =        1.585\n",
    "model.Geom.s9.Saturation.N =            2.413\n",
    "model.Geom.s9.Saturation.SRes =         0.0001\n",
    "model.Geom.s9.Saturation.SSat =         1.0\n",
    "\n",
    "model.Geom.s10.Saturation.Alpha =        3.311\n",
    "model.Geom.s10.Saturation.N =            2.202\n",
    "model.Geom.s10.Saturation.SRes =         0.0001\n",
    "model.Geom.s10.Saturation.SSat =         1.0\n",
    "\n",
    "model.Geom.s11.Saturation.Alpha =        1.622\n",
    "model.Geom.s11.Saturation.N =            2.318\n",
    "model.Geom.s11.Saturation.SRes =         0.0001\n",
    "model.Geom.s11.Saturation.SSat =         1.0\n",
    "\n",
    "model.Geom.s12.Saturation.Alpha =        1.514\n",
    "model.Geom.s12.Saturation.N =            2.259\n",
    "model.Geom.s12.Saturation.SRes =         0.0001\n",
    "model.Geom.s12.Saturation.SSat =         1.0\n",
    "\n",
    "model.Geom.s13.Saturation.Alpha =        1.122\n",
    "model.Geom.s13.Saturation.N =            2.479\n",
    "model.Geom.s13.Saturation.SRes =         0.0001\n",
    "model.Geom.s13.Saturation.SSat =         1.0"
   ]
  },
  {
   "cell_type": "markdown",
   "id": "e3319f65-4765-4ef4-9cd9-a2c21cce0c3d",
   "metadata": {},
   "source": [
    "#### Phase sources\n",
    "Phase sources allows you to add sources other than wells and boundaries, but we do not have any so this key is constant, 0.0 over entire domain."
   ]
  },
  {
   "cell_type": "code",
   "execution_count": 67,
   "id": "29337871-266e-4c64-8bde-9d211e58cce0",
   "metadata": {},
   "outputs": [],
   "source": [
    "model.PhaseSources.water.Type = \"Constant\"\n",
    "model.PhaseSources.water.GeomNames = \"domain\"\n",
    "model.PhaseSources.water.Geom.domain.Value = 0.0"
   ]
  },
  {
   "cell_type": "markdown",
   "id": "aecb39a3-1fe9-4440-8ea4-3a3cfdb8a6d1",
   "metadata": {},
   "source": [
    "#### CLM Settings\n",
    "In this example we are using ParFlow CLM so we must provide some parameters for CLM (§ 6.1.36). \n",
    "<br />Note that CLM will also require some additional inputs outside of the tcl script. Refer to /washita/clm_input/ for examples of the CLM vegm and driver files. \n",
    "<br />These inputs are also discussed briefly in § 3.1.2.\n",
    "<br />\n",
    "<br />\n",
    "First we specify that we will be using CLM as the land surface model and provide the name of a directory that outputs will be written to. \n",
    "<br />For this example we do not need outputs for each processor or a binary output directory. \n",
    "<br />Finally we set the dump interval to 1, indicating that we will be writing outputs for every time step. \n",
    "<br />Note that this does not have to match the dump interval for ParFlow outputs. "
   ]
  },
  {
   "cell_type": "code",
   "execution_count": 68,
   "id": "6d68abfd-c15a-4be0-b878-5b2fca5b5a8e",
   "metadata": {},
   "outputs": [
    {
     "name": "stdout",
     "output_type": "stream",
     "text": [
      "Solver: Field BinaryOutDir is not part of the expected schema <class 'parflow.tools.database.generated.Solver'>\n"
     ]
    }
   ],
   "source": [
    "model.Solver.LSM = \"CLM\"\n",
    "model.Solver.CLM.CLMFileDir = \"clm_output/\"\n",
    "model.Solver.CLM.Print1dOut = False\n",
    "model.Solver.BinaryOutDir = False #Solver: Field BinaryOutDir is not part of the expected schema <class 'parflow.tools.database.generated.Solver'>\n",
    "model.Solver.CLM.DailyRST = True\n",
    "model.Solver.CLM.SingleFile = True\n",
    "model.Solver.CLM.CLMDumpInterval = 1"
   ]
  },
  {
   "cell_type": "markdown",
   "id": "68934a84-bcc4-4624-9b49-22f0aa62b902",
   "metadata": {},
   "source": [
    "Next we specify the details of the meteorological forcing files that clm will read. \n",
    "<br />First we provide the name of the files and the directory they can be found in. \n",
    "<br />Next we specify that we are using 3D forcing files meaning that we have spatially distributed forcing with multiple time steps in every file. \n",
    "<br />Therefore we must also specify the number of times steps (MetFileNT) in every file, in this case 24. \n",
    "<br />Finally, we specify the initial value for the CLM counter."
   ]
  },
  {
   "cell_type": "code",
   "execution_count": 69,
   "id": "82d11377-0162-4a0a-bbdf-1a79b15f2acc",
   "metadata": {},
   "outputs": [],
   "source": [
    "model.Solver.CLM.MetFileName = \"NLDAS\"\n",
    "model.Solver.CLM.MetFilePath = \"../NLDAS\"\n",
    "model.Solver.CLM.MetForcing = \"3D\"\n",
    "model.Solver.CLM.MetFileNT = 24\n",
    "model.Solver.CLM.IstepStart = 1"
   ]
  },
  {
   "cell_type": "markdown",
   "id": "8439e5e2-1d28-43ed-b7d6-d4d80bd2041d",
   "metadata": {},
   "source": [
    "This last set of CLM parameters refers to the physical properties of the system. Refer to § 6.1.36 for\n",
    "details."
   ]
  },
  {
   "cell_type": "code",
   "execution_count": 70,
   "id": "a1c819c2-e6d4-4b0a-a3a8-3761ae84cb2f",
   "metadata": {},
   "outputs": [],
   "source": [
    "model.Solver.CLM.EvapBeta = \"Linear\"\n",
    "model.Solver.CLM.VegWaterStress = \"Saturation\"\n",
    "model.Solver.CLM.ResSat = 0.1\n",
    "model.Solver.CLM.WiltingPoint = 0.12\n",
    "model.Solver.CLM.FieldCapacity = 0.98\n",
    "model.Solver.CLM.IrrigationType = \"none\"\n",
    "model.Solver.CLM.RootZoneNZ = 4\n",
    "model.Solver.CLM.SoiLayer = 4"
   ]
  },
  {
   "cell_type": "markdown",
   "id": "1a3e3f30-8ace-4c5c-9a5f-64aa403b5edf",
   "metadata": {},
   "source": [
    "#### Initial conditions: water pressure\n",
    "Next we set the initial conditions for the domain. In this example we are using a pressure .pfb file that was obtained by spinning up the model in the workflow outlined in § 3.1.2. \n",
    "<br />Alternatively, the water table can be set to a constant value by changing the ICPressure.Type and setting a reference patch. \n",
    "<br />Again, the input file that is referenced here was was copied into the run directory at the top of this script."
   ]
  },
  {
   "cell_type": "code",
   "execution_count": 71,
   "id": "6bc01bfd-21a1-4583-91cb-7307a68c89e4",
   "metadata": {},
   "outputs": [],
   "source": [
    "model.ICPressure.Type = \"PFBFile\"\n",
    "model.ICPressure.GeomNames = \"domain\"\n",
    "model.Geom.domain.ICPressure.RefPatch = \"top\"\n",
    "model.Geom.domain.ICPressure.FileName = \"press.init.pfb\"\n",
    "\n",
    "# model.ICPressure.Type = \"HydroStaticPatch\"\n",
    "# model.ICPressure.GeomNames = \"domain\"\n",
    "# model.Geom.domain.ICPressure.Value = -15.0\n",
    "# model.Geom.domain.ICPressure.RefGeom = \"domain\"\n",
    "# model.Geom.domain.ICPressure.RefPatch = \"top\""
   ]
  },
  {
   "cell_type": "markdown",
   "id": "78b5231d-01e3-41ca-829f-16e835423558",
   "metadata": {},
   "source": [
    "#### Outputs - Writing output (all pfb):\n",
    "Now we specify what outputs we would like written. In this example we specify that we would like to write out CLM variables as well as Pressure and Saturation. \n",
    "<br />However, there are many options for this and you should change these options according to what type of analysis you will be performing on your results. \n",
    "<br />A complete list of print options is provided in § 6.1.32."
   ]
  },
  {
   "cell_type": "code",
   "execution_count": 72,
   "id": "cf3b7c91-c6db-43f7-8ac6-846edc44c4d2",
   "metadata": {},
   "outputs": [],
   "source": [
    "model.Solver.PrintSubsurfData = True\n",
    "model.Solver.PrintPressure = True\n",
    "model.Solver.PrintSaturation = False\n",
    "model.Solver.PrintMask = True\n",
    "model.Solver.PrintVelocities = False\n",
    "model.Solver.PrintEvapTrans = False\n",
    "model.Solver.CLM.SingleFile = False\n",
    "\n",
    "model.Solver.WriteCLMBinary = False\n",
    "model.Solver.PrintCLM = True\n",
    "model.Solver.WriteSiloSpecificStorage = False\n",
    "model.Solver.WriteSiloMannings = False\n",
    "#model.Solver.WriteSiloMask = False\n",
    "model.Solver.WriteSiloSlopes = False\n",
    "model.Solver.WriteSiloSubsurfData = False\n",
    "model.Solver.WriteSiloPressure = False\n",
    "model.Solver.WriteSiloSaturation = False\n",
    "model.Solver.WriteSiloEvapTrans = False\n",
    "model.Solver.WriteSiloEvapTransSum = False\n",
    "model.Solver.WriteSiloOverlandSum = False\n",
    "#model.Solver.WriteSiloCLM = False"
   ]
  },
  {
   "cell_type": "markdown",
   "id": "0a1912a9-94a8-437b-b044-065be29c4f66",
   "metadata": {},
   "source": [
    "Exact solution specification for error calculations"
   ]
  },
  {
   "cell_type": "code",
   "execution_count": 73,
   "id": "bf5a8211-648b-4a42-9dbe-eaa319156d91",
   "metadata": {},
   "outputs": [],
   "source": [
    "model.KnownSolution = \"NoKnownSolution\""
   ]
  },
  {
   "cell_type": "markdown",
   "id": "0c9adf8a-dd90-43ae-aaf7-ee572240f133",
   "metadata": {},
   "source": [
    "#### Set solver parameters\n",
    "Next we specify the solver settings for the ParFlow (§ 6.1.34). \n",
    "<br />First we turn on solver Richards and the terrain following grid."
   ]
  },
  {
   "cell_type": "code",
   "execution_count": 74,
   "id": "44103377-0ca2-47a8-a6dd-3d61684c059c",
   "metadata": {},
   "outputs": [],
   "source": [
    "# ParFlow Solution\n",
    "model.Solver = \"Richards\"\n",
    "model.Solver.TerrainFollowingGrid = True\n",
    "#model.Solver.Nonlinear.VariableDz = False"
   ]
  },
  {
   "cell_type": "markdown",
   "id": "d9c9c60e-f97e-4728-8b6a-8d15df14610c",
   "metadata": {},
   "source": [
    "We then set the max solver settings and linear and nonlinear convergence tolerance settings. \n",
    "<br />The linear system will be solved to a norm of 1e−8 and the nonlinear system will be solved to less than 1e−6. \n",
    "<br />Of note in latter key block is the EtaChoice of EtaConstant and that we use the analytical Jacobian (UseJacobian=True). \n",
    "<br />We are also using the PFMG preconditioner."
   ]
  },
  {
   "cell_type": "code",
   "execution_count": 75,
   "id": "31839cda-ef68-4cfc-a669-cf5200194b39",
   "metadata": {},
   "outputs": [],
   "source": [
    "model.Solver.MaxIter = 25000\n",
    "model.Solver.Drop = 1e-20\n",
    "model.Solver.AbsTol = 1e-8\n",
    "model.Solver.MaxConvergenceFailures = 8\n",
    "model.Solver.Nonlinear.MaxIter = 1000\n",
    "model.Solver.Nonlinear.ResidualTol = 1e-6\n",
    "\n",
    "## new solver settings for Terrain Following Grid\n",
    "model.Solver.Nonlinear.EtaChoice =  \"EtaConstant\"\n",
    "model.Solver.Nonlinear.EtaValue = 0.001\n",
    "model.Solver.Nonlinear.UseJacobian = True\n",
    "model.Solver.Nonlinear.DerivativeEpsilon = 1e-16\n",
    "model.Solver.Nonlinear.StepTol = 1e-15\n",
    "model.Solver.Nonlinear.Globalization = \"LineSearch\"\n",
    "model.Solver.Linear.KrylovDimension = 70\n",
    "model.Solver.Linear.MaxRestarts = 2\n",
    "\n",
    "model.Solver.Linear.Preconditioner = \"PFMG\"\n",
    "#model.Solver.Linear.Preconditioner.PCMatrixType = \"FullJacobian\""
   ]
  },
  {
   "cell_type": "markdown",
   "id": "d9c002d2-2e5f-4a96-98e2-3069aa33070e",
   "metadata": {},
   "source": [
    "#### Distribute inputs\n",
    "Next we distribute all the inputs over our domain geometry. \n",
    "<br />Note the slopes are 2D files, so we need to set our NZ to one and then back to 10 for the rest of the ParFlow inputs which are 3D."
   ]
  },
  {
   "cell_type": "code",
   "execution_count": 76,
   "id": "e1fbef16-b142-4c84-8341-17a93655e0b7",
   "metadata": {},
   "outputs": [],
   "source": [
    "model.ComputationalGrid.NZ =1\n",
    "model.dist(\"slopex_LW.pfb\")\n",
    "model.dist(\"slopey_LW.pfb\")\n",
    "#model.dist(\"MANN_PFB\") #if you have a Mannings pfb, it should be distributed over nz = 1\n",
    "\n",
    "model.ComputationalGrid.NZ =10 #the rest of the inputs shoul dbe distributed over 3D space\n",
    "model.dist(\"Indicator_LW_USGS_Bedrock.pfb\")\n",
    "model.dist(\"press.init.pfb\")"
   ]
  },
  {
   "cell_type": "markdown",
   "id": "8f7cbb51-2699-41d8-9519-70efab32d019",
   "metadata": {},
   "source": [
    "#### Run Simulation"
   ]
  },
  {
   "cell_type": "code",
   "execution_count": 77,
   "id": "d7c8fdbe-b5c9-48ff-8abb-a57e39c4cce0",
   "metadata": {},
   "outputs": [
    {
     "name": "stdout",
     "output_type": "stream",
     "text": [
      "\n",
      "# ==============================================================================\n",
      "# ParFlow directory\n",
      "#  - /usr/local\n",
      "# ParFlow version\n",
      "#  - 3.10.0\n",
      "# Working directory\n",
      "#  - /data/LW/outputs\n",
      "# ParFlow database\n",
      "#  - LW_CLM_Ex4.pfidb\n",
      "# ==============================================================================\n",
      "\n",
      "\n",
      "# ==============================================================================\n",
      "# ParFlow ran successfully 💦 💦 💦 \n",
      "# ==============================================================================\n",
      "\n"
     ]
    }
   ],
   "source": [
    "model.write()\n",
    "model.run()"
   ]
  },
  {
   "cell_type": "markdown",
   "id": "e66d23cd-4ec4-4e2e-aae6-14961dbb5c26",
   "metadata": {},
   "source": [
    "#### Undistribute outputs"
   ]
  },
  {
   "cell_type": "code",
   "execution_count": null,
   "id": "209c2c36-f9c1-4e4b-bbfe-39101ae4ba36",
   "metadata": {},
   "outputs": [],
   "source": []
  }
 ],
 "metadata": {
  "kernelspec": {
   "display_name": "Python 3",
   "language": "python",
   "name": "python3"
  },
  "language_info": {
   "codemirror_mode": {
    "name": "ipython",
    "version": 3
   },
   "file_extension": ".py",
   "mimetype": "text/x-python",
   "name": "python",
   "nbconvert_exporter": "python",
   "pygments_lexer": "ipython3",
   "version": "3.6.8"
  }
 },
 "nbformat": 4,
 "nbformat_minor": 5
}
