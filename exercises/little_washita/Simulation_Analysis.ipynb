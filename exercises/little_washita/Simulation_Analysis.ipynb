{
 "cells": [
  {
   "cell_type": "markdown",
   "metadata": {},
   "source": [
    "# Simulation Analysis\n",
    "\n",
    "\n",
    "### 1. Import Packages\n",
    "Here we will be using the reading and writing tools that come with the ParFlow tools package.  "
   ]
  },
  {
   "cell_type": "code",
   "execution_count": 1,
   "metadata": {},
   "outputs": [],
   "source": [
    "import xarray as xr\n",
    "import numpy as np\n",
    "import os\n",
    "from glob import glob\n",
    "import matplotlib.pyplot as plt\n",
    "\n",
    "import parflow as pf\n",
    "from parflow.tools.fs import get_absolute_path\n",
    "from parflow.tools.io import write_pfb, read_pfb\n",
    "from parflow import Run\n",
    "import parflow.tools.hydrology as hydro\n",
    "\n",
    "#setting the directory name that we will read our outputs from\n",
    "run_name = 'LW_CLM'\n",
    "run_dir = get_absolute_path(f'outputs/{run_name}')"
   ]
  },
  {
   "cell_type": "markdown",
   "metadata": {},
   "source": [
    "####  2. Read in the domain properties\n",
    "First we will load the run from the pfidb file and get the properties using the [data_accessor](https://parflow-docs.readthedocs.io/en/latest/tutorials/data_accessor.html?highlight=data_accessor) and by reading out the keys we need from the model object. \n"
   ]
  },
  {
   "cell_type": "code",
   "execution_count": 2,
   "metadata": {},
   "outputs": [
    {
     "name": "stdout",
     "output_type": "stream",
     "text": [
      "Solver: Field BinaryOutDir is not part of the expected schema <class 'parflow.tools.database.generated.Solver'>\n",
      "Warning: The following CLM variables could not be set:\n",
      "  - nc\n",
      "  - nr\n",
      "  - nt\n",
      "  - sw_ini\n",
      "  - qflx_tran_vegm\n",
      "  - scalez\n",
      "  - hkdepth\n",
      "  - wtfact\n",
      "  - trsmx0\n",
      "  - smpmax\n",
      "  - pondmx\n",
      "  - sdep\n",
      "  - manning\n",
      "  - rout\n",
      "  - cout\n",
      "  - sovout\n"
     ]
    }
   ],
   "source": [
    "run = Run.from_definition(f'{run_dir}/{run_name}.pfidb')\n",
    "data = run.data_accessor\n",
    "nt = len(data.times)\n",
    "nx = data.shape[2]\n",
    "ny = data.shape[1]\n",
    "nz = data.shape[0]\n",
    "dx = data.dx\n",
    "dy = data.dy\n",
    "dz = data.dz\n",
    "\n",
    "porosity = data.computed_porosity \n",
    "specific_storage = data.specific_storage \n",
    "mannings = run.Mannings.Geom.domain.Value\n",
    "slopex = data.slope_x \n",
    "slopey = data.slope_y \n",
    "mask = data.mask\n",
    "\n",
    "# formatting the mask so that values outside the domain are NA and inside the domain are 1\n",
    "nanmask=mask.copy()\n",
    "nanmask[nanmask == 0] = 'NaN'\n",
    "nanmask[nanmask > 0] = 1"
   ]
  },
  {
   "cell_type": "markdown",
   "metadata": {},
   "source": [
    "#### 4. Read the simulation output files\n"
   ]
  },
  {
   "cell_type": "code",
   "execution_count": 3,
   "metadata": {},
   "outputs": [],
   "source": [
    "#list all pressure files from outputs\n",
    "lw_press_files = glob(f'{run_dir}/*out.press*.pfb')\n",
    "#read in all pressure files into a 3D NParray\n",
    "pressure_arrays = pf.read_pfb_sequence(lw_press_files) * nanmask\n",
    "\n",
    "#list all saturation files from outputs\n",
    "lw_satur_files = glob(f'{run_dir}/*out.satur*.pfb')\n",
    "#read in all pressure files into a 3D NParray\n",
    "saturation_arrays = pf.read_pfb_sequence(lw_satur_files) * nanmask"
   ]
  },
  {
   "cell_type": "markdown",
   "metadata": {},
   "source": [
    "#### 5. Calculate water balance\n",
    "We will be using the hydrology tools to calculate the water balance. You can find more information on that [here](https://parflow-docs.readthedocs.io/en/latest/tutorials/hydrology.html) "
   ]
  },
  {
   "cell_type": "code",
   "execution_count": 7,
   "metadata": {},
   "outputs": [],
   "source": [
    "subsurface_storage = np.zeros(nt)\n",
    "surface_storage = np.zeros(nt)\n",
    "wtd = np.zeros((nt, ny, nx))\n",
    "et = np.zeros(nt)\n",
    "overland_flow = np.zeros((nt, ny, nx))\n",
    "data.time = 0\n",
    "\n",
    "for i, (pressure, saturation) in enumerate(zip(pressure_arrays, saturation_arrays)):\n",
    "    subsurface_storage[i, ...] = np.sum(hydro.calculate_subsurface_storage(porosity, pressure, saturation, specific_storage, dx, dy, dz, mask = nanmask),axis=(0, 1, 2))\n",
    "    # total surface storage for this time step is the summation of substorage surface across all x/y slices\n",
    "    surface_storage[i, ...] = np.sum( hydro.calculate_surface_storage(pressure, dx, dy, mask = nanmask),axis=(0, 1))\n",
    "    wtd[i, ...] = hydro.calculate_water_table_depth(pressure, saturation, dz)\n",
    "    \n",
    "    data.time = i\n",
    "    if i != 0:\n",
    "        if data.et is not None:\n",
    "            # total ET for this time step is the summation of ET values across all x/y/z slices\n",
    "            et[i, ...] = np.sum(hydro.calculate_evapotranspiration(data.et, dx, dy, dz, mask = nanmask),axis=(0, 1, 2))\n",
    "\n",
    " \n",
    "    overland_flow[i, ...] = hydro.calculate_overland_flow_grid(pressure, slopex, slopey, mannings, dx, dy, mask = nanmask)"
   ]
  },
  {
   "cell_type": "markdown",
   "metadata": {},
   "source": [
    "### plotting components of water balance"
   ]
  },
  {
   "cell_type": "code",
   "execution_count": 8,
   "metadata": {},
   "outputs": [
    {
     "data": {
      "image/png": "[encoded data removed]",
      "text/plain": [
       "<Figure size 432x288 with 3 Axes>"
      ]
     },
     "metadata": {
      "needs_background": "light"
     },
     "output_type": "display_data"
    }
   ],
   "source": [
    "#plotting components of water balance\n",
    "fig, axs = plt.subplots(3, sharex=True)\n",
    "fig.suptitle('Little Washita Water Balance')\n",
    "axs[0].plot(subsurface_storage, linewidth=3, color = \"green\")\n",
    "axs[0].set_title(\"Subsurface Storage\")\n",
    "axs[1].plot(surface_storage, linewidth=3, color = \"blue\")\n",
    "axs[1].set_title(\"Surface Storage\")\n",
    "axs[2].plot(et, linewidth=3, color = \"orange\")\n",
    "axs[2].set_title(\"ET\")\n",
    "plt.xlabel('Simulated Hours')\n",
    "plt.subplots_adjust(left=0.1,\n",
    "                    bottom=0.1, \n",
    "                    right=0.9, \n",
    "                    top=0.85, \n",
    "                    wspace=0.7, \n",
    "                    hspace=1.0)\n",
    "axs[1].ticklabel_format(axis='y', style='sci', scilimits=(0,0))"
   ]
  },
  {
   "cell_type": "code",
   "execution_count": null,
   "metadata": {},
   "outputs": [],
   "source": []
  }
 ],
 "metadata": {
  "interpreter": {
   "hash": "b1e707c01f6506eeeb3c69becd0279e5d2bd2664336b84f58769d22b8d2eb244"
  },
  "kernelspec": {
   "display_name": "Python 3",
   "language": "python",
   "name": "python3"
  },
  "language_info": {
   "codemirror_mode": {
    "name": "ipython",
    "version": 3
   },
   "file_extension": ".py",
   "mimetype": "text/x-python",
   "name": "python",
   "nbconvert_exporter": "python",
   "pygments_lexer": "ipython3",
   "version": "3.6.8"
  }
 },
 "nbformat": 4,
 "nbformat_minor": 4
}
