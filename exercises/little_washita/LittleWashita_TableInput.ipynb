{
 "cells": [
  {
   "cell_type": "markdown",
   "id": "d83ae938-1c52-479f-80cc-dcbc779ef166",
   "metadata": {
    "tags": []
   },
   "source": [
    "# Little Washita ParFlow-CLM with subsurface properties table \n",
    "This script is running exactle the same simulation as the [Little Washita Annoated ParFlow-CLM simulation script](https://github.com/hydroframe/parflow_python_shortcourse/blob/main/exercises/little_washita/LittleWashita_ParFlowCLM_AnnotatedExample%20copy.ipynb). The only difference here is that we are illustrating how to read in the subsurface properties from a table.  For more thorough annotations refer to the annoated input script. \n",
    "\n",
    "\n",
    "**Requriements** \n",
    "Before you can run this workbook you will need to make sure that you have parflow and pftools installed. Refer to the main readme of this repo for instructions on getting your modeling environment setup. if you haven't do so already.\n",
    "\n",
    "**Simulation Inputs**\n",
    "1. Solid file: used to define the shape of the domain \n",
    "2. Indicator file: used to define where the different geologic units are in the grid\n",
    "3. Slope files: slope x and slope y files define the topographic slopes of each grid cell in the x and y directions\n",
    "4. Initial pressure:  a pressure file created from a spinup run of the model (refer to other Little Washita exercises for spinup)"
   ]
  },
  {
   "cell_type": "markdown",
   "id": "86e82b0d-9959-4722-850f-8450d7b71d39",
   "metadata": {},
   "source": [
    "### 1. Import required libraries and functions \n",
    "This is the same as previous codes with one addition: now we are importing the `SubsurfacePropertiesBuilder` which will allow us to set our subsurface parameters from a csv table that we read in rather than within the python script. "
   ]
  },
  {
   "cell_type": "code",
   "execution_count": 1,
   "id": "f0754238-fc6d-43e5-9f18-de1b8b97325f",
   "metadata": {},
   "outputs": [],
   "source": [
    "import os\n",
    "import numpy as np\n",
    "from parflow import Run \n",
    "import shutil\n",
    "from parflow.tools.fs import mkdir, cp, get_absolute_path, exists\n",
    "from parflow.tools.settings import set_working_directory\n",
    "from parflow.tools.builders import SubsurfacePropertiesBuilder"
   ]
  },
  {
   "cell_type": "markdown",
   "id": "a85ca856-a2fa-48b0-8923-24517b40f981",
   "metadata": {
    "tags": []
   },
   "source": [
    "## 2. Setup your run directory and initialize your model object"
   ]
  },
  {
   "cell_type": "code",
   "execution_count": 2,
   "id": "c8ce6c81-f3b7-4ed3-8336-afc2e2549a8f",
   "metadata": {},
   "outputs": [
    {
     "name": "stdout",
     "output_type": "stream",
     "text": [
      "/data/exercises/little_washita/outputs/LW_CLM_withTable\n"
     ]
    }
   ],
   "source": [
    "# Name your ParFLow run -- note that all of your output files will have this prefix\n",
    "runname = 'LW_CLM_withTable'\n",
    "\n",
    "# Create a directory in the outputs folder for this run\n",
    "run_dir = get_absolute_path(f'outputs/{runname}')\n",
    "mkdir(run_dir)\n",
    "print(run_dir)\n",
    "\n",
    "# create your Parflow model object. For starters we are just goin to set the file version and the run directory we'll add more later\n",
    "# note that the model will run from the run_dir so all input files should be in the run dir or paths should be specified relative to run_dir\n",
    "model = Run(runname, run_dir)\n",
    "model.FileVersion = 4\n",
    "\n",
    "#copy the model inputs for the simulation into the run directory\n",
    "#NOTE: you dont have to copy everything into the run directory if you don't want, you can also point to input files in other directories in a simulation if you prefer\n",
    "input_dir= os.path.join(os.getcwd(), 'model_inputs')\n",
    "files=os.listdir(input_dir)\n",
    "for fname in files:\n",
    "    shutil.copy(os.path.join(input_dir,fname), run_dir)"
   ]
  },
  {
   "cell_type": "markdown",
   "id": "84dc1cf7-242d-4a76-9d1d-d1825c6b4096",
   "metadata": {
    "tags": []
   },
   "source": [
    "## 3. Setup the computational grid\n",
    "\n",
    "### 3.1 processor toppology and computational grid"
   ]
  },
  {
   "cell_type": "code",
   "execution_count": 3,
   "id": "f39fd2c8-2220-4b8c-9522-89256acfc85b",
   "metadata": {},
   "outputs": [],
   "source": [
    "# Processor topology: This is the way that the problem will be split across processors if you want to run in parallel\n",
    "# The domain is divided in x,y and z dimensions by P, Q and R. The total number of processors is P*Q*R.\n",
    "model.Process.Topology.P = 1\n",
    "model.Process.Topology.Q = 1\n",
    "model.Process.Topology.R = 1\n",
    "\n",
    "#Locate the origin in the domain.\n",
    "model.ComputationalGrid.Lower.X = 0.0\n",
    "model.ComputationalGrid.Lower.Y = 0.0\n",
    "model.ComputationalGrid.Lower.Z = 0.0\n",
    "\n",
    "# Define the size of each grid cell. The length units are the same as those on hydraulic conductivity, here that is meters.\n",
    "model.ComputationalGrid.DX = 1000.0\n",
    "model.ComputationalGrid.DY = 1000.0\n",
    "model.ComputationalGrid.DZ = 200.0\n",
    "\n",
    "# Define the number of grid blocks in the domain.\n",
    "model.ComputationalGrid.NX = 64\n",
    "model.ComputationalGrid.NY = 32\n",
    "model.ComputationalGrid.NZ = 10"
   ]
  },
  {
   "cell_type": "markdown",
   "id": "89d20ce8-fb7d-485c-9f37-3e33a34799df",
   "metadata": {},
   "source": [
    "### 3.2 Geometries"
   ]
  },
  {
   "cell_type": "code",
   "execution_count": 4,
   "id": "25504f97-c613-4751-9e26-21f4e6181ff2",
   "metadata": {},
   "outputs": [],
   "source": [
    "#Declare the geometries that you will use for the problem\n",
    "model.GeomInput.Names = \"solid_input indi_input\"\n",
    "\n",
    "#Define the solid_input geometry.  \n",
    "#Note the naming convention here GeomInput.{GeomName}.key\n",
    "model.GeomInput.solid_input.InputType = \"SolidFile\"\n",
    "model.GeomInput.solid_input.GeomNames = \"domain\"\n",
    "model.GeomInput.solid_input.FileName = \"LW.pfsol\"\n",
    "\n",
    "#First set the name for your `Domain` and setup the patches for this domain\n",
    "model.Domain.GeomName = \"domain\"\n",
    "model.Geom.domain.Patches = \"top bottom side\"\n",
    "\n",
    "#Indicator file geometry\n",
    "model.GeomInput.indi_input.InputType =   \"IndicatorField\"\n",
    "model.GeomInput.indi_input.GeomNames = \"s1 s2 s3 s4 s5 s6 s7 s8 s9 s10 s11 s12 s13 g1 g2 g3 g4 g5 g6 g7 g8 g9 g10\"\n",
    "model.Geom.indi_input.FileName = \"Indicator_LW_USGS_Bedrock.pfb\"\n",
    "\n",
    "model.GeomInput.s1.Value =    1\n",
    "model.GeomInput.s2.Value =    2\n",
    "model.GeomInput.s3.Value =    3\n",
    "model.GeomInput.s4.Value =    4\n",
    "model.GeomInput.s5.Value =    5\n",
    "model.GeomInput.s6.Value =    6\n",
    "model.GeomInput.s7.Value =    7\n",
    "model.GeomInput.s8.Value =    8\n",
    "model.GeomInput.s9.Value =    9\n",
    "model.GeomInput.s10.Value =   10\n",
    "model.GeomInput.s11.Value =   11\n",
    "model.GeomInput.s12.Value =   12\n",
    "model.GeomInput.s13.Value =   13\n",
    "\n",
    "model.GeomInput.g1.Value =    19\n",
    "model.GeomInput.g2.Value =    20\n",
    "model.GeomInput.g3.Value =    21\n",
    "model.GeomInput.g4.Value =    22\n",
    "model.GeomInput.g5.Value =    23\n",
    "model.GeomInput.g6.Value =    24\n",
    "model.GeomInput.g7.Value =    25\n",
    "model.GeomInput.g8.Value =    26\n",
    "model.GeomInput.g9.Value =    27\n",
    "model.GeomInput.g10.Value =    28"
   ]
  },
  {
   "cell_type": "markdown",
   "id": "7956e350-e316-402e-8c1f-9ff6a6358280",
   "metadata": {},
   "source": [
    "### 3.3 Variable ${\\Delta z}$ "
   ]
  },
  {
   "cell_type": "code",
   "execution_count": 5,
   "id": "de40ec18-e53e-4437-8263-eb8ae490233a",
   "metadata": {},
   "outputs": [],
   "source": [
    "model.Solver.Nonlinear.VariableDz = True\n",
    "model.dzScale.GeomNames = \"domain\"\n",
    "model.dzScale.Type = \"nzList\"\n",
    "model.dzScale.nzListNumber = 10\n",
    "\n",
    "model.Cell._0.dzScale.Value = 5\n",
    "model.Cell._1.dzScale.Value = 0.5\n",
    "model.Cell._2.dzScale.Value = 0.25\n",
    "model.Cell._3.dzScale.Value = 0.125\n",
    "model.Cell._4.dzScale.Value = 0.05\n",
    "model.Cell._5.dzScale.Value = 0.025\n",
    "model.Cell._6.dzScale.Value = 0.005\n",
    "model.Cell._7.dzScale.Value = 0.003\n",
    "model.Cell._8.dzScale.Value = 0.0015\n",
    "model.Cell._9.dzScale.Value = 0.0005"
   ]
  },
  {
   "cell_type": "markdown",
   "id": "557bf4be-eda5-4155-b67a-50aa897b7568",
   "metadata": {},
   "source": [
    "### 3.4 Topographic slopes "
   ]
  },
  {
   "cell_type": "code",
   "execution_count": 6,
   "id": "95b46b9e-835a-4b0e-8555-8e4d38c99e33",
   "metadata": {},
   "outputs": [],
   "source": [
    "model.TopoSlopesX.Type = \"PFBFile\"\n",
    "model.TopoSlopesX.GeomNames = \"domain\"\n",
    "model.TopoSlopesX.FileName = \"slopex_LW.pfb\"\n",
    "\n",
    "model.TopoSlopesY.Type = \"PFBFile\"\n",
    "model.TopoSlopesY.GeomNames = \"domain\"\n",
    "model.TopoSlopesY.FileName = \"slopey_LW.pfb\""
   ]
  },
  {
   "cell_type": "markdown",
   "id": "3423c545-1793-4c97-a4e0-feffb684e6fb",
   "metadata": {},
   "source": [
    "## 4. Setup the surface and subsurface properties \n",
    "\n",
    "### 4.1 Setting parameters using a csv table\n",
    "Table readers can assign attribute data in a table format to parflow keys in python. Here we employ the table reader to assign our subsurface properties. Using this table will create the same keys in our ParFlow database as when we set them explicitly, but it is being done behind the scenes.  The `geom_table.csv` file we are using for this example has columns for: `permeability`, `porosity`,`relative permeability` and `saturation` properties.  \n",
    "\n",
    "NOTE 1: The column headers in the input csv are case sensitive and  the key names must be the same as the GeomNames created above. \n",
    "\n",
    "NOTE 2: Its okay if you don't have values for every geometry for every variable (i.e. if some elements in your csv are blank). For anything you want to leave blank you need to have a `-` in that cell of the table as shown in this example. "
   ]
  },
  {
   "cell_type": "code",
   "execution_count": 7,
   "id": "3e0f8afb-cb47-411d-8bf5-b8dcf463a91a",
   "metadata": {},
   "outputs": [
    {
     "data": {
      "text/plain": [
       "<parflow.tools.builders.SubsurfacePropertiesBuilder at 0x4061434550>"
      ]
     },
     "execution_count": 7,
     "metadata": {},
     "output_type": "execute_result"
    }
   ],
   "source": [
    "geom_csv = os.path.join(run_dir, 'geom_table.csv')\n",
    "geom_builder = SubsurfacePropertiesBuilder(model).load_csv_file(geom_csv)\n",
    "geom_builder.apply(name_registration=True)"
   ]
  },
  {
   "cell_type": "markdown",
   "id": "619766e6-c918-4b15-b8cc-01d55c8d8a83",
   "metadata": {},
   "source": [
    "### 4.2 Setting the remaining parameters not set in the table"
   ]
  },
  {
   "cell_type": "code",
   "execution_count": 8,
   "id": "c027801b-3d20-471c-b7f1-ba3972e72461",
   "metadata": {},
   "outputs": [],
   "source": [
    "# Permeability tensor\n",
    "model.Perm.TensorType = \"TensorByGeom\"\n",
    "model.Geom.Perm.TensorByGeom.Names = \"domain\"\n",
    "model.Geom.domain.Perm.TensorValX = 1.0\n",
    "model.Geom.domain.Perm.TensorValY = 1.0\n",
    "model.Geom.domain.Perm.TensorValZ = 1.0\n",
    "\n",
    "# Speicific storage\n",
    "model.SpecificStorage.Type = \"Constant\"\n",
    "model.SpecificStorage.GeomNames = \"domain\"\n",
    "model.Geom.domain.SpecificStorage.Value = 0.0001\n",
    "\n",
    "#Manning's coefficient\n",
    "model.Mannings.Type = \"Constant\"\n",
    "model.Mannings.GeomNames = \"domain\"\n",
    "model.Mannings.Geom.domain.Value = 0.0000044"
   ]
  },
  {
   "cell_type": "markdown",
   "id": "f65db868-d054-461b-aee5-c1f7794af89f",
   "metadata": {},
   "source": [
    "## 5. Phases contaminants, gravity and wells"
   ]
  },
  {
   "cell_type": "code",
   "execution_count": 9,
   "id": "20dd45e6-6f8d-4b7f-8169-f50e8faf061c",
   "metadata": {},
   "outputs": [],
   "source": [
    "# Phases\n",
    "model.Phase.Names = \"water\"\n",
    "model.Phase.water.Density.Type = \"Constant\"\n",
    "model.Phase.water.Density.Value = 1.0\n",
    "model.Phase.water.Viscosity.Type = \"Constant\"\n",
    "model.Phase.water.Viscosity.Value = 1.0\n",
    "model.Phase.water.Mobility.Type = \"Constant\"\n",
    "model.Phase.water.Mobility.Value = 1.0\n",
    "\n",
    "# Contaminants\n",
    "model.Contaminants.Names = \"\"\n",
    "\n",
    "# Gravity\n",
    "model.Gravity = 1.0\n",
    "\n",
    "#Wells\n",
    "model.Wells.Names = \"\"\n",
    "\n",
    "# Phase Sources\n",
    "model.PhaseSources.water.Type = \"Constant\"\n",
    "model.PhaseSources.water.GeomNames = \"domain\"\n",
    "model.PhaseSources.water.Geom.domain.Value = 0.0"
   ]
  },
  {
   "cell_type": "markdown",
   "id": "61d7a32f-485f-4189-a3f4-6202848702b7",
   "metadata": {},
   "source": [
    "## 6. Timing"
   ]
  },
  {
   "cell_type": "code",
   "execution_count": 10,
   "id": "27a7cee8-552b-4d0a-b8ed-a6f37fedeaca",
   "metadata": {},
   "outputs": [],
   "source": [
    "model.TimingInfo.BaseUnit = 1.0\n",
    "model.TimingInfo.StartCount = 0\n",
    "model.TimingInfo.StartTime = 0\n",
    "model.TimingInfo.StopTime = 72.0\n",
    "model.TimingInfo.DumpInterval = 1.0\n",
    "model.TimeStep.Type = \"Constant\"\n",
    "model.TimeStep.Value = 1.0\n",
    "\n",
    "#Time cycles\n",
    "model.Cycle.Names =\"constant\"\n",
    "model.Cycle.constant.Names = \"alltime\"\n",
    "model.Cycle.constant.alltime.Length = 1\n",
    "model.Cycle.constant.Repeat = -1\n",
    "\n",
    "# An alternate approach defining rainfall and recession time periods are defined here\n",
    "# rain for 1 hour, recession for 2 hours\n",
    "# model.Cycle.Names =\"constant rainrec\"\n",
    "# model.Cycle.rainrec.Names = \"rain rec\"\n",
    "# model.Cycle.rainrec.rain.Length = 1\n",
    "# model.Cycle.rainrec.rec.Length = 5000000\n",
    "# model.Cycle.rainrec.Repeat = -1"
   ]
  },
  {
   "cell_type": "markdown",
   "id": "16dc8ec8-b40d-474b-9ca6-0bdf472511f2",
   "metadata": {},
   "source": [
    "## 7. Boundary and intial conditions\n",
    "\n",
    "### 7.1 Boundary conditions"
   ]
  },
  {
   "cell_type": "code",
   "execution_count": 11,
   "id": "e4521562-775c-48a8-bc29-137cdae6d5bd",
   "metadata": {},
   "outputs": [],
   "source": [
    "model.BCPressure.PatchNames = \"top bottom side\"\n",
    "\n",
    "model.Patch.bottom.BCPressure.Type = \"FluxConst\"\n",
    "model.Patch.bottom.BCPressure.Cycle = \"constant\"\n",
    "model.Patch.bottom.BCPressure.alltime.Value = 0.0\n",
    "\n",
    "model.Patch.side.BCPressure.Type = \"FluxConst\"\n",
    "model.Patch.side.BCPressure.Cycle = \"constant\"\n",
    "model.Patch.side.BCPressure.alltime.Value = 0.0\n",
    "\n",
    "model.Patch.top.BCPressure.Type = \"OverlandKinematic\"\n",
    "model.Patch.top.BCPressure.Cycle = \"constant\"\n",
    "model.Patch.top.BCPressure.alltime.Value = 0.0"
   ]
  },
  {
   "cell_type": "markdown",
   "id": "1a3e3f30-8ace-4c5c-9a5f-64aa403b5edf",
   "metadata": {},
   "source": [
    "### 7.2 Initial conditions: water pressure"
   ]
  },
  {
   "cell_type": "code",
   "execution_count": 12,
   "id": "6bc01bfd-21a1-4583-91cb-7307a68c89e4",
   "metadata": {},
   "outputs": [],
   "source": [
    "model.ICPressure.Type = \"PFBFile\"\n",
    "model.ICPressure.GeomNames = \"domain\"\n",
    "model.Geom.domain.ICPressure.RefPatch = \"top\"\n",
    "model.Geom.domain.ICPressure.FileName = \"press.init.pfb\""
   ]
  },
  {
   "cell_type": "markdown",
   "id": "aecb39a3-1fe9-4440-8ea4-3a3cfdb8a6d1",
   "metadata": {},
   "source": [
    "## 8. CLM Settings"
   ]
  },
  {
   "cell_type": "code",
   "execution_count": 13,
   "id": "6d68abfd-c15a-4be0-b878-5b2fca5b5a8e",
   "metadata": {},
   "outputs": [
    {
     "name": "stdout",
     "output_type": "stream",
     "text": [
      "Solver: Field BinaryOutDir is not part of the expected schema <class 'parflow.tools.database.generated.Solver'>\n"
     ]
    }
   ],
   "source": [
    "model.Solver.LSM = \"CLM\"\n",
    "\n",
    "# outputs\n",
    "model.Solver.CLM.CLMFileDir = \"clm_output/\"\n",
    "model.Solver.CLM.Print1dOut = False\n",
    "model.Solver.BinaryOutDir = False #Solver: Field BinaryOutDir is not part of the expected schema <class 'parflow.tools.database.generated.Solver'>\n",
    "model.Solver.CLM.DailyRST = True\n",
    "model.Solver.CLM.CLMDumpInterval = 1\n",
    "\n",
    "# forcing files\n",
    "model.Solver.CLM.MetFileName = \"NLDAS\"\n",
    "model.Solver.CLM.MetFilePath = \"../../NLDAS\"\n",
    "model.Solver.CLM.MetForcing = \"3D\"\n",
    "model.Solver.CLM.MetFileNT = 24\n",
    "model.Solver.CLM.IstepStart = 1\n",
    "\n",
    "# physical properties\n",
    "model.Solver.CLM.EvapBeta = \"Linear\"\n",
    "model.Solver.CLM.VegWaterStress = \"Saturation\"\n",
    "model.Solver.CLM.ResSat = 0.1\n",
    "model.Solver.CLM.WiltingPoint = 0.12\n",
    "model.Solver.CLM.FieldCapacity = 0.98\n",
    "model.Solver.CLM.IrrigationType = \"none\"\n",
    "model.Solver.CLM.RootZoneNZ = 4\n",
    "model.Solver.CLM.SoiLayer = 4\n"
   ]
  },
  {
   "cell_type": "markdown",
   "id": "78b5231d-01e3-41ca-829f-16e835423558",
   "metadata": {},
   "source": [
    "## 9. Solver Options\n",
    "\n",
    "### 9.1 Output control"
   ]
  },
  {
   "cell_type": "code",
   "execution_count": 14,
   "id": "cf3b7c91-c6db-43f7-8ac6-846edc44c4d2",
   "metadata": {},
   "outputs": [],
   "source": [
    "model.Solver.PrintSubsurfData = True\n",
    "model.Solver.PrintPressure = True\n",
    "model.Solver.PrintSaturation = False\n",
    "model.Solver.PrintMask = True\n",
    "model.Solver.PrintVelocities = False\n",
    "model.Solver.PrintEvapTrans = False\n",
    "model.Solver.CLM.SingleFile = True\n",
    "\n",
    "model.Solver.WriteCLMBinary = False\n",
    "model.Solver.PrintCLM = True"
   ]
  },
  {
   "cell_type": "markdown",
   "id": "0c9adf8a-dd90-43ae-aaf7-ee572240f133",
   "metadata": {},
   "source": [
    "### 9.2 Solver settings"
   ]
  },
  {
   "cell_type": "code",
   "execution_count": 15,
   "id": "44103377-0ca2-47a8-a6dd-3d61684c059c",
   "metadata": {},
   "outputs": [],
   "source": [
    "# Solver types\n",
    "model.Solver = \"Richards\"\n",
    "model.Solver.TerrainFollowingGrid = True\n",
    "model.Solver.Linear.Preconditioner = \"PFMG\"\n",
    "#model.Solver.Linear.Preconditioner.PCMatrixType = \"FullJacobian\"\n",
    "\n",
    "# Exact solution\n",
    "model.KnownSolution = \"NoKnownSolution\"\n",
    "\n",
    "# Solver settings\n",
    "model.Solver.MaxIter = 25000\n",
    "model.Solver.Drop = 1e-20\n",
    "model.Solver.AbsTol = 1e-8\n",
    "model.Solver.MaxConvergenceFailures = 8\n",
    "model.Solver.Nonlinear.MaxIter = 1000\n",
    "model.Solver.Nonlinear.ResidualTol = 1e-6\n",
    "model.Solver.Nonlinear.EtaChoice =  \"EtaConstant\"\n",
    "model.Solver.Nonlinear.EtaValue = 0.001\n",
    "model.Solver.Nonlinear.UseJacobian = True\n",
    "model.Solver.Nonlinear.DerivativeEpsilon = 1e-16\n",
    "model.Solver.Nonlinear.StepTol = 1e-15\n",
    "model.Solver.Nonlinear.Globalization = \"LineSearch\"\n",
    "model.Solver.Linear.KrylovDimension = 70\n",
    "model.Solver.Linear.MaxRestarts = 2\n"
   ]
  },
  {
   "cell_type": "markdown",
   "id": "d9c002d2-2e5f-4a96-98e2-3069aa33070e",
   "metadata": {},
   "source": [
    "## 10.  Distribute files, write the model and run the simulation"
   ]
  },
  {
   "cell_type": "code",
   "execution_count": null,
   "id": "e1fbef16-b142-4c84-8341-17a93655e0b7",
   "metadata": {},
   "outputs": [
    {
     "name": "stdout",
     "output_type": "stream",
     "text": [
      "\n",
      "# ==============================================================================\n",
      "# ParFlow directory\n",
      "#  - /usr/local\n",
      "# ParFlow version\n",
      "#  - 3.10.0\n",
      "# Working directory\n",
      "#  - /data/exercises/little_washita/outputs/LW_CLM_withTable\n",
      "# ParFlow database\n",
      "#  - LW_CLM_withTable.pfidb\n",
      "# ==============================================================================\n",
      "\n",
      "\n"
     ]
    }
   ],
   "source": [
    "# Distribute input files\n",
    "# slope files are 2D (i.e. they only have one layer) so you need to set NZ to 1 before you distribute them\n",
    "# Make sure to set it back to your actual NZ before distributing 3D files or running your model\n",
    "model.ComputationalGrid.NZ =1\n",
    "model.dist(\"slopex_LW.pfb\")\n",
    "model.dist(\"slopey_LW.pfb\")\n",
    "\n",
    "model.ComputationalGrid.NZ = 10 #the rest of the inputs shoul dbe distributed over 3D space\n",
    "model.dist(\"Indicator_LW_USGS_Bedrock.pfb\")\n",
    "model.dist(\"press.init.pfb\")\n",
    "\n",
    "# write\n",
    "model.write()\n",
    "model.write(file_format='yaml')\n",
    "model.write(file_format='json')\n",
    "\n",
    "#run\n",
    "model.run()"
   ]
  }
 ],
 "metadata": {
  "kernelspec": {
   "display_name": "Python 3",
   "language": "python",
   "name": "python3"
  },
  "language_info": {
   "codemirror_mode": {
    "name": "ipython",
    "version": 3
   },
   "file_extension": ".py",
   "mimetype": "text/x-python",
   "name": "python",
   "nbconvert_exporter": "python",
   "pygments_lexer": "ipython3",
   "version": "3.6.8"
  }
 },
 "nbformat": 4,
 "nbformat_minor": 5
}
