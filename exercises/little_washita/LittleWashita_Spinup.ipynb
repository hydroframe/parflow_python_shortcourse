{
 "cells": [
  {
   "cell_type": "markdown",
   "id": "d83ae938-1c52-479f-80cc-dcbc779ef166",
   "metadata": {
    "tags": []
   },
   "source": [
    "# Little Washita Spinup Example\n",
    "This workbook illustrates how to spinup a watershed model. Spinup is the process of getting to a stable groundwater configuration in your model.  \n",
    "\n",
    "There is no single best practice for spinup, results and approaches will vary depending on your domain and the questions you want to answer with your model. The goal is to have a domain that is stable (metrics for this may also vary) and solving nicely before you start making runs to answer questions\n",
    "\n",
    "Groundwater is the slowest moving part so its often easiest to start with a simplified system and get a stable water table before adding in land surface processes. \n",
    "\n",
    "In this example we will apply a constant flux at the top of the model tha represents the long term recharge for our basin. We will run for a very long period of time, first with surface water turned off to make the problem easier to solve and then with surface water turned on.  We will use growth time steps so that we can take small steps at first when our problem is harder to solve and take progressively larger time steps as the model converges and gets easier to solve. \n",
    "\n",
    "We provide comments here on the steps that are unique to a spinup simulation. For a more thoroughly documented script refer to the [Little Washita Annoated ParFlow-CLM simulation script](https://github.com/hydroframe/parflow_python_shortcourse/blob/main/exercises/little_washita/LittleWashita_ParFlowCLM_AnnotatedExample%20copy.ipynb). \n",
    "\n",
    "For additional resources on ParFlow Keys and input scripts refer to the [ParFlow Manual](https://parflow-docs.readthedocs.io/en/latest/keys.html#)\n",
    "\n",
    "**Requriements** \n",
    "Before you can run this workbook you will need to make sure that you have parflow and pftools installed. Refer to the main readme of this repo for instructions on getting your modeling environment setup. if you haven't do so already.\n",
    "\n",
    "**Simulation Inputs**\n",
    "All input files can be found in the `model_inputs` folder. Here we will be using:\n",
    "1. Solid file: used to define the shape of the domain \n",
    "2. Indicator file: used to define where the different geologic units are in the grid\n",
    "3. Slope files: slope x and slope y files define the topographic slopes of each grid cell in the x and y directions"
   ]
  },
  {
   "cell_type": "markdown",
   "id": "86e82b0d-9959-4722-850f-8450d7b71d39",
   "metadata": {},
   "source": [
    "### 1. Import required libraries and functions "
   ]
  },
  {
   "cell_type": "code",
   "execution_count": 1,
   "id": "f0754238-fc6d-43e5-9f18-de1b8b97325f",
   "metadata": {},
   "outputs": [],
   "source": [
    "import os\n",
    "import numpy as np\n",
    "from parflow import Run \n",
    "import shutil\n",
    "from parflow.tools.fs import mkdir, cp, get_absolute_path, exists\n",
    "from parflow.tools.settings import set_working_directory"
   ]
  },
  {
   "cell_type": "markdown",
   "id": "a85ca856-a2fa-48b0-8923-24517b40f981",
   "metadata": {
    "tags": []
   },
   "source": [
    "## 2. Setup your run directory and initialize your model object\n",
    "Note we are are just copying in the slope files and the solid file. We don't need the CLM inputs, presure file or indicator file for this run. "
   ]
  },
  {
   "cell_type": "code",
   "execution_count": 2,
   "id": "c8ce6c81-f3b7-4ed3-8336-afc2e2549a8f",
   "metadata": {},
   "outputs": [
    {
     "name": "stdout",
     "output_type": "stream",
     "text": [
      "/data/exercises/little_washita/outputs/LW_Spinup\n"
     ]
    }
   ],
   "source": [
    "# Name your ParFLow run -- note that all of your output files will have this prefix\n",
    "runname = 'LW_Spinup'\n",
    "\n",
    "# Create a directory in the outputs folder for this run\n",
    "run_dir = get_absolute_path(f'outputs/{runname}')\n",
    "mkdir(run_dir)\n",
    "print(run_dir)\n",
    "\n",
    "# create your Parflow model object. For starters we are just goin to set the file version and the run directory we'll add more later\n",
    "# note that the model will run from the run_dir so all input files should be in the run dir or paths should be specified relative to run_dir\n",
    "model = Run(runname, run_dir)\n",
    "model.FileVersion = 4\n",
    "\n",
    "#copy the model inputs for the simulation into the run directory\n",
    "#NOTE: you dont have to copy everything into the run directory if you don't want, you can also point to input files in other directories in a simulation if you prefer\n",
    "input_dir= os.path.join(os.getcwd(), 'model_inputs')\n",
    "files = ['slopex_LW.pfb', 'slopey_LW.pfb', 'LW.pfsol', 'Indicator_LW_USGS_Bedrock.pfb']\n",
    "for fname in files:\n",
    "    shutil.copy(os.path.join(input_dir,fname), run_dir)"
   ]
  },
  {
   "cell_type": "markdown",
   "id": "84dc1cf7-242d-4a76-9d1d-d1825c6b4096",
   "metadata": {
    "tags": []
   },
   "source": [
    "## 3. Setup the computational grid\n",
    "We are going to go ahead and setup the grid they way we would when we are running full simulations here. Alghough the subsurface properties are not going to matter because we will make it all impermeable. If you prefer you can run your parking lot test with just one layer."
   ]
  },
  {
   "cell_type": "code",
   "execution_count": 3,
   "id": "f39fd2c8-2220-4b8c-9522-89256acfc85b",
   "metadata": {},
   "outputs": [],
   "source": [
    "# Processor topology: This is the way that the problem will be split across processors if you want to run in parallel\n",
    "# The domain is divided in x,y and z dimensions by P, Q and R. The total number of processors is P*Q*R.\n",
    "model.Process.Topology.P = 1\n",
    "model.Process.Topology.Q = 1\n",
    "model.Process.Topology.R = 1\n",
    "\n",
    "#Locate the origin in the domain.\n",
    "model.ComputationalGrid.Lower.X = 0.0\n",
    "model.ComputationalGrid.Lower.Y = 0.0\n",
    "model.ComputationalGrid.Lower.Z = 0.0\n",
    "\n",
    "# Define the size of each grid cell. The length units are the same as those on hydraulic conductivity, here that is meters.\n",
    "model.ComputationalGrid.DX = 1000.0\n",
    "model.ComputationalGrid.DY = 1000.0\n",
    "model.ComputationalGrid.DZ = 200.0\n",
    "\n",
    "# Define the number of grid blocks in the domain.\n",
    "model.ComputationalGrid.NX = 64\n",
    "model.ComputationalGrid.NY = 32\n",
    "model.ComputationalGrid.NZ = 10"
   ]
  },
  {
   "cell_type": "markdown",
   "id": "89d20ce8-fb7d-485c-9f37-3e33a34799df",
   "metadata": {},
   "source": [
    "### 3.2 Geometries\n",
    "\n",
    "In our main simulations we willuse an indicator to define units in the subsurface. here we will make everything uniformly impermable so we just have a solid file input. "
   ]
  },
  {
   "cell_type": "code",
   "execution_count": 4,
   "id": "25504f97-c613-4751-9e26-21f4e6181ff2",
   "metadata": {},
   "outputs": [],
   "source": [
    "#Declare the geometries that you will use for the problem\n",
    "model.GeomInput.Names = \"solid_input indi_input\"\n",
    "\n",
    "#Define the solid_input geometry.  \n",
    "#Note the naming convention here GeomInput.{GeomName}.key\n",
    "model.GeomInput.solid_input.InputType = \"SolidFile\"\n",
    "model.GeomInput.solid_input.GeomNames = \"domain\"\n",
    "model.GeomInput.solid_input.FileName = \"LW.pfsol\"\n",
    "\n",
    "#First set the name for your `Domain` and setup the patches for this domain\n",
    "model.Domain.GeomName = \"domain\"\n",
    "model.Geom.domain.Patches = \"top bottom side\"\n",
    "\n",
    "# Next setup the indicator file geometry\n",
    "model.GeomInput.indi_input.InputType =   \"IndicatorField\"\n",
    "model.GeomInput.indi_input.GeomNames = \"s1 s2 s3 s4 s5 s6 s7 s8 s9 s10 s11 s12 s13 g1 g2 g3 g4 g5 g6 g7 g8 g9 g10\"\n",
    "model.Geom.indi_input.FileName = \"Indicator_LW_USGS_Bedrock.pfb\"\n",
    "\n",
    "model.GeomInput.s1.Value =    1\n",
    "model.GeomInput.s2.Value =    2\n",
    "model.GeomInput.s3.Value =    3\n",
    "model.GeomInput.s4.Value =    4\n",
    "model.GeomInput.s5.Value =    5\n",
    "model.GeomInput.s6.Value =    6\n",
    "model.GeomInput.s7.Value =    7\n",
    "model.GeomInput.s8.Value =    8\n",
    "model.GeomInput.s9.Value =    9\n",
    "model.GeomInput.s10.Value =   10\n",
    "model.GeomInput.s11.Value =   11\n",
    "model.GeomInput.s12.Value =   12\n",
    "model.GeomInput.s13.Value =   13\n",
    "\n",
    "model.GeomInput.g1.Value =    19\n",
    "model.GeomInput.g2.Value =    20\n",
    "model.GeomInput.g3.Value =    21\n",
    "model.GeomInput.g4.Value =    22\n",
    "model.GeomInput.g5.Value =    23\n",
    "model.GeomInput.g6.Value =    24\n",
    "model.GeomInput.g7.Value =    25\n",
    "model.GeomInput.g8.Value =    26\n",
    "model.GeomInput.g9.Value =    27\n",
    "model.GeomInput.g10.Value =    28"
   ]
  },
  {
   "cell_type": "markdown",
   "id": "7956e350-e316-402e-8c1f-9ff6a6358280",
   "metadata": {},
   "source": [
    "### 3.3 Variable ${\\Delta z}$ \n",
    "Here too we don't really need this for our test because we are focusing on the surface but we are keeping our full 3D grid so that we have it setup when we move to more complicated problems."
   ]
  },
  {
   "cell_type": "code",
   "execution_count": 5,
   "id": "de40ec18-e53e-4437-8263-eb8ae490233a",
   "metadata": {},
   "outputs": [],
   "source": [
    "model.Solver.Nonlinear.VariableDz = True\n",
    "model.dzScale.GeomNames = \"domain\"\n",
    "model.dzScale.Type = \"nzList\"\n",
    "model.dzScale.nzListNumber = 10\n",
    "\n",
    "model.Cell._0.dzScale.Value = 5\n",
    "model.Cell._1.dzScale.Value = 0.5\n",
    "model.Cell._2.dzScale.Value = 0.25\n",
    "model.Cell._3.dzScale.Value = 0.125\n",
    "model.Cell._4.dzScale.Value = 0.05\n",
    "model.Cell._5.dzScale.Value = 0.025\n",
    "model.Cell._6.dzScale.Value = 0.005\n",
    "model.Cell._7.dzScale.Value = 0.003\n",
    "model.Cell._8.dzScale.Value = 0.0015\n",
    "model.Cell._9.dzScale.Value = 0.0005"
   ]
  },
  {
   "cell_type": "markdown",
   "id": "557bf4be-eda5-4155-b67a-50aa897b7568",
   "metadata": {},
   "source": [
    "### 3.4 Topographic slopes \n",
    "Next we define topographic slopes and values. This is the main input that we want to test with this script.  Slope files are derived from elevaiton maps and this processing, as well as the resolution of the underlying elevation map, can lead to local sinks and inconsitencies in the drainage network that are non-physical.  "
   ]
  },
  {
   "cell_type": "code",
   "execution_count": 6,
   "id": "95b46b9e-835a-4b0e-8555-8e4d38c99e33",
   "metadata": {},
   "outputs": [],
   "source": [
    "model.TopoSlopesX.Type = \"PFBFile\"\n",
    "model.TopoSlopesX.GeomNames = \"domain\"\n",
    "model.TopoSlopesX.FileName = \"slopex_LW.pfb\"\n",
    "\n",
    "model.TopoSlopesY.Type = \"PFBFile\"\n",
    "model.TopoSlopesY.GeomNames = \"domain\"\n",
    "model.TopoSlopesY.FileName = \"slopey_LW.pfb\""
   ]
  },
  {
   "cell_type": "markdown",
   "id": "931abbab-b04b-4b21-bf12-6608108ae852",
   "metadata": {},
   "source": [
    "## 4. Setup the surface and subsurface properties \n",
    "We are going to setup the subsurface properties using the geometries from the indicator file we read in aabove. \n",
    "\n",
    "NOTE: you can save a lot of lines of python by reading these properties in as a table instead. Refer to the Little_Washita_TableExample.ipynb to see how to do this. \n",
    "\n",
    "### 4.1 Permeability"
   ]
  },
  {
   "cell_type": "code",
   "execution_count": 7,
   "id": "07da4524-711a-4825-81be-28ef61cf5b61",
   "metadata": {},
   "outputs": [],
   "source": [
    "model.Geom.Perm.Names = \"domain s1 s2 s3 s4 s5 s6 s7 s8 s9 s10 s11 s12 s13 g1 g2 g3 g4 g5 g6 g7 g8 g9 g10\"\n",
    "\n",
    "model.Geom.domain.Perm.Type = \"Constant\"\n",
    "model.Geom.domain.Perm.Value = 0.02\n",
    "\n",
    "model.Geom.s1.Perm.Type = \"Constant\"\n",
    "model.Geom.s1.Perm.Value = 0.269022595\n",
    "\n",
    "model.Geom.s2.Perm.Type = \"Constant\"\n",
    "model.Geom.s2.Perm.Value = 0.043630356\n",
    "\n",
    "model.Geom.s3.Perm.Type = \"Constant\"\n",
    "model.Geom.s3.Perm.Value = 0.015841225\n",
    "\n",
    "model.Geom.s4.Perm.Type = \"Constant\"\n",
    "model.Geom.s4.Perm.Value = 0.007582087\n",
    "\n",
    "model.Geom.s5.Perm.Type = \"Constant\"\n",
    "model.Geom.s5.Perm.Value = 0.01818816\n",
    "\n",
    "model.Geom.s6.Perm.Type = \"Constant\"\n",
    "model.Geom.s6.Perm.Value = 0.005009435\n",
    "\n",
    "model.Geom.s7.Perm.Type = \"Constant\"\n",
    "model.Geom.s7.Perm.Value = 0.005492736\n",
    "\n",
    "model.Geom.s8.Perm.Type = \"Constant\"\n",
    "model.Geom.s8.Perm.Value = 0.004675077\n",
    "\n",
    "model.Geom.s9.Perm.Type = \"Constant\"\n",
    "model.Geom.s9.Perm.Value = 0.003386794\n",
    "\n",
    "model.Geom.s10.Perm.Type = \"Constant\"\n",
    "model.Geom.s10.Perm.Value = 0.004783973\n",
    "\n",
    "model.Geom.s11.Perm.Type = \"Constant\"\n",
    "model.Geom.s11.Perm.Value = 0.003979136\n",
    "\n",
    "model.Geom.s12.Perm.Type = \"Constant\"\n",
    "model.Geom.s12.Perm.Value = 0.006162952\n",
    "\n",
    "model.Geom.s13.Perm.Type = \"Constant\"\n",
    "model.Geom.s13.Perm.Value = 0.005009435\n",
    "\n",
    "model.Geom.g1.Perm.Type = \"Constant\"\n",
    "model.Geom.g1.Perm.Value = 5e-3\n",
    "\n",
    "model.Geom.g2.Perm.Type = \"Constant\"\n",
    "model.Geom.g2.Perm.Value = 1e-2\n",
    "\n",
    "model.Geom.g3.Perm.Type = \"Constant\"\n",
    "model.Geom.g3.Perm.Value = 2e-2\n",
    "\n",
    "model.Geom.g4.Perm.Type = \"Constant\"\n",
    "model.Geom.g4.Perm.Value = 3e-2\n",
    "\n",
    "model.Geom.g5.Perm.Type = \"Constant\"\n",
    "model.Geom.g5.Perm.Value = 4e-2\n",
    "\n",
    "model.Geom.g6.Perm.Type = \"Constant\"\n",
    "model.Geom.g6.Perm.Value = 5e-2\n",
    "\n",
    "model.Geom.g7.Perm.Type = \"Constant\"\n",
    "model.Geom.g7.Perm.Value = 6e-2\n",
    "\n",
    "model.Geom.g8.Perm.Type = \"Constant\"\n",
    "model.Geom.g8.Perm.Value = 8e-2\n",
    "\n",
    "model.Geom.g9.Perm.Type = \"Constant\"\n",
    "model.Geom.g9.Perm.Value = 0.1\n",
    "\n",
    "model.Geom.g10.Perm.Type = \"Constant\"\n",
    "model.Geom.g10.Perm.Value = 0.2"
   ]
  },
  {
   "cell_type": "markdown",
   "id": "bd72c896-3f76-4ff9-974b-2db5f78e271f",
   "metadata": {},
   "source": [
    "### 4.2 Permeability tensor"
   ]
  },
  {
   "cell_type": "code",
   "execution_count": 8,
   "id": "6014b2dc-7420-4ed7-af40-ae91576ec1a3",
   "metadata": {},
   "outputs": [],
   "source": [
    "model.Perm.TensorType = \"TensorByGeom\"\n",
    "model.Geom.Perm.TensorByGeom.Names = \"domain\"\n",
    "model.Geom.domain.Perm.TensorValX = 1.0\n",
    "model.Geom.domain.Perm.TensorValY = 1.0\n",
    "model.Geom.domain.Perm.TensorValZ = 1.0"
   ]
  },
  {
   "cell_type": "markdown",
   "id": "2a51417f-425d-43b7-96e1-5144f60653e6",
   "metadata": {},
   "source": [
    "### 4.3  Specific Storage"
   ]
  },
  {
   "cell_type": "code",
   "execution_count": 9,
   "id": "8b14d694-cb6d-43be-817e-f70ee2089cc6",
   "metadata": {},
   "outputs": [],
   "source": [
    "model.SpecificStorage.Type = \"Constant\"\n",
    "model.SpecificStorage.GeomNames = \"domain\"\n",
    "model.Geom.domain.SpecificStorage.Value = 0.0001"
   ]
  },
  {
   "cell_type": "markdown",
   "id": "64a0246a-d66d-4f84-aca7-9c18ba2c47ce",
   "metadata": {},
   "source": [
    "### 4.4 Porosity"
   ]
  },
  {
   "cell_type": "code",
   "execution_count": 10,
   "id": "e4afd223-4ffa-4b1e-b69c-6aa5e1bdeb40",
   "metadata": {},
   "outputs": [],
   "source": [
    "model.Geom.Porosity.GeomNames = \"domain s1 s2 s3 s4 s5 s6 s7 s8 s9 s10 s11 s12 s13\"\n",
    "\n",
    "model.Geom.domain.Porosity.Type = \"Constant\"\n",
    "model.Geom.domain.Porosity.Value = 0.33\n",
    "\n",
    "model.Geom.s1.Porosity.Type = \"Constant\"\n",
    "model.Geom.s1.Porosity.Value = 0.375\n",
    "\n",
    "model.Geom.s2.Porosity.Type = \"Constant\"\n",
    "model.Geom.s2.Porosity.Value = 0.39\n",
    "\n",
    "model.Geom.s3.Porosity.Type = \"Constant\"\n",
    "model.Geom.s3.Porosity.Value = 0.387\n",
    "\n",
    "model.Geom.s4.Porosity.Type = \"Constant\"\n",
    "model.Geom.s4.Porosity.Value = 0.439\n",
    "\n",
    "model.Geom.s5.Porosity.Type = \"Constant\"\n",
    "model.Geom.s5.Porosity.Value = 0.489\n",
    "\n",
    "model.Geom.s6.Porosity.Type = \"Constant\"\n",
    "model.Geom.s6.Porosity.Value = 0.399\n",
    "\n",
    "model.Geom.s7.Porosity.Type = \"Constant\"\n",
    "model.Geom.s7.Porosity.Value = 0.384\n",
    "\n",
    "model.Geom.s8.Porosity.Type = \"Constant\"\n",
    "model.Geom.s8.Porosity.Value = 0.482\n",
    "\n",
    "model.Geom.s9.Porosity.Type = \"Constant\"\n",
    "model.Geom.s9.Porosity.Value = 0.442\n",
    "\n",
    "model.Geom.s10.Porosity.Type = \"Constant\"\n",
    "model.Geom.s10.Porosity.Value = 0.385\n",
    "\n",
    "model.Geom.s11.Porosity.Type = \"Constant\"\n",
    "model.Geom.s11.Porosity.Value = 0.481\n",
    "\n",
    "model.Geom.s12.Porosity.Type = \"Constant\"\n",
    "model.Geom.s12.Porosity.Value = 0.459\n",
    "\n",
    "model.Geom.s13.Porosity.Type = \"Constant\"\n",
    "model.Geom.s13.Porosity.Value = 0.399"
   ]
  },
  {
   "cell_type": "markdown",
   "id": "ccc93873-1578-4393-9d42-4ddab97e37bd",
   "metadata": {},
   "source": [
    "### 4.5 Relative Permeability"
   ]
  },
  {
   "cell_type": "code",
   "execution_count": 11,
   "id": "0efaf94e-1467-42a7-8846-bcb25a4beb4e",
   "metadata": {},
   "outputs": [],
   "source": [
    "model.Phase.RelPerm.Type =              \"VanGenuchten\"\n",
    "model.Phase.RelPerm.GeomNames =     \"domain s1 s2 s3 s4 s5 s6 s7 s8 s9 s10 s11 s12 s13\"\n",
    "\n",
    "model.Geom.domain.RelPerm.Alpha =    1.0\n",
    "model.Geom.domain.RelPerm.N =        3.0\n",
    "\n",
    "model.Geom.s1.RelPerm.Alpha =        3.548\n",
    "model.Geom.s1.RelPerm.N =            4.162\n",
    "\n",
    "model.Geom.s2.RelPerm.Alpha =        3.467\n",
    "model.Geom.s2.RelPerm.N =            2.738\n",
    "\n",
    "model.Geom.s3.RelPerm.Alpha =        2.692\n",
    "model.Geom.s3.RelPerm.N =            2.445\n",
    "\n",
    "model.Geom.s4.RelPerm.Alpha =        0.501\n",
    "model.Geom.s4.RelPerm.N =            2.659\n",
    "\n",
    "model.Geom.s5.RelPerm.Alpha =        0.661\n",
    "model.Geom.s5.RelPerm.N =            2.659\n",
    "\n",
    "model.Geom.s6.RelPerm.Alpha =        1.122\n",
    "model.Geom.s6.RelPerm.N =            2.479\n",
    "\n",
    "model.Geom.s7.RelPerm.Alpha =        2.089\n",
    "model.Geom.s7.RelPerm.N =            2.318\n",
    "\n",
    "model.Geom.s8.RelPerm.Alpha =        0.832\n",
    "model.Geom.s8.RelPerm.N =            2.514\n",
    "\n",
    "model.Geom.s9.RelPerm.Alpha =        1.585\n",
    "model.Geom.s9.RelPerm.N =            2.413\n",
    "\n",
    "model.Geom.s10.RelPerm.Alpha =        3.311\n",
    "model.Geom.s10.RelPerm.N =            2.202\n",
    "\n",
    "model.Geom.s11.RelPerm.Alpha =        1.622\n",
    "model.Geom.s11.RelPerm.N =            2.318\n",
    "\n",
    "model.Geom.s12.RelPerm.Alpha =        1.514\n",
    "model.Geom.s12.RelPerm.N =            2.259\n",
    "\n",
    "model.Geom.s13.RelPerm.Alpha =        1.122\n",
    "model.Geom.s13.RelPerm.N =            2.479"
   ]
  },
  {
   "cell_type": "markdown",
   "id": "dd1aaaec-b74b-45a0-a2e7-63010aa2c9bd",
   "metadata": {
    "tags": []
   },
   "source": [
    "### 4.6 Saturation"
   ]
  },
  {
   "cell_type": "code",
   "execution_count": 12,
   "id": "c85aad10-1f25-4982-8c04-09dd965c53b1",
   "metadata": {},
   "outputs": [],
   "source": [
    "model.Phase.Saturation.Type =             \"VanGenuchten\"\n",
    "model.Phase.Saturation.GeomNames =         \"domain s1 s2 s3 s4 s5 s6 s7 s8 s9 s10 s11 s12 s13\"\n",
    "\n",
    "model.Geom.domain.Saturation.Alpha =        1.0\n",
    "model.Geom.domain.Saturation.N =            3.0\n",
    "model.Geom.domain.Saturation.SRes =         0.001\n",
    "model.Geom.domain.Saturation.SSat =         1.0\n",
    "\n",
    "model.Geom.s1.Saturation.Alpha =        3.548\n",
    "model.Geom.s1.Saturation.N =            4.162\n",
    "model.Geom.s1.Saturation.SRes =         0.0001\n",
    "model.Geom.s1.Saturation.SSat =         1.0\n",
    "\n",
    "model.Geom.s2.Saturation.Alpha =        3.467\n",
    "model.Geom.s2.Saturation.N =            2.738\n",
    "model.Geom.s2.Saturation.SRes =         0.0001\n",
    "model.Geom.s2.Saturation.SSat =         1.0\n",
    "\n",
    "model.Geom.s3.Saturation.Alpha =        2.692\n",
    "model.Geom.s3.Saturation.N =            2.445\n",
    "model.Geom.s3.Saturation.SRes =         0.0001\n",
    "model.Geom.s3.Saturation.SSat =         1.0\n",
    "\n",
    "model.Geom.s4.Saturation.Alpha =        0.501\n",
    "model.Geom.s4.Saturation.N =            2.659\n",
    "model.Geom.s4.Saturation.SRes =         0.1\n",
    "model.Geom.s4.Saturation.SSat =         1.0\n",
    "\n",
    "model.Geom.s5.Saturation.Alpha =        0.661\n",
    "model.Geom.s5.Saturation.N =            2.659\n",
    "model.Geom.s5.Saturation.SRes =         0.0001\n",
    "model.Geom.s5.Saturation.SSat =         1.0\n",
    "\n",
    "model.Geom.s6.Saturation.Alpha =        1.122\n",
    "model.Geom.s6.Saturation.N =            2.479\n",
    "model.Geom.s6.Saturation.SRes =         0.0001\n",
    "model.Geom.s6.Saturation.SSat =         1.0\n",
    "\n",
    "model.Geom.s7.Saturation.Alpha =        2.089\n",
    "model.Geom.s7.Saturation.N =            2.318\n",
    "model.Geom.s7.Saturation.SRes =         0.0001\n",
    "model.Geom.s7.Saturation.SSat =         1.0\n",
    "\n",
    "model.Geom.s8.Saturation.Alpha =        0.832\n",
    "model.Geom.s8.Saturation.N =            2.514\n",
    "model.Geom.s8.Saturation.SRes =         0.0001\n",
    "model.Geom.s8.Saturation.SSat =         1.0\n",
    "\n",
    "model.Geom.s9.Saturation.Alpha =        1.585\n",
    "model.Geom.s9.Saturation.N =            2.413\n",
    "model.Geom.s9.Saturation.SRes =         0.0001\n",
    "model.Geom.s9.Saturation.SSat =         1.0\n",
    "\n",
    "model.Geom.s10.Saturation.Alpha =        3.311\n",
    "model.Geom.s10.Saturation.N =            2.202\n",
    "model.Geom.s10.Saturation.SRes =         0.0001\n",
    "model.Geom.s10.Saturation.SSat =         1.0\n",
    "\n",
    "model.Geom.s11.Saturation.Alpha =        1.622\n",
    "model.Geom.s11.Saturation.N =            2.318\n",
    "model.Geom.s11.Saturation.SRes =         0.0001\n",
    "model.Geom.s11.Saturation.SSat =         1.0\n",
    "\n",
    "model.Geom.s12.Saturation.Alpha =        1.514\n",
    "model.Geom.s12.Saturation.N =            2.259\n",
    "model.Geom.s12.Saturation.SRes =         0.0001\n",
    "model.Geom.s12.Saturation.SSat =         1.0\n",
    "\n",
    "model.Geom.s13.Saturation.Alpha =        1.122\n",
    "model.Geom.s13.Saturation.N =            2.479\n",
    "model.Geom.s13.Saturation.SRes =         0.0001\n",
    "model.Geom.s13.Saturation.SSat =         1.0"
   ]
  },
  {
   "cell_type": "markdown",
   "id": "5ed96eea-1f61-4060-a44b-750832d63ad7",
   "metadata": {
    "tags": []
   },
   "source": [
    "### 4.7 Manning's coefficient"
   ]
  },
  {
   "cell_type": "code",
   "execution_count": 13,
   "id": "3787eccd-67eb-48b6-8021-a9197f2c4598",
   "metadata": {},
   "outputs": [],
   "source": [
    "model.Mannings.Type = \"Constant\"\n",
    "model.Mannings.GeomNames = \"domain\"\n",
    "model.Mannings.Geom.domain.Value = 0.0000044"
   ]
  },
  {
   "cell_type": "markdown",
   "id": "f65db868-d054-461b-aee5-c1f7794af89f",
   "metadata": {},
   "source": [
    "## 5. Phases contaminants, gravity and wells"
   ]
  },
  {
   "cell_type": "code",
   "execution_count": 14,
   "id": "20dd45e6-6f8d-4b7f-8169-f50e8faf061c",
   "metadata": {},
   "outputs": [],
   "source": [
    "# Phases\n",
    "model.Phase.Names = \"water\"\n",
    "model.Phase.water.Density.Type = \"Constant\"\n",
    "model.Phase.water.Density.Value = 1.0\n",
    "model.Phase.water.Viscosity.Type = \"Constant\"\n",
    "model.Phase.water.Viscosity.Value = 1.0\n",
    "model.Phase.water.Mobility.Type = \"Constant\"\n",
    "model.Phase.water.Mobility.Value = 1.0\n",
    "\n",
    "# Contaminants\n",
    "model.Contaminants.Names = \"\"\n",
    "\n",
    "# Gravity\n",
    "model.Gravity = 1.0\n",
    "\n",
    "#Wells\n",
    "model.Wells.Names = \"\"\n",
    "\n",
    "# Phase Sources\n",
    "model.PhaseSources.water.Type = \"Constant\"\n",
    "model.PhaseSources.water.GeomNames = \"domain\"\n",
    "model.PhaseSources.water.Geom.domain.Value = 0.0"
   ]
  },
  {
   "cell_type": "markdown",
   "id": "61d7a32f-485f-4189-a3f4-6202848702b7",
   "metadata": {},
   "source": [
    "## 6. Timing\n",
    "The units of time are set by the *hydraulic conductivity*, $K$ units $[LT-1]$, in the case our units are *hours*. \n",
    "\n",
    "For spinup we are going to run our simulation for a very long time with a constant rechage forcing across the top boundray. \n",
    "\n",
    "**Run time:** Here we are setting our simulation to run for 10,000,000 hours writing outputs every 100 hours. \n",
    "\n",
    "**Growth Timestep:** When doing spinup simulations we generally use a growth timestep. This allows the model to solve smaller timesteps when its first starting out but to take progressively larger and larger steps as the simulation continues and *hopefully* your problem is converging and getting easier to solve.  In this case we will take an initial time step of 1 hour and the size of that time step will grow exponentially with an exponent of 1.1 up to the max time step size of 100. \n",
    "\n",
    "**Time Cycles:** Since none of our inputs will be changing with time we can just setup a single time cycle called '`constant` with one period called `alltime` that will repeat for the entire simulation (indicated by setting `repeat` to -1). \n"
   ]
  },
  {
   "cell_type": "code",
   "execution_count": 15,
   "id": "27a7cee8-552b-4d0a-b8ed-a6f37fedeaca",
   "metadata": {},
   "outputs": [],
   "source": [
    "# Time units ans start and stop times\n",
    "model.TimingInfo.BaseUnit = 1.0\n",
    "model.TimingInfo.StartCount = 0\n",
    "model.TimingInfo.StartTime = 0.0\n",
    "model.TimingInfo.StopTime = 10000000.0\n",
    "model.TimingInfo.DumpInterval = 100.0\n",
    "\n",
    "# Growth timestep properties\n",
    "model.TimeStep.Type = \"Growth\"\n",
    "model.TimeStep.InitialStep = 1.0\n",
    "model.TimeStep.GrowthFactor = 1.1\n",
    "model.TimeStep.MaxStep = 100\n",
    "model.TimeStep.MinStep = 1\n",
    "\n",
    "#Time cycles\n",
    "model.Cycle.Names =\"constant\"\n",
    "model.Cycle.constant.Names = \"alltime\"\n",
    "model.Cycle.constant.alltime.Length = 1\n",
    "model.Cycle.constant.Repeat = -1"
   ]
  },
  {
   "cell_type": "markdown",
   "id": "16dc8ec8-b40d-474b-9ca6-0bdf472511f2",
   "metadata": {},
   "source": [
    "## 7. Boundary and intial conditions\n",
    "\n",
    "### 7.1 Boundary conditions\n",
    "Now, we assign Boundary Conditions for each face (each of the Patches in the domain defined before). Recall the previously stated Patches and associate them with the boundary conditions that follow. The bottom and sides of our domain are all set to no-flow (i.e. constant flux of 0) boundaries. \n",
    "\n",
    "For the top boundary we are going to apply a constant flux that will represent the long term average recharge of the domain. By running with this constant flux for a long period of time we can acheive a steady state groundwater configuraiton that will be the starting point for our later transient simulations. \n",
    "\n",
    "Here we use a negative flux because the z-axis in ParFlow points up so a negative value indicates a downward flux into the top of our model. \n",
    "\n",
    "NOTE1: The units of this flux should be [1/T] so if you have a flux that is [L/T] remember to divide by the thickness of the layer you are applying it to (in this case our top layer).\n",
    "\n",
    "NOTE2: If you don't want to apply the same forcing everywhere in your domain you can use a pfb file to setup a spatially variable flux and read it in like this:\n",
    "```\n",
    "model.Solver.EvapTransFile  = True\n",
    "model.Solver.EvapTrans.FileName = “PmE.flux.pfb“\n",
    "```\n",
    "The PME file you provide should be a 3D file with the same number of layers as your domain. If you just want to apply a flux to the top boundary you can have the values in all the other layers set to 0. Also don't forget if you read this file in you will need to add it to the list of files you distribute before you run your model. "
   ]
  },
  {
   "cell_type": "code",
   "execution_count": 16,
   "id": "e4521562-775c-48a8-bc29-137cdae6d5bd",
   "metadata": {},
   "outputs": [],
   "source": [
    "model.BCPressure.PatchNames = \"top bottom side\"\n",
    "\n",
    "model.Patch.bottom.BCPressure.Type = \"FluxConst\"\n",
    "model.Patch.bottom.BCPressure.Cycle = \"constant\"\n",
    "model.Patch.bottom.BCPressure.alltime.Value = 0.0\n",
    "\n",
    "model.Patch.side.BCPressure.Type = \"FluxConst\"\n",
    "model.Patch.side.BCPressure.Cycle = \"constant\"\n",
    "model.Patch.side.BCPressure.alltime.Value = 0.0\n",
    "\n",
    "model.Patch.top.BCPressure.Type = \"OverlandKinematic\"\n",
    "model.Patch.top.BCPressure.Cycle = \"constant\"\n",
    "model.Patch.top.BCPressure.alltime.Value = -2.1e-5"
   ]
  },
  {
   "cell_type": "markdown",
   "id": "1a3e3f30-8ace-4c5c-9a5f-64aa403b5edf",
   "metadata": {},
   "source": [
    "### 7.2 Initial conditions: water pressure\n",
    "We are going to start our model completely dry by indicating a pressure value of 0 relative to our bottom patch.  Note that this is a subjective choice. Depending on your domain you might converge to your steady groundwater configuration faster by starting your domain completely full or something in the middle.  \n",
    "\n",
    "NOTE 1: The steady state solution you converge to at the end of spinup should be the same regardless of your initial conditions. Changing the initial conditions will just change the number of timesteps it takes your model to get there. \n",
    "\n",
    "NOTE 2: Spinups can take a long time and you may end up needing to change settings at some point and restart your model. You don't have to start from scratch every time though. You can pick up where you left off by setting your initial conditions to the last pressure file output you generated.  An example of that is included in the commented block of code below. You would just want to replace `press.init.pfb` with the name of the pressure file you are wanting to start from and make sure to put that pressure file into your run directory. "
   ]
  },
  {
   "cell_type": "code",
   "execution_count": 17,
   "id": "6bc01bfd-21a1-4583-91cb-7307a68c89e4",
   "metadata": {},
   "outputs": [],
   "source": [
    "# Starting from a constant head values\n",
    "model.ICPressure.Type = \"HydroStaticPatch\"\n",
    "model.ICPressure.GeomNames = \"domain\"\n",
    "model.Geom.domain.ICPressure.Value = 0.0\n",
    "model.Geom.domain.ICPressure.RefGeom = \"domain\"\n",
    "model.Geom.domain.ICPressure.RefPatch = \"bottom\"\n",
    "\n",
    "#Starting from a previous simulation output\n",
    "#model.ICPressure.Type = \"PFBFile\"\n",
    "#model.ICPressure.GeomNames = \"domain\"\n",
    "#model.Geom.domain.ICPressure.RefPatch = \"top\"\n",
    "#model.Geom.domain.ICPressure.FileName = \"press.init.pfb\""
   ]
  },
  {
   "cell_type": "markdown",
   "id": "78b5231d-01e3-41ca-829f-16e835423558",
   "metadata": {},
   "source": [
    "## 8. Solver settings\n",
    "\n",
    "### 8.1 Outputs:\n",
    "Now we specify what outputs we would like written. In this example we specify that we would like to write out CLM variables as well as Pressure and Saturation. However, there are many options for this and you should change these options according to what type of analysis you will be performing on your results. A complete list of print options is provided in § 6.1.32."
   ]
  },
  {
   "cell_type": "code",
   "execution_count": 18,
   "id": "cf3b7c91-c6db-43f7-8ac6-846edc44c4d2",
   "metadata": {},
   "outputs": [],
   "source": [
    "model.Solver.PrintSubsurfData = True\n",
    "model.Solver.PrintPressure = True\n",
    "model.Solver.PrintSaturation = True\n",
    "model.Solver.PrintMask = True\n",
    "model.Solver.PrintVelocities = False"
   ]
  },
  {
   "cell_type": "markdown",
   "id": "0c9adf8a-dd90-43ae-aaf7-ee572240f133",
   "metadata": {},
   "source": [
    "### 8.2 General Solver parameters"
   ]
  },
  {
   "cell_type": "code",
   "execution_count": 19,
   "id": "8c8000e4-c927-422d-8234-7c698a7823ca",
   "metadata": {},
   "outputs": [],
   "source": [
    "# Solver types\n",
    "model.Solver = \"Richards\"\n",
    "model.Solver.TerrainFollowingGrid = True\n",
    "model.Solver.Linear.Preconditioner = \"PFMG\"\n",
    "model.Solver.Linear.Preconditioner.PCMatrixType = \"FullJacobian\"\n",
    "\n",
    "# Exact solution\n",
    "model.KnownSolution = \"NoKnownSolution\"\n",
    "\n",
    "# Solver settings\n",
    "model.Solver.MaxIter = 25000\n",
    "model.Solver.Drop = 1e-20\n",
    "model.Solver.AbsTol = 1e-8\n",
    "\n",
    "model.Solver.MaxConvergenceFailures = 8\n",
    "model.Solver.Nonlinear.MaxIter = 1000\n",
    "model.Solver.Nonlinear.ResidualTol = 1e-6\n",
    "model.Solver.Nonlinear.EtaChoice =  \"EtaConstant\"\n",
    "model.Solver.Nonlinear.EtaValue = 0.001\n",
    "model.Solver.Nonlinear.UseJacobian = True\n",
    "model.Solver.Nonlinear.DerivativeEpsilon = 1e-16\n",
    "model.Solver.Nonlinear.StepTol = 1e-15\n",
    "model.Solver.Nonlinear.Globalization = \"LineSearch\"\n",
    "\n",
    "\n",
    "model.Solver.Linear.KrylovDimension = 70\n",
    "model.Solver.Linear.MaxRestarts = 2"
   ]
  },
  {
   "cell_type": "markdown",
   "id": "a26c8f80-46f4-48b8-95c8-f72017aca919",
   "metadata": {},
   "source": [
    "### 8.3 Solver settings for spinup\n",
    "There are a couple of tricks we can play to get the model to solve faster when we are in spinning it up. \n",
    "\n",
    "**OverlandFlowSpinUp Key:** When it is set to one this key removes any ponded surface water at every time step so that no overland flow occurs. Essentially when this is turned on you have shut off overland flow making the problem easier to solve. Note that this is just a tool to make the problem easier to solve in the beginning and *should not be used for regular simulation*. \n",
    "\n",
    "After you have a model that is well converged with this key turned on you will want to turn this back off by commenting out the line or seting the value to 0 and continuing to run until your streams have formed and you have a steady solution. \n",
    "\n",
    "When you do this make sure that you use the last pressure file from your previous simulation as your initial condition or you will be starting from scratch. "
   ]
  },
  {
   "cell_type": "code",
   "execution_count": 20,
   "id": "392fbed2-19db-4045-b6a9-588069479f48",
   "metadata": {},
   "outputs": [
    {
     "name": "stdout",
     "output_type": "stream",
     "text": [
      "Solver: Field OverlandFlowSpinUp is not part of the expected schema <class 'parflow.tools.database.generated.Solver'>\n"
     ]
    }
   ],
   "source": [
    "model.Solver.OverlandFlowSpinUp = 1"
   ]
  },
  {
   "cell_type": "markdown",
   "id": "d9c002d2-2e5f-4a96-98e2-3069aa33070e",
   "metadata": {},
   "source": [
    "## 9.  Distribute files, write the model and run the simulation"
   ]
  },
  {
   "cell_type": "code",
   "execution_count": 21,
   "id": "e1fbef16-b142-4c84-8341-17a93655e0b7",
   "metadata": {},
   "outputs": [
    {
     "name": "stdout",
     "output_type": "stream",
     "text": [
      "\n",
      "# ==============================================================================\n",
      "# ParFlow directory\n",
      "#  - /usr/local\n",
      "# ParFlow version\n",
      "#  - 3.10.0\n",
      "# Working directory\n",
      "#  - /data/exercises/little_washita/outputs/LW_Spinup\n",
      "# ParFlow database\n",
      "#  - LW_Spinup.pfidb\n",
      "# ==============================================================================\n",
      "\n",
      "\n",
      "# ==============================================================================\n",
      "# ParFlow run failed. ❌ ❌ ❌  Contents of error output file:\n",
      "--------------------------------------------------------------------------------\n",
      "Node 0: Using process grid (1,1,1)\n",
      "Node 0: Unable to add metadata for \"downward shortwave radiation\"; Unhandled CLM Met forcing 0.\n",
      "Node 0: Unable to add metadata for \"downward longwave radiation\"; Unhandled CLM Met forcing 0.\n",
      "Node 0: Unable to add metadata for \"precipitation\"; Unhandled CLM Met forcing 0.\n",
      "Node 0: Unable to add metadata for \"temperature\"; Unhandled CLM Met forcing 0.\n",
      "Node 0: Unable to add metadata for \"wind velocity\"; Unhandled CLM Met forcing 0.\n",
      "Node 0: Unable to add metadata for \"atmospheric pressure\"; Unhandled CLM Met forcing 0.\n",
      "Node 0: Unable to add metadata for \"specific humidity\"; Unhandled CLM Met forcing 0.\n",
      "Node 0: Well Information\n",
      "Node 0: No Wells.\n",
      "\n",
      "--------------------------------------------------------------------------------\n",
      "# ==============================================================================\n",
      "\n"
     ]
    },
    {
     "ename": "SystemExit",
     "evalue": "1",
     "output_type": "error",
     "traceback": [
      "An exception has occurred, use %tb to see the full traceback.\n",
      "\u001b[0;31mSystemExit\u001b[0m\u001b[0;31m:\u001b[0m 1\n"
     ]
    },
    {
     "name": "stderr",
     "output_type": "stream",
     "text": [
      "/usr/local/lib/python3.6/site-packages/IPython/core/interactiveshell.py:3351: UserWarning: To exit: use 'exit', 'quit', or Ctrl-D.\n",
      "  warn(\"To exit: use 'exit', 'quit', or Ctrl-D.\", stacklevel=1)\n"
     ]
    }
   ],
   "source": [
    "#distribute input files\n",
    "#slope files are 2D (i.e. they only have one layer) so you need to set NZ to 1 before you distribute them\n",
    "#Make sure to set it back to your actual NZ before distributing 3D files or running your model\n",
    "model.ComputationalGrid.NZ =1\n",
    "model.dist(\"slopex_LW.pfb\")\n",
    "model.dist(\"slopey_LW.pfb\")\n",
    "\n",
    "model.ComputationalGrid.NZ = 10 #the rest of the inputs should be distributed over 3D space\n",
    "model.dist(\"Indicator_LW_USGS_Bedrock.pfb\")\n",
    "\n",
    "# write\n",
    "model.write()\n",
    "model.write(file_format='yaml')\n",
    "model.write(file_format='json')\n",
    "\n",
    "#run\n",
    "model.run()"
   ]
  }
 ],
 "metadata": {
  "kernelspec": {
   "display_name": "Python 3",
   "language": "python",
   "name": "python3"
  },
  "language_info": {
   "codemirror_mode": {
    "name": "ipython",
    "version": 3
   },
   "file_extension": ".py",
   "mimetype": "text/x-python",
   "name": "python",
   "nbconvert_exporter": "python",
   "pygments_lexer": "ipython3",
   "version": "3.6.8"
  }
 },
 "nbformat": 4,
 "nbformat_minor": 5
}
