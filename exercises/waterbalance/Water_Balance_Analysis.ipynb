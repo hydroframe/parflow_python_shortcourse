{
 "cells": [
  {
   "cell_type": "markdown",
   "metadata": {},
   "source": [
    "# Simulation Analysis\n",
    "\n",
    "\n",
    "### 1. Import Packages\n",
    "Here we will be using the reading and writing tools that come with the ParFlow tools package.  "
   ]
  },
  {
   "cell_type": "code",
   "execution_count": 1,
   "metadata": {},
   "outputs": [
    {
     "name": "stdout",
     "output_type": "stream",
     "text": [
      "/Users/reed/Projects/parflow_python_shortcourse/exercises/waterbalance/wbx\n"
     ]
    }
   ],
   "source": [
    "import xarray as xr\n",
    "import numpy as np\n",
    "import os\n",
    "from glob import glob\n",
    "import matplotlib.pyplot as plt\n",
    "\n",
    "import parflow as pf\n",
    "from parflow.tools.fs import get_absolute_path\n",
    "from parflow.tools.io import write_pfb, read_pfb\n",
    "from parflow import Run\n",
    "import parflow.tools.hydrology as hydro\n",
    "\n",
    "#setting the directory name that we will read our outputs from\n",
    "run_name = 'wbx'\n",
    "run_dir=''\n",
    "run_dir = get_absolute_path(run_name)\n",
    "print(run_dir)"
   ]
  },
  {
   "cell_type": "markdown",
   "metadata": {},
   "source": [
    "####  2. Read in the domain properties\n",
    "First we will load the run from the pfidb file and get the properties using the [data_accessor](https://parflow-docs.readthedocs.io/en/latest/tutorials/data_accessor.html?highlight=data_accessor) and by reading out the keys we need from the model object. \n"
   ]
  },
  {
   "cell_type": "code",
   "execution_count": 94,
   "metadata": {},
   "outputs": [
    {
     "name": "stdout",
     "output_type": "stream",
     "text": [
      "20 30 30 30 10.0 10.0 0.05\n"
     ]
    }
   ],
   "source": [
    "run = Run.from_definition(f'{run_dir}/{run_name}.pfidb')\n",
    "data = run.data_accessor\n",
    "nt = len(data.times)\n",
    "nx = data.shape[2]\n",
    "ny = data.shape[1]\n",
    "nz = data.shape[0]\n",
    "dx = data.dx\n",
    "dy = data.dy\n",
    "dz = data.dz\n",
    "\n",
    "print(nt,nx,ny,nz,dx,dy,dz[0])\n",
    "\n",
    "porosity = data.computed_porosity \n",
    "specific_storage = data.specific_storage \n",
    "mannings = run.Mannings.Geom.domain.Value\n",
    "\n",
    "## remove input filenames for TopoSlopes to force the data accessor to read the output slopes\n",
    "run.TopoSlopesX.FileName = None\n",
    "run.TopoSlopesY.FileName = None\n",
    "\n",
    "slopex = data.slope_x \n",
    "slopey = data.slope_y \n",
    "mask = data.mask\n",
    "\n",
    "# formatting the mask so that values outside the domain are NA and inside the domain are 1\n",
    "nanmask=mask.copy()\n",
    "nanmask[nanmask == 0] = 'NaN'\n",
    "nanmask[nanmask > 0] = 1"
   ]
  },
  {
   "cell_type": "markdown",
   "metadata": {},
   "source": [
    "#### 4. Read the simulation output files\n"
   ]
  },
  {
   "cell_type": "code",
   "execution_count": 95,
   "metadata": {},
   "outputs": [
    {
     "name": "stdout",
     "output_type": "stream",
     "text": [
      "(20, 30, 30, 30)\n",
      "(20,)\n"
     ]
    }
   ],
   "source": [
    "#list all pressure files from outputs\n",
    "press_files = glob(f'{run_dir}/*out.press*.pfb')\n",
    "#print(lw_press_files)\n",
    "#read in all pressure files into a 3D NParray\n",
    "pressure_arrays = pf.read_pfb_sequence(press_files) * nanmask\n",
    "\n",
    "#list all saturation files from outputs\n",
    "satur_files = glob(f'{run_dir}/*out.satur*.pfb')\n",
    "#read in all pressure files into a 3D NParray\n",
    "saturation_arrays = pf.read_pfb_sequence(satur_files) * nanmask\n",
    "\n",
    "#list all evaptrans files from outputs\n",
    "evaptrans_files = glob(f'{run_dir}/*out.evaptrans*.pfb')\n",
    "#read in all pressure files into a 3D NParray\n",
    "evaptrans_arrays = pf.read_pfb_sequence(evaptrans_files) * nanmask * dx*dx*dz[0]\n",
    "\n",
    "#list all overland sum files from outputs\n",
    "overlandsum_files = glob(f'{run_dir}/*out.overlandsum*.pfb')\n",
    "#read in all outflow files into a 3D NParray\n",
    "overlandsum_arrays = pf.read_pfb_sequence(overlandsum_files) * nanmask \n",
    "overlandflow_out = np.sum(overlandsum_arrays,axis=(1,2,3))\n",
    "print(np.shape(overlandsum_arrays))\n",
    "print(np.shape(overlandflow_out))"
   ]
  },
  {
   "cell_type": "markdown",
   "metadata": {},
   "source": [
    "#### 5. Calculate water balance\n",
    "We will be using the hydrology tools to calculate the water balance. You can find more information on that [here](https://parflow-docs.readthedocs.io/en/latest/tutorials/hydrology.html) "
   ]
  },
  {
   "cell_type": "code",
   "execution_count": 104,
   "metadata": {},
   "outputs": [],
   "source": [
    "subsurface_storage = np.zeros(nt)\n",
    "surface_storage = np.zeros(nt)\n",
    "wtd = np.zeros((nt, ny, nx))\n",
    "et = np.zeros(nt)\n",
    "precip=np.zeros(nt)\n",
    "overland_flow = np.zeros((nt, ny, nx))\n",
    "data.time = 0\n",
    "\n",
    "\n",
    "\n",
    "for i in range(nt):\n",
    "    data.time = i\n",
    "    subsurface_storage[i, ...] = np.sum(hydro.calculate_subsurface_storage(porosity, pressure_arrays[i,:,:,:], saturation_arrays[i,:,:,:], data.specific_storage, dx, dy, dz, mask = nanmask),axis=(0, 1, 2))\n",
    "    # total surface storage for this time step is the summation of substorage surface across all x/y slices\n",
    "    surface_storage[i, ...] = np.sum( hydro.calculate_surface_storage(pressure_arrays[i,:,:,:], dx, dy, mask = nanmask),axis=(0, 1))\n",
    "    wtd[i, ...] = hydro.calculate_water_table_depth(data.pressure, data.saturation, dz)\n",
    "    \n",
    "    \n",
    "    #if i != 0:\n",
    "    #    if data.et is not None:\n",
    "    #        # total ET for this time step is the summation of ET values across all x/y/z slices\n",
    "    #        et[i, ...] = np.sum(hydro.calculate_evapotranspiration(data.et, dx, dy, dz, mask = nanmask),axis=(0, 1, 2))\n",
    "\n",
    "    #generate array of rainfall from ParFlow keys\n",
    "    if (i<=run.Cycle.rainrec.r0.Length):\n",
    "        precip[i]=-(run.Patch.z_upper.BCPressure.r0.Value)*(nx*dx)*(ny*dy)*run.TimeStep.Value  #  m/h over domain\n",
    "    #run.Cycle.rainrec.r1.Length\n",
    "    #run.Patch.z_upper.BCPressure.r1.Value\n",
    "\n",
    "    overland_flow[i, ...] = hydro.calculate_overland_flow_grid(pressure_arrays[i,:,:], slopex, slopey, data.mannings, dx, dy, mask = nanmask, flow_method='OverlandFlow')"
   ]
  },
  {
   "cell_type": "markdown",
   "metadata": {
    "tags": []
   },
   "source": [
    "### Plot Static maps of the simulation outputs"
   ]
  },
  {
   "cell_type": "code",
   "execution_count": 101,
   "metadata": {},
   "outputs": [
    {
     "name": "stdout",
     "output_type": "stream",
     "text": [
      "(20, 30, 30)\n",
      "(21, 30, 30, 30)\n"
     ]
    },
    {
     "data": {
      "image/png": "[encoded data removed]",
      "text/plain": [
       "<Figure size 432x288 with 1 Axes>"
      ]
     },
     "metadata": {
      "needs_background": "light"
     },
     "output_type": "display_data"
    },
    {
     "data": {
      "image/png": "[encoded data removed]",
      "text/plain": [
       "<Figure size 432x288 with 1 Axes>"
      ]
     },
     "metadata": {
      "needs_background": "light"
     },
     "output_type": "display_data"
    },
    {
     "name": "stdout",
     "output_type": "stream",
     "text": [
      "('eflx_lh_tot', 'eflx_lwrad_out', 'eflx_sh_tot', 'eflx_soil_grnd', 'qflx_evap_tot', 'qflx_evap_grnd', 'qflx_evap_soi', 'qflx_evap_veg', 'qflx_tran_veg', 'qflx_infl', 'swe_out', 't_grnd', 'qflx_qirr', 't_soil')\n"
     ]
    }
   ],
   "source": [
    "print(np.shape(overland_flow))\n",
    "print(np.shape(pressure_arrays))\n",
    "\n",
    "plt.imshow(overland_flow[10,:,:], cmap=\"Blues\", origin='lower')\n",
    "plt.show()\n",
    "plt.imshow(wtd[10,:,:], cmap=\"Blues_r\", origin='lower')\n",
    "plt.show()\n",
    "\n",
    "#print out all CLM variables avilable\n",
    "print(data.clm_output_variables)\n",
    "# set time\n",
    "data.time = 20\n",
    "# fileter out inactive cells\n"
   ]
  },
  {
   "cell_type": "markdown",
   "metadata": {},
   "source": [
    "### plotting components of water balance"
   ]
  },
  {
   "cell_type": "code",
   "execution_count": 105,
   "metadata": {},
   "outputs": [
    {
     "data": {
      "image/png": "[encoded data removed]",
      "text/plain": [
       "<Figure size 432x288 with 6 Axes>"
      ]
     },
     "metadata": {
      "needs_background": "light"
     },
     "output_type": "display_data"
    }
   ],
   "source": [
    "#plotting components of water balance\n",
    "fig, axs = plt.subplots(6, sharex=True)\n",
    "fig.suptitle('Water Balance')\n",
    "axs[0].plot(subsurface_storage, linewidth=3, color = \"green\")\n",
    "axs[0].set_title(\"Subsurface Storage\")\n",
    "axs[1].plot(surface_storage, linewidth=3, color = \"blue\")\n",
    "axs[1].set_title(\"Surface Storage\")\n",
    "axs[2].plot(et, linewidth=3, color = \"orange\")\n",
    "axs[2].set_title(\"EvapTrans\")\n",
    "axs[3].plot(precip, linewidth=3, color = \"cyan\")\n",
    "axs[3].set_title(\"Precip_BC\")\n",
    "axs[4].plot(overland_flow[:,15,0], linewidth=3, color = \"red\")\n",
    "axs[4].set_title(\"Q\")\n",
    "axs[5].plot(overlandflow_out, linewidth=3, color = \"pink\")\n",
    "axs[5].set_title(\"Total Outflow\")\n",
    "plt.xlabel('Timestep')\n",
    "plt.subplots_adjust(left=0.1,\n",
    "                    bottom=0.1, \n",
    "                    right=0.9, \n",
    "                    top=0.85, \n",
    "                    wspace=0.7, \n",
    "                    hspace=1.0)\n",
    "axs[1].ticklabel_format(axis='y', style='sci', scilimits=(0,0))"
   ]
  },
  {
   "cell_type": "code",
   "execution_count": 106,
   "metadata": {},
   "outputs": [
    {
     "name": "stdout",
     "output_type": "stream",
     "text": [
      "(20,)\n",
      "      SubStorage  SurStorage     OutFlow  Precip  WaterBalance  \\\n",
      "0   20560.456876    0.000000    0.000000   450.0  0.000000e+00   \n",
      "1   20982.288417   20.794750    7.373714   450.0  5.260678e-06   \n",
      "2   21402.542326   32.171313   18.369528   450.0  4.502789e-08   \n",
      "3   21718.769021  130.609445   41.971627   450.0  6.636454e+00   \n",
      "4   22011.154709  218.467091   87.886917   450.0  1.813025e+01   \n",
      "5   22289.701224  277.936502  139.569151   450.0  2.758508e+01   \n",
      "6   22559.550298  312.325491  179.249975   450.0  3.348804e+01   \n",
      "7   22823.369266  331.293314  204.092887   450.0  3.687968e+01   \n",
      "8   23082.672927  342.184491  218.703981   450.0  3.889882e+01   \n",
      "9   23325.351417  361.801752  228.185880   450.0  4.048163e+01   \n",
      "10  23542.862478  398.928364  238.585767   450.0  4.322344e+01   \n",
      "11  23625.715108  205.843131  125.790592     0.0  1.555799e+01   \n",
      "12  23662.709002  112.266299   61.890642     0.0  5.307703e+00   \n",
      "13  23691.573851   55.528888   29.252173     0.0  1.379611e+00   \n",
      "14  23709.670730   24.076601   13.519110     0.0  1.637020e-01   \n",
      "15  23715.440324   11.662488    6.644519     0.0 -1.115670e-08   \n",
      "16  23715.532059    7.927838    3.642917     0.0  2.122414e-06   \n",
      "17  23715.620828    5.679343    2.159725     0.0 -4.982525e-07   \n",
      "18  23715.705766    4.231965    1.362436     0.0 -3.187651e-06   \n",
      "19  23715.787622    3.247358    0.902753     0.0  1.655704e-06   \n",
      "\n",
      "    WaterBalancePercent  \n",
      "0          0.000000e+00  \n",
      "1          2.504717e-08  \n",
      "2          2.100699e-10  \n",
      "3          3.037365e-02  \n",
      "4          8.155897e-02  \n",
      "5          1.222329e-01  \n",
      "6          1.464158e-01  \n",
      "7          1.592754e-01  \n",
      "8          1.660579e-01  \n",
      "9          1.709012e-01  \n",
      "10         1.805355e-01  \n",
      "11         6.528314e-02  \n",
      "12         2.232475e-02  \n",
      "13         5.809597e-03  \n",
      "14         6.897435e-04  \n",
      "15        -4.702092e-11  \n",
      "16         8.946479e-09  \n",
      "17        -2.100443e-09  \n",
      "18        -1.343870e-08  \n",
      "19         6.980486e-09  \n"
     ]
    }
   ],
   "source": [
    "# Sum up and make a table of the water balance\n",
    "import pandas as pd\n",
    "\n",
    "print(np.shape(overlandflow_out))\n",
    "\n",
    "water_balance = np.zeros(20)\n",
    "water_balance_percent = np.zeros(20)\n",
    "outlet_flow = np.zeros(20)\n",
    "\n",
    "for i in range(1, nt):\n",
    "    #print(i)\n",
    "    outlet_flow[i] = (np.sum(overland_flow[i,:,0]))*run.TimeStep.Value\n",
    "    water_balance[i] = (subsurface_storage[i]+surface_storage[i])-(subsurface_storage[i-1]+surface_storage[i-1])-(precip[i]-outlet_flow[i])\n",
    "    water_balance_percent[i] = (water_balance[i]/(subsurface_storage[i]+surface_storage[i]))*100\n",
    "\n",
    "\n",
    "wb = pd.DataFrame({'SubStorage':subsurface_storage, 'SurStorage':surface_storage, 'OutFlow':outlet_flow,'Precip':precip, 'WaterBalance':water_balance, 'WaterBalancePercent':water_balance_percent})\n",
    "\n",
    "print(wb)\n"
   ]
  }
 ],
 "metadata": {
  "interpreter": {
   "hash": "bfd746d4848bf981c82532630a55f3a74e1446f086dd0b6f2fbf64277693fa68"
  },
  "kernelspec": {
   "display_name": "Python 3",
   "language": "python",
   "name": "python3"
  },
  "language_info": {
   "codemirror_mode": {
    "name": "ipython",
    "version": 3
   },
   "file_extension": ".py",
   "mimetype": "text/x-python",
   "name": "python",
   "nbconvert_exporter": "python",
   "pygments_lexer": "ipython3",
   "version": "3.9.13"
  }
 },
 "nbformat": 4,
 "nbformat_minor": 4
}
