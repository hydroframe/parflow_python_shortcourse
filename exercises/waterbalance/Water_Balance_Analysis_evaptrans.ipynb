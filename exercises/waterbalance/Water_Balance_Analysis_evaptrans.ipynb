{
 "cells": [
  {
   "cell_type": "markdown",
   "metadata": {},
   "source": [
    "# Simulation Analysis\n",
    "\n",
    "\n",
    "### 1. Import Packages\n",
    "Here we will be using the reading and writing tools that come with the ParFlow tools package.  "
   ]
  },
  {
   "cell_type": "code",
   "execution_count": 1,
   "metadata": {},
   "outputs": [
    {
     "name": "stdout",
     "output_type": "stream",
     "text": [
      "/Users/reed/Projects/parflow_python_shortcourse/exercises/waterbalance/wbx_flux\n"
     ]
    }
   ],
   "source": [
    "import xarray as xr\n",
    "import numpy as np\n",
    "import os\n",
    "from glob import glob\n",
    "import matplotlib.pyplot as plt\n",
    "\n",
    "import parflow as pf\n",
    "from parflow.tools.fs import get_absolute_path\n",
    "from parflow.tools.io import write_pfb, read_pfb\n",
    "from parflow import Run\n",
    "import parflow.tools.hydrology as hydro\n",
    "\n",
    "#setting the directory name that we will read our outputs from\n",
    "run_name = 'wbx_flux'\n",
    "run_dir=''\n",
    "run_dir = get_absolute_path(run_name)\n",
    "print(run_dir)"
   ]
  },
  {
   "cell_type": "markdown",
   "metadata": {},
   "source": [
    "####  2. Read in the domain properties\n",
    "First we will load the run from the pfidb file and get the properties using the [data_accessor](https://parflow-docs.readthedocs.io/en/latest/tutorials/data_accessor.html?highlight=data_accessor) and by reading out the keys we need from the model object. \n"
   ]
  },
  {
   "cell_type": "code",
   "execution_count": 15,
   "metadata": {},
   "outputs": [
    {
     "name": "stdout",
     "output_type": "stream",
     "text": [
      "20 30 30 30 10.0 10.0 0.05\n"
     ]
    }
   ],
   "source": [
    "run = Run.from_definition(f'{run_dir}/{run_name}.pfidb')\n",
    "data = run.data_accessor\n",
    "nt = len(data.times)\n",
    "nx = data.shape[2]\n",
    "ny = data.shape[1]\n",
    "nz = data.shape[0]\n",
    "dx = data.dx\n",
    "dy = data.dy\n",
    "dz = data.dz\n",
    "\n",
    "print(nt,nx,ny,nz,dx,dy,dz[0])\n",
    "\n",
    "porosity = data.computed_porosity \n",
    "specific_storage = data.specific_storage \n",
    "mannings = run.Mannings.Geom.domain.Value\n",
    "\n",
    "## remove input filenames for TopoSlopes to force the data accessor to read the output slopes\n",
    "run.TopoSlopesX.FileName = None\n",
    "run.TopoSlopesY.FileName = None\n",
    "\n",
    "slopex = data.slope_x \n",
    "slopey = data.slope_y \n",
    "mask = data.mask\n",
    "\n",
    "# formatting the mask so that values outside the domain are NA and inside the domain are 1\n",
    "nanmask=mask.copy()\n",
    "nanmask[nanmask == 0] = 'NaN'\n",
    "nanmask[nanmask > 0] = 1"
   ]
  },
  {
   "cell_type": "markdown",
   "metadata": {},
   "source": [
    "#### 4. Read the simulation output files\n"
   ]
  },
  {
   "cell_type": "code",
   "execution_count": 16,
   "metadata": {},
   "outputs": [
    {
     "name": "stdout",
     "output_type": "stream",
     "text": [
      "(20,) (20,)\n",
      "(19,)\n",
      "(20, 30, 30, 30)\n",
      "(20,)\n",
      "[225. 225. 225. 225. 225.   0.   0.   0.   0.   0.   0.   0.   0.   0.\n",
      "   0.   0.   0.   0.   0.   0.]\n",
      "[ 2.26628792  6.8390389  10.77586022 13.08557289 14.16295158  8.43822579\n",
      "  5.08118371  3.14793483  2.01757644  1.33708226  0.91338653  0.6405719\n",
      "  0.45929814  0.33536926  0.24847201  0.18617162  0.14063504  0.10679447\n",
      "  0.08128956  0.06184145]\n"
     ]
    }
   ],
   "source": [
    "overlandflow_out = np.zeros(20)\n",
    "evaptrans_sum = np.zeros(20)\n",
    "\n",
    "print(np.shape(overlandflow_out),np.shape(evaptrans_sum))\n",
    "print(np.shape(overlandflow_out[1:20]))\n",
    "\n",
    "#list all pressure files from outputs\n",
    "press_files = glob(f'{run_dir}/*out.press*.pfb')\n",
    "#print(lw_press_files)\n",
    "#read in all pressure files into a 3D NParray\n",
    "pressure_arrays = pf.read_pfb_sequence(press_files) * nanmask\n",
    "\n",
    "#list all saturation files from outputs\n",
    "satur_files = glob(f'{run_dir}/*out.satur*.pfb')\n",
    "#read in all pressure files into a 3D NParray\n",
    "saturation_arrays = pf.read_pfb_sequence(satur_files) * nanmask\n",
    "\n",
    "#list all evaptrans files from outputs\n",
    "evaptrans_files = glob(f'{run_dir}/*out.evaptrans.*.pfb')\n",
    "#read in all pressure files into a 3D NParray\n",
    "evaptrans_arrays = pf.read_pfb_sequence(evaptrans_files) * nanmask * dx*dx*dz[0]*run.TimeStep.Value\n",
    "evaptrans_sum = np.sum(evaptrans_arrays[:,:,:,:],axis=(1,2,3))\n",
    "print(np.shape(evaptrans_arrays))\n",
    "print(np.shape(evaptrans_sum))\n",
    "\n",
    "#list all overland sum files from outputs\n",
    "overlandsum_files = glob(f'{run_dir}/*out.overlandsum*.pfb')\n",
    "#print(overlandsum_files)\n",
    "#read in all outflow files into a 3D NParray\n",
    "overlandsum_arrays = pf.read_pfb_sequence(overlandsum_files) * nanmask \n",
    "overlandflow_out = np.sum(overlandsum_arrays[:,0,:,:],axis=(1,2))\n",
    "#print(np.shape(overlandsum_arrays))\n",
    "#print(np.shape(overlandflow_out))\n",
    "print(evaptrans_sum)\n",
    "print(overlandflow_out)"
   ]
  },
  {
   "cell_type": "markdown",
   "metadata": {},
   "source": [
    "#### 5. Calculate water balance\n",
    "We will be using the hydrology tools to calculate the water balance. You can find more information on that [here](https://parflow-docs.readthedocs.io/en/latest/tutorials/hydrology.html) "
   ]
  },
  {
   "cell_type": "code",
   "execution_count": 17,
   "metadata": {},
   "outputs": [
    {
     "name": "stdout",
     "output_type": "stream",
     "text": [
      "[225. 225. 225. 225. 225.   0.   0.   0.   0.   0.   0.   0.   0.   0.\n",
      "   0.   0.   0.   0.   0.   0.]\n"
     ]
    }
   ],
   "source": [
    "subsurface_storage = np.zeros(nt)\n",
    "surface_storage = np.zeros(nt)\n",
    "wtd = np.zeros((nt, ny, nx))\n",
    "et = np.zeros(nt)\n",
    "precip=np.zeros(nt+1)\n",
    "\n",
    "overland_flow = np.zeros((nt, ny, nx))\n",
    "data.time = 0\n",
    "\n",
    "precip = evaptrans_sum\n",
    "print(precip)\n",
    "\n",
    "for i in range(nt):\n",
    "    data.time = i\n",
    "    subsurface_storage[i, ...] = np.sum(hydro.calculate_subsurface_storage(porosity, pressure_arrays[i,:,:,:], saturation_arrays[i,:,:,:], data.specific_storage, dx, dy, dz, mask = nanmask),axis=(0, 1, 2))\n",
    "    # total surface storage for this time step is the summation of substorage surface across all x/y slices\n",
    "    surface_storage[i, ...] = np.sum( hydro.calculate_surface_storage(pressure_arrays[i,:,:,:], dx, dy, mask = nanmask),axis=(0, 1))\n",
    "    wtd[i, ...] = hydro.calculate_water_table_depth(data.pressure, data.saturation, dz)\n",
    "    \n",
    "    \n",
    "    #if i != 0:\n",
    "    #    if data.et is not None:\n",
    "    #        # total ET for this time step is the summation of ET values across all x/y/z slices\n",
    "    #        et[i, ...] = np.sum(hydro.calculate_evapotranspiration(data.et, dx, dy, dz, mask = nanmask),axis=(0, 1, 2))\n",
    "\n",
    "    #generate array of rainfall from ParFlow keys\n",
    "    #if (i<=run.Cycle.rainrec.r0.Length):\n",
    "    #    precip[i]=-(run.Patch.z_upper.BCPressure.r0.Value)*(nx*dx)*(ny*dy)*run.TimeStep.Value  #  m/h over domain\n",
    "    #run.Cycle.rainrec.r1.Length\n",
    "    #run.Patch.z_upper.BCPressure.r1.Value\n",
    "\n",
    "    overland_flow[i, ...] = hydro.calculate_overland_flow_grid(pressure_arrays[i,:,:], slopex, slopey, data.mannings, dx, dy, mask = nanmask, flow_method='OverlandFlow')"
   ]
  },
  {
   "cell_type": "markdown",
   "metadata": {
    "tags": []
   },
   "source": [
    "### Plot Static maps of the simulation outputs"
   ]
  },
  {
   "cell_type": "code",
   "execution_count": 18,
   "metadata": {},
   "outputs": [
    {
     "name": "stdout",
     "output_type": "stream",
     "text": [
      "(20, 30, 30)\n",
      "(21, 30, 30, 30)\n"
     ]
    },
    {
     "data": {
      "image/png": "[encoded data removed]",
      "text/plain": [
       "<Figure size 432x288 with 1 Axes>"
      ]
     },
     "metadata": {
      "needs_background": "light"
     },
     "output_type": "display_data"
    },
    {
     "data": {
      "image/png": "[encoded data removed]",
      "text/plain": [
       "<Figure size 432x288 with 1 Axes>"
      ]
     },
     "metadata": {
      "needs_background": "light"
     },
     "output_type": "display_data"
    },
    {
     "name": "stdout",
     "output_type": "stream",
     "text": [
      "('eflx_lh_tot', 'eflx_lwrad_out', 'eflx_sh_tot', 'eflx_soil_grnd', 'qflx_evap_tot', 'qflx_evap_grnd', 'qflx_evap_soi', 'qflx_evap_veg', 'qflx_tran_veg', 'qflx_infl', 'swe_out', 't_grnd', 'qflx_qirr', 't_soil')\n"
     ]
    }
   ],
   "source": [
    "print(np.shape(overland_flow))\n",
    "print(np.shape(pressure_arrays))\n",
    "\n",
    "plt.imshow(overland_flow[10,:,:], cmap=\"Blues\", origin='lower')\n",
    "plt.show()\n",
    "plt.imshow(overlandsum_arrays[10,0,:,:], cmap=\"Blues_r\", origin='lower')\n",
    "plt.show()\n",
    "\n",
    "#print out all CLM variables avilable\n",
    "print(data.clm_output_variables)\n",
    "# set time\n",
    "data.time = 20\n",
    "# fileter out inactive cells\n"
   ]
  },
  {
   "cell_type": "markdown",
   "metadata": {},
   "source": [
    "### plotting components of water balance"
   ]
  },
  {
   "cell_type": "code",
   "execution_count": 19,
   "metadata": {},
   "outputs": [
    {
     "data": {
      "image/png": "[encoded data removed]",
      "text/plain": [
       "<Figure size 432x288 with 6 Axes>"
      ]
     },
     "metadata": {
      "needs_background": "light"
     },
     "output_type": "display_data"
    }
   ],
   "source": [
    "#plotting components of water balance\n",
    "fig, axs = plt.subplots(6, sharex=True)\n",
    "fig.suptitle('Water Balance')\n",
    "axs[0].plot(subsurface_storage, linewidth=3, color = \"green\")\n",
    "axs[0].set_title(\"Subsurface Storage\")\n",
    "axs[1].plot(surface_storage, linewidth=3, color = \"blue\")\n",
    "axs[1].set_title(\"Surface Storage\")\n",
    "axs[2].plot(et, linewidth=3, color = \"orange\")\n",
    "axs[2].set_title(\"EvapTrans\")\n",
    "axs[3].plot(precip, linewidth=3, color = \"cyan\")\n",
    "axs[3].set_title(\"Precip_BC\")\n",
    "axs[4].plot(overland_flow[:,15,0], linewidth=3, color = \"red\")\n",
    "axs[4].set_title(\"Q\")\n",
    "axs[5].plot(overlandflow_out, linewidth=3, color = \"pink\")\n",
    "axs[5].set_title(\"Total Outflow\")\n",
    "plt.xlabel('Timestep')\n",
    "plt.subplots_adjust(left=0.1,\n",
    "                    bottom=0.1, \n",
    "                    right=0.9, \n",
    "                    top=0.85, \n",
    "                    wspace=0.7, \n",
    "                    hspace=1.0)\n",
    "axs[1].ticklabel_format(axis='y', style='sci', scilimits=(0,0))"
   ]
  },
  {
   "cell_type": "code",
   "execution_count": 20,
   "metadata": {},
   "outputs": [
    {
     "name": "stdout",
     "output_type": "stream",
     "text": [
      "(20,)\n",
      "      SubStorage  SurStorage    OutFlow  Precip  WaterBalance  \\\n",
      "0   20560.456876    0.000000   0.000000   225.0  0.000000e+00   \n",
      "1   20772.288203   10.902385   2.266288   225.0  1.855938e-11   \n",
      "2   20982.541891   18.809658   6.839039   225.0  1.413304e-08   \n",
      "3   21192.764270   22.811419  10.775860   225.0 -7.378276e-11   \n",
      "4   21402.961777   24.528339  13.085573   225.0  7.673862e-13   \n",
      "5   21613.139044   25.188120  14.162952     0.0  3.343246e-10   \n",
      "6   21613.299521   16.589418   8.438226     0.0 -2.223558e-09   \n",
      "7   21613.446340   11.361415   5.081184     0.0  5.251171e-08   \n",
      "8   21613.582020    8.077800   3.147935     0.0 -9.539072e-10   \n",
      "9   21613.708602    5.933642   2.017576     0.0 -2.238305e-08   \n",
      "10  21613.827702    4.477460   1.337082     0.0  3.320055e-11   \n",
      "11  21613.940564    3.451210   0.913387     0.0  5.288658e-12   \n",
      "12  21614.044902    2.706301   0.640572     0.0 -3.198009e-11   \n",
      "13  21614.142886    2.149019   0.459298     0.0 -7.452206e-11   \n",
      "14  21614.234324    1.722212   0.335369     0.0  6.278897e-09   \n",
      "15  21614.319364    1.388700   0.248472     0.0  9.014536e-09   \n",
      "16  21614.398255    1.123637   0.186172     0.0 -6.114205e-09   \n",
      "17  21614.471280    0.909977   0.140635     0.0  2.565698e-12   \n",
      "18  21614.538722    0.735740   0.106794     0.0 -6.864051e-11   \n",
      "19  21614.600849    0.592324   0.081290     0.0 -3.020181e-09   \n",
      "\n",
      "    WaterBalancePercent  \n",
      "0          0.000000e+00  \n",
      "1          8.929994e-14  \n",
      "2          6.729584e-11  \n",
      "3         -3.477764e-13  \n",
      "4          3.581316e-15  \n",
      "5          1.545057e-12  \n",
      "6         -1.028003e-11  \n",
      "7          2.428309e-10  \n",
      "8         -4.411813e-12  \n",
      "9         -1.035311e-10  \n",
      "10         1.535761e-13  \n",
      "11         2.446483e-14  \n",
      "12        -1.479412e-13  \n",
      "13        -3.447495e-13  \n",
      "14         2.904751e-11  \n",
      "15         4.170363e-11  \n",
      "16        -2.828618e-11  \n",
      "17         1.186978e-14  \n",
      "18        -3.175556e-13  \n",
      "19        -1.397249e-11  \n",
      "      PFTools    ParFlow\n",
      "0    0.000000   2.266288\n",
      "1    2.266288   6.839039\n",
      "2    6.839039  10.775860\n",
      "3   10.775860  13.085573\n",
      "4   13.085573  14.162952\n",
      "5   14.162952   8.438226\n",
      "6    8.438226   5.081184\n",
      "7    5.081184   3.147935\n",
      "8    3.147935   2.017576\n",
      "9    2.017576   1.337082\n",
      "10   1.337082   0.913387\n",
      "11   0.913387   0.640572\n",
      "12   0.640572   0.459298\n",
      "13   0.459298   0.335369\n",
      "14   0.335369   0.248472\n",
      "15   0.248472   0.186172\n",
      "16   0.186172   0.140635\n",
      "17   0.140635   0.106794\n",
      "18   0.106794   0.081290\n",
      "19   0.081290   0.061841\n"
     ]
    }
   ],
   "source": [
    "# Sum up and make a table of the water balance\n",
    "import pandas as pd\n",
    "\n",
    "print(np.shape(overlandflow_out))\n",
    "\n",
    "water_balance = np.zeros(20)\n",
    "water_balance_percent = np.zeros(20)\n",
    "outlet_flow = np.zeros(20)\n",
    "outlet_flow2 = np.zeros(20)\n",
    "\n",
    "for i in range(1, nt):\n",
    "    #print(i)\n",
    "    outlet_flow[i] = (np.sum(overland_flow[i,:,0]))*run.TimeStep.Value\n",
    "    #outlet_flow2[i]= overlandflow_out[i]\n",
    "    #note that the precip[i-1] value is used (not [i]) since there is no 00000 flux file so all values are shifted by one \n",
    "    water_balance[i] = (subsurface_storage[i]+surface_storage[i])-(subsurface_storage[i-1]+surface_storage[i-1])-(precip[i-1]-outlet_flow[i])\n",
    "    water_balance_percent[i] = (water_balance[i]/(subsurface_storage[i]+surface_storage[i]))*100\n",
    "\n",
    "\n",
    "wb = pd.DataFrame({'SubStorage':subsurface_storage, 'SurStorage':surface_storage, 'OutFlow':outlet_flow,'Precip':precip, 'WaterBalance':water_balance, 'WaterBalancePercent':water_balance_percent})\n",
    "\n",
    "print(wb)\n",
    "outflow = pd.DataFrame({'PFTools':outlet_flow,'ParFlow':overlandflow_out})\n",
    "print(outflow)"
   ]
  }
 ],
 "metadata": {
  "interpreter": {
   "hash": "bfd746d4848bf981c82532630a55f3a74e1446f086dd0b6f2fbf64277693fa68"
  },
  "kernelspec": {
   "display_name": "Python 3",
   "language": "python",
   "name": "python3"
  },
  "language_info": {
   "codemirror_mode": {
    "name": "ipython",
    "version": 3
   },
   "file_extension": ".py",
   "mimetype": "text/x-python",
   "name": "python",
   "nbconvert_exporter": "python",
   "pygments_lexer": "ipython3",
   "version": "3.9.13"
  }
 },
 "nbformat": 4,
 "nbformat_minor": 4
}
